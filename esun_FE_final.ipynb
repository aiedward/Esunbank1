{
 "cells": [
  {
   "cell_type": "code",
   "execution_count": 1,
   "metadata": {},
   "outputs": [],
   "source": [
    "import numpy as np \n",
    "import pandas as pd \n",
    "import matplotlib.pyplot as plt\n",
    "import seaborn as sns\n",
    "%matplotlib inline\n",
    "\n",
    "import datetime as dt\n",
    "from scipy import stats\n",
    "from scipy.stats import norm, skew\n",
    "\n",
    "from sklearn import preprocessing\n",
    "from sklearn.preprocessing import StandardScaler, RobustScaler\n",
    "from sklearn.model_selection import train_test_split,GridSearchCV"
   ]
  },
  {
   "cell_type": "markdown",
   "metadata": {},
   "source": [
    "## Load Data"
   ]
  },
  {
   "cell_type": "code",
   "execution_count": 2,
   "metadata": {},
   "outputs": [],
   "source": [
    "df_cust_info = pd.read_csv(\"../dataset/TBN_CIF.csv\",encoding = \"utf8\") \n",
    "df_cust_behavior = pd.read_csv(\"../dataset/TBN_CUST_BEHAVIOR.csv\",encoding = \"utf8\") \n",
    "df_cust_CC = pd.read_csv(\"../dataset/TBN_CC_APPLY.csv\",encoding = \"utf8\")  #信用卡 權重 X 10\n",
    "df_cust_FX = pd.read_csv(\"../dataset/TBN_FX_TXN.csv\",encoding = \"utf8\")    #外匯 權重 X 1\n",
    "df_cust_LN = pd.read_csv(\"../dataset/TBN_LN_APPLY.csv\",encoding = \"utf8\")  #信貸 權重 X 20\n",
    "df_cust_WM = pd.read_csv(\"../dataset/TBN_WM_TXN.csv\",encoding = \"utf8\")    #信託 權重 X 20\n",
    "df_cust_recent_dt = pd.read_csv(\"../dataset/TBN_RECENT_DT.csv\",encoding = \"utf8\") \n",
    "df_submit = pd.read_csv(\"../dataset/TBN_Y_ZERO.csv\",encoding = \"utf8\") "
   ]
  },
  {
   "cell_type": "markdown",
   "metadata": {},
   "source": [
    "## Customer Data"
   ]
  },
  {
   "cell_type": "code",
   "execution_count": 3,
   "metadata": {},
   "outputs": [],
   "source": [
    "df_cust_info=df_cust_info.fillna(999)"
   ]
  },
  {
   "cell_type": "code",
   "execution_count": 4,
   "metadata": {},
   "outputs": [],
   "source": [
    "df_cust_info['AGE']=df_cust_info['AGE'].astype('category')\n",
    "df_cust_info['GENDER_CODE']=df_cust_info['GENDER_CODE'].astype('category')\n",
    "df_cust_info['CHILDREN_CNT']=df_cust_info['CHILDREN_CNT'].astype('category')\n",
    "df_cust_info['EDU_CODE']=df_cust_info['EDU_CODE'].astype('category')\n",
    "df_cust_info['INCOME_RANGE_CODE']=df_cust_info['INCOME_RANGE_CODE'].astype('category')\n",
    "df_cust_info['WORK_MTHS']=df_cust_info['WORK_MTHS'].astype('category')"
   ]
  },
  {
   "cell_type": "code",
   "execution_count": 5,
   "metadata": {},
   "outputs": [],
   "source": [
    "df_cust_info_ohe = pd.get_dummies(df_cust_info[['GENDER_CODE','AGE','CHILDREN_CNT','EDU_CODE','INCOME_RANGE_CODE','WORK_MTHS']])"
   ]
  },
  {
   "cell_type": "code",
   "execution_count": 6,
   "metadata": {},
   "outputs": [],
   "source": [
    "df_cust_info=pd.concat([df_cust_info, df_cust_info_ohe], axis=1)"
   ]
  },
  {
   "cell_type": "code",
   "execution_count": 7,
   "metadata": {},
   "outputs": [],
   "source": [
    "df_cust_no=df_cust_info[['CUST_NO']].copy()"
   ]
  },
  {
   "cell_type": "code",
   "execution_count": 8,
   "metadata": {},
   "outputs": [],
   "source": [
    "df_cust_info['CUST_YEAR'] = df_cust_info.CUST_START_DT/365 \n",
    "df_cust_info['CUST_YEAR'] = np.where(df_cust_info['CUST_YEAR']<0.002,0.00274,df_cust_info['CUST_YEAR'])"
   ]
  },
  {
   "cell_type": "code",
   "execution_count": 9,
   "metadata": {},
   "outputs": [
    {
     "data": {
      "text/plain": [
       "(count    187679.000000\n",
       " mean       6260.023998\n",
       " std        2385.903856\n",
       " min           0.000000\n",
       " 25%        4296.000000\n",
       " 50%        6747.000000\n",
       " 75%        8367.000000\n",
       " max        9567.000000\n",
       " Name: CUST_START_DT, dtype: float64, count    187679.000000\n",
       " mean         17.150751\n",
       " std           6.536721\n",
       " min           0.002740\n",
       " 25%          11.769863\n",
       " 50%          18.484932\n",
       " 75%          22.923288\n",
       " max          26.210959\n",
       " Name: CUST_YEAR, dtype: float64)"
      ]
     },
     "execution_count": 9,
     "metadata": {},
     "output_type": "execute_result"
    }
   ],
   "source": [
    "df_cust_info.CUST_START_DT.describe(),df_cust_info.CUST_YEAR.describe()"
   ]
  },
  {
   "cell_type": "code",
   "execution_count": 10,
   "metadata": {},
   "outputs": [
    {
     "name": "stdout",
     "output_type": "stream",
     "text": [
      "<class 'pandas.core.frame.DataFrame'>\n",
      "RangeIndex: 187679 entries, 0 to 187678\n",
      "Data columns (total 44 columns):\n",
      "CUST_NO                    187679 non-null object\n",
      "AGE                        187679 non-null category\n",
      "CHILDREN_CNT               187679 non-null category\n",
      "CUST_START_DT              187679 non-null float64\n",
      "EDU_CODE                   187679 non-null category\n",
      "GENDER_CODE                187679 non-null category\n",
      "INCOME_RANGE_CODE          187679 non-null category\n",
      "WORK_MTHS                  187679 non-null category\n",
      "GENDER_CODE_999            187679 non-null uint8\n",
      "GENDER_CODE_F              187679 non-null uint8\n",
      "GENDER_CODE_M              187679 non-null uint8\n",
      "AGE_1                      187679 non-null uint8\n",
      "AGE_2                      187679 non-null uint8\n",
      "AGE_3                      187679 non-null uint8\n",
      "AGE_4                      187679 non-null uint8\n",
      "CHILDREN_CNT_0.0           187679 non-null uint8\n",
      "CHILDREN_CNT_1.0           187679 non-null uint8\n",
      "CHILDREN_CNT_2.0           187679 non-null uint8\n",
      "CHILDREN_CNT_3.0           187679 non-null uint8\n",
      "CHILDREN_CNT_4.0           187679 non-null uint8\n",
      "CHILDREN_CNT_5.0           187679 non-null uint8\n",
      "CHILDREN_CNT_6.0           187679 non-null uint8\n",
      "CHILDREN_CNT_9.0           187679 non-null uint8\n",
      "CHILDREN_CNT_10.0          187679 non-null uint8\n",
      "CHILDREN_CNT_999.0         187679 non-null uint8\n",
      "EDU_CODE_1.0               187679 non-null uint8\n",
      "EDU_CODE_2.0               187679 non-null uint8\n",
      "EDU_CODE_3.0               187679 non-null uint8\n",
      "EDU_CODE_4.0               187679 non-null uint8\n",
      "EDU_CODE_5.0               187679 non-null uint8\n",
      "EDU_CODE_6.0               187679 non-null uint8\n",
      "EDU_CODE_999.0             187679 non-null uint8\n",
      "INCOME_RANGE_CODE_1.0      187679 non-null uint8\n",
      "INCOME_RANGE_CODE_2.0      187679 non-null uint8\n",
      "INCOME_RANGE_CODE_3.0      187679 non-null uint8\n",
      "INCOME_RANGE_CODE_4.0      187679 non-null uint8\n",
      "INCOME_RANGE_CODE_999.0    187679 non-null uint8\n",
      "WORK_MTHS_1.0              187679 non-null uint8\n",
      "WORK_MTHS_2.0              187679 non-null uint8\n",
      "WORK_MTHS_3.0              187679 non-null uint8\n",
      "WORK_MTHS_4.0              187679 non-null uint8\n",
      "WORK_MTHS_5.0              187679 non-null uint8\n",
      "WORK_MTHS_999.0            187679 non-null uint8\n",
      "CUST_YEAR                  187679 non-null float64\n",
      "dtypes: category(6), float64(2), object(1), uint8(35)\n",
      "memory usage: 11.6+ MB\n"
     ]
    }
   ],
   "source": [
    "df_cust_info.info()"
   ]
  },
  {
   "cell_type": "markdown",
   "metadata": {},
   "source": [
    "## Browse URL"
   ]
  },
  {
   "cell_type": "code",
   "execution_count": 11,
   "metadata": {},
   "outputs": [],
   "source": [
    "df_cust_behavior_train=df_cust_behavior[df_cust_behavior.VISITDATE<9538].copy()\n",
    "df_cust_behavior_test =df_cust_behavior[df_cust_behavior.VISITDATE>=9478].copy()"
   ]
  },
  {
   "cell_type": "code",
   "execution_count": 12,
   "metadata": {},
   "outputs": [],
   "source": [
    "df_cust_behavior_train['PAGE1']=df_cust_behavior_train['PAGE'].apply(lambda x: x.replace(\"http://www.esunbank.com.tw/\", \"\"))\n",
    "df_cust_behavior_train['PAGE1']=df_cust_behavior_train['PAGE1'].apply(lambda x: x.replace(\"https://www.esunbank.com.tw/\", \"\")) \n",
    "df_cust_behavior_train['PAGE1']=df_cust_behavior_train['PAGE1'].apply(lambda x: x[0:21])\n",
    "\n",
    "df_cust_behavior_train['PAGE1']=df_cust_behavior_train['PAGE1'].astype('category') \n",
    "df_cust_behavior_train['PAGE_CAT']=df_cust_behavior_train['PAGE1'].cat.codes\n",
    "\n",
    "df_cust_behavior_train['PAGE_OFTEN_CAT']=np.where(df_cust_behavior_train['PAGE_CAT'].isin([25,23,21,19,135,257,3,192,155,9,261,177,69,11,35,252,259,5,196,223,14,210]),df_cust_behavior_train.PAGE_CAT,999)\n",
    "df_cust_behavior_train['PAGE_OFTEN_CAT']=df_cust_behavior_train['PAGE_OFTEN_CAT'].astype('category') \n",
    "df_cust_behavior_train_ohe = pd.get_dummies(df_cust_behavior_train[['PAGE_OFTEN_CAT']])\n",
    "\n",
    "df_cust_behavior_train=pd.concat([df_cust_behavior_train, df_cust_behavior_train_ohe], axis=1)"
   ]
  },
  {
   "cell_type": "code",
   "execution_count": 13,
   "metadata": {},
   "outputs": [],
   "source": [
    "df_cust_page=df_cust_behavior_train[['PAGE','PAGE_OFTEN_CAT']].drop_duplicates()\n",
    "df_cust_behavior_test=pd.merge(left=df_cust_behavior_test, right=df_cust_page, on=[\"PAGE\"], how=\"left\")"
   ]
  },
  {
   "cell_type": "code",
   "execution_count": 14,
   "metadata": {},
   "outputs": [
    {
     "name": "stdout",
     "output_type": "stream",
     "text": [
      "<class 'pandas.core.frame.DataFrame'>\n",
      "Int64Index: 1449418 entries, 0 to 1449417\n",
      "Data columns (total 4 columns):\n",
      "CUST_NO           1449418 non-null object\n",
      "VISITDATE         1449418 non-null int64\n",
      "PAGE              1449418 non-null object\n",
      "PAGE_OFTEN_CAT    1446561 non-null category\n",
      "dtypes: category(1), int64(1), object(2)\n",
      "memory usage: 45.6+ MB\n"
     ]
    }
   ],
   "source": [
    "df_cust_behavior_test.info()"
   ]
  },
  {
   "cell_type": "code",
   "execution_count": 15,
   "metadata": {},
   "outputs": [],
   "source": [
    "df_cust_behavior_test_ohe = pd.get_dummies(df_cust_behavior_test[['PAGE_OFTEN_CAT']])\n",
    "df_cust_behavior_test=pd.concat([df_cust_behavior_test, df_cust_behavior_test_ohe], axis=1)"
   ]
  },
  {
   "cell_type": "code",
   "execution_count": 16,
   "metadata": {},
   "outputs": [],
   "source": [
    "df_cust_behavior_sum=df_cust_behavior_train.groupby('CUST_NO').agg({'PAGE':['count','nunique'],'VISITDATE':['max','min']})\n",
    "df_cust_behavior_sum.columns=['BROWSE_CNT','BROWSE_URL','BROWSE_DATE_MAX','BROWSE_DATE_MIN']\n",
    "df_cust_behavior_sum['CUST_NO']=df_cust_behavior_sum.index"
   ]
  },
  {
   "cell_type": "code",
   "execution_count": 17,
   "metadata": {},
   "outputs": [],
   "source": [
    "df_cust_behavior_test_sum=df_cust_behavior_test.groupby('CUST_NO').agg({'PAGE':['count','nunique'],'VISITDATE':['max','min']})\n",
    "df_cust_behavior_test_sum.columns=['BROWSE_CNT','BROWSE_URL','BROWSE_DATE_MAX','BROWSE_DATE_MIN']\n",
    "df_cust_behavior_test_sum['CUST_NO']=df_cust_behavior_test_sum.index"
   ]
  },
  {
   "cell_type": "code",
   "execution_count": 18,
   "metadata": {},
   "outputs": [],
   "source": [
    "df_cust_behavior_1=df_cust_behavior_train.copy()\n",
    "df_cust_behavior_1=df_cust_behavior_1.drop(['VISITDATE','PAGE','PAGE1','PAGE_CAT'], axis=1) #'PAGE_CAT' 'PAGE_OFTEN_CAT'\n",
    "df_cust_behavior_1_sum=df_cust_behavior_1.groupby('CUST_NO').sum()"
   ]
  },
  {
   "cell_type": "code",
   "execution_count": 19,
   "metadata": {},
   "outputs": [],
   "source": [
    "df_cust_behavior_test_1=df_cust_behavior_test.copy()\n",
    "df_cust_behavior_test_1=df_cust_behavior_test_1.drop(['VISITDATE','PAGE'], axis=1)  # PAGE_OFTEN_CAT\n",
    "df_cust_behavior_test_1_sum=df_cust_behavior_test_1.groupby('CUST_NO').sum()"
   ]
  },
  {
   "cell_type": "code",
   "execution_count": 20,
   "metadata": {},
   "outputs": [
    {
     "name": "stderr",
     "output_type": "stream",
     "text": [
      "C:\\Users\\Anson\\Anaconda3\\lib\\site-packages\\IPython\\core\\interactiveshell.py:2963: FutureWarning: 'CUST_NO' is both an index level and a column label.\n",
      "Defaulting to column, but this will raise an ambiguity error in a future version\n",
      "  exec(code_obj, self.user_global_ns, self.user_ns)\n"
     ]
    }
   ],
   "source": [
    "df_cust_train=pd.merge(left=df_cust_info, right=df_cust_behavior_sum, on=[\"CUST_NO\"], how=\"left\")\n",
    "df_cust_train=pd.merge(left=df_cust_train, right=df_cust_behavior_1_sum, on=[\"CUST_NO\"], how=\"left\")"
   ]
  },
  {
   "cell_type": "code",
   "execution_count": 21,
   "metadata": {},
   "outputs": [],
   "source": [
    "df_cust_info_test=pd.merge(left=df_submit[['CUST_NO']], right=df_cust_info, on=[\"CUST_NO\"], how=\"left\")"
   ]
  },
  {
   "cell_type": "code",
   "execution_count": 22,
   "metadata": {},
   "outputs": [
    {
     "name": "stderr",
     "output_type": "stream",
     "text": [
      "C:\\Users\\Anson\\Anaconda3\\lib\\site-packages\\IPython\\core\\interactiveshell.py:2963: FutureWarning: 'CUST_NO' is both an index level and a column label.\n",
      "Defaulting to column, but this will raise an ambiguity error in a future version\n",
      "  exec(code_obj, self.user_global_ns, self.user_ns)\n"
     ]
    }
   ],
   "source": [
    "df_cust_test=pd.merge(left=df_cust_info_test, right=df_cust_behavior_test_sum, on=[\"CUST_NO\"], how=\"left\") "
   ]
  },
  {
   "cell_type": "code",
   "execution_count": 23,
   "metadata": {},
   "outputs": [],
   "source": [
    "df_cust_test=pd.merge(left=df_cust_test, right=df_cust_behavior_test_1_sum, on=[\"CUST_NO\"], how=\"left\")"
   ]
  },
  {
   "cell_type": "code",
   "execution_count": 24,
   "metadata": {},
   "outputs": [
    {
     "name": "stdout",
     "output_type": "stream",
     "text": [
      "<class 'pandas.core.frame.DataFrame'>\n",
      "Int64Index: 187679 entries, 0 to 187678\n",
      "Data columns (total 71 columns):\n",
      "CUST_NO                    187679 non-null object\n",
      "AGE                        187679 non-null category\n",
      "CHILDREN_CNT               187679 non-null category\n",
      "CUST_START_DT              187679 non-null float64\n",
      "EDU_CODE                   187679 non-null category\n",
      "GENDER_CODE                187679 non-null category\n",
      "INCOME_RANGE_CODE          187679 non-null category\n",
      "WORK_MTHS                  187679 non-null category\n",
      "GENDER_CODE_999            187679 non-null uint8\n",
      "GENDER_CODE_F              187679 non-null uint8\n",
      "GENDER_CODE_M              187679 non-null uint8\n",
      "AGE_1                      187679 non-null uint8\n",
      "AGE_2                      187679 non-null uint8\n",
      "AGE_3                      187679 non-null uint8\n",
      "AGE_4                      187679 non-null uint8\n",
      "CHILDREN_CNT_0.0           187679 non-null uint8\n",
      "CHILDREN_CNT_1.0           187679 non-null uint8\n",
      "CHILDREN_CNT_2.0           187679 non-null uint8\n",
      "CHILDREN_CNT_3.0           187679 non-null uint8\n",
      "CHILDREN_CNT_4.0           187679 non-null uint8\n",
      "CHILDREN_CNT_5.0           187679 non-null uint8\n",
      "CHILDREN_CNT_6.0           187679 non-null uint8\n",
      "CHILDREN_CNT_9.0           187679 non-null uint8\n",
      "CHILDREN_CNT_10.0          187679 non-null uint8\n",
      "CHILDREN_CNT_999.0         187679 non-null uint8\n",
      "EDU_CODE_1.0               187679 non-null uint8\n",
      "EDU_CODE_2.0               187679 non-null uint8\n",
      "EDU_CODE_3.0               187679 non-null uint8\n",
      "EDU_CODE_4.0               187679 non-null uint8\n",
      "EDU_CODE_5.0               187679 non-null uint8\n",
      "EDU_CODE_6.0               187679 non-null uint8\n",
      "EDU_CODE_999.0             187679 non-null uint8\n",
      "INCOME_RANGE_CODE_1.0      187679 non-null uint8\n",
      "INCOME_RANGE_CODE_2.0      187679 non-null uint8\n",
      "INCOME_RANGE_CODE_3.0      187679 non-null uint8\n",
      "INCOME_RANGE_CODE_4.0      187679 non-null uint8\n",
      "INCOME_RANGE_CODE_999.0    187679 non-null uint8\n",
      "WORK_MTHS_1.0              187679 non-null uint8\n",
      "WORK_MTHS_2.0              187679 non-null uint8\n",
      "WORK_MTHS_3.0              187679 non-null uint8\n",
      "WORK_MTHS_4.0              187679 non-null uint8\n",
      "WORK_MTHS_5.0              187679 non-null uint8\n",
      "WORK_MTHS_999.0            187679 non-null uint8\n",
      "CUST_YEAR                  187679 non-null float64\n",
      "BROWSE_CNT                 58659 non-null float64\n",
      "BROWSE_URL                 58659 non-null float64\n",
      "BROWSE_DATE_MAX            58659 non-null float64\n",
      "BROWSE_DATE_MIN            58659 non-null float64\n",
      "PAGE_OFTEN_CAT_3           58659 non-null float64\n",
      "PAGE_OFTEN_CAT_5           58659 non-null float64\n",
      "PAGE_OFTEN_CAT_9           58659 non-null float64\n",
      "PAGE_OFTEN_CAT_11          58659 non-null float64\n",
      "PAGE_OFTEN_CAT_14          58659 non-null float64\n",
      "PAGE_OFTEN_CAT_19          58659 non-null float64\n",
      "PAGE_OFTEN_CAT_21          58659 non-null float64\n",
      "PAGE_OFTEN_CAT_23          58659 non-null float64\n",
      "PAGE_OFTEN_CAT_25          58659 non-null float64\n",
      "PAGE_OFTEN_CAT_35          58659 non-null float64\n",
      "PAGE_OFTEN_CAT_69          58659 non-null float64\n",
      "PAGE_OFTEN_CAT_135         58659 non-null float64\n",
      "PAGE_OFTEN_CAT_155         58659 non-null float64\n",
      "PAGE_OFTEN_CAT_177         58659 non-null float64\n",
      "PAGE_OFTEN_CAT_192         58659 non-null float64\n",
      "PAGE_OFTEN_CAT_196         58659 non-null float64\n",
      "PAGE_OFTEN_CAT_210         58659 non-null float64\n",
      "PAGE_OFTEN_CAT_223         58659 non-null float64\n",
      "PAGE_OFTEN_CAT_252         58659 non-null float64\n",
      "PAGE_OFTEN_CAT_257         58659 non-null float64\n",
      "PAGE_OFTEN_CAT_259         58659 non-null float64\n",
      "PAGE_OFTEN_CAT_261         58659 non-null float64\n",
      "PAGE_OFTEN_CAT_999         58659 non-null float64\n",
      "dtypes: category(6), float64(29), object(1), uint8(35)\n",
      "memory usage: 51.7+ MB\n"
     ]
    }
   ],
   "source": [
    "df_cust_train.info()#[['CUST_NO','BROWSE_CNT']][df_cust_test.CUST_NO=='QQ-5RC5UBNRYVKTM']"
   ]
  },
  {
   "cell_type": "code",
   "execution_count": 25,
   "metadata": {},
   "outputs": [
    {
     "data": {
      "text/plain": [
       "count    30000.000000\n",
       "mean      9529.197833\n",
       "std         29.923104\n",
       "min       9478.000000\n",
       "25%       9500.000000\n",
       "50%       9540.000000\n",
       "75%       9554.000000\n",
       "max       9567.000000\n",
       "Name: BROWSE_DATE_MIN, dtype: float64"
      ]
     },
     "execution_count": 25,
     "metadata": {},
     "output_type": "execute_result"
    }
   ],
   "source": [
    "df_cust_test.BROWSE_DATE_MIN.describe()#, df_cust_test.BROWSE_DATE_FIRST_DAYS.describe()"
   ]
  },
  {
   "cell_type": "code",
   "execution_count": 26,
   "metadata": {},
   "outputs": [],
   "source": [
    "df_cust_train['BROWSE_DATE_LAST_DAYS']=9538-df_cust_train.BROWSE_DATE_MAX\n",
    "df_cust_train['BROWSE_DATE_FIRST_DAYS']=9538-df_cust_train.BROWSE_DATE_MIN\n",
    "df_cust_test['BROWSE_DATE_LAST_DAYS']=9568-df_cust_test.BROWSE_DATE_MAX\n",
    "df_cust_test['BROWSE_DATE_FIRST_DAYS']=9568-df_cust_test.BROWSE_DATE_MIN"
   ]
  },
  {
   "cell_type": "markdown",
   "metadata": {},
   "source": [
    "# Visualization"
   ]
  },
  {
   "cell_type": "code",
   "execution_count": 27,
   "metadata": {},
   "outputs": [
    {
     "data": {
      "text/plain": [
       "<matplotlib.axes._subplots.AxesSubplot at 0x2468bb32940>"
      ]
     },
     "execution_count": 27,
     "metadata": {},
     "output_type": "execute_result"
    },
    {
     "data": {
      "image/png": "[encoded data removed]",
      "text/plain": [
       "<Figure size 432x288 with 1 Axes>"
      ]
     },
     "metadata": {},
     "output_type": "display_data"
    }
   ],
   "source": [
    "df_cust_WM.TXN_DT.plot.hist(grid=True, bins=120, rwidth=0.9,color='#607c8e')"
   ]
  },
  {
   "cell_type": "code",
   "execution_count": 28,
   "metadata": {},
   "outputs": [
    {
     "data": {
      "text/plain": [
       "<matplotlib.axes._subplots.AxesSubplot at 0x246a73c7e10>"
      ]
     },
     "execution_count": 28,
     "metadata": {},
     "output_type": "execute_result"
    },
    {
     "data": {
      "image/png": "[encoded data removed]",
      "text/plain": [
       "<Figure size 432x288 with 1 Axes>"
      ]
     },
     "metadata": {},
     "output_type": "display_data"
    }
   ],
   "source": [
    "df_cust_LN.TXN_DT.plot.hist(grid=True, bins=120, rwidth=0.9,color='#607c8e') "
   ]
  },
  {
   "cell_type": "code",
   "execution_count": 29,
   "metadata": {},
   "outputs": [
    {
     "data": {
      "text/plain": [
       "<matplotlib.axes._subplots.AxesSubplot at 0x246b346bda0>"
      ]
     },
     "execution_count": 29,
     "metadata": {},
     "output_type": "execute_result"
    },
    {
     "data": {
      "image/png": "[encoded data removed]",
      "text/plain": [
       "<Figure size 432x288 with 1 Axes>"
      ]
     },
     "metadata": {},
     "output_type": "display_data"
    }
   ],
   "source": [
    "df_cust_CC.TXN_DT.plot.hist(grid=True, bins=120, rwidth=0.9,color='#607c8e')"
   ]
  },
  {
   "cell_type": "code",
   "execution_count": 30,
   "metadata": {},
   "outputs": [
    {
     "data": {
      "text/plain": [
       "<matplotlib.axes._subplots.AxesSubplot at 0x246b49c5f28>"
      ]
     },
     "execution_count": 30,
     "metadata": {},
     "output_type": "execute_result"
    },
    {
     "data": {
      "image/png": "[encoded data removed]",
      "text/plain": [
       "<Figure size 432x288 with 1 Axes>"
      ]
     },
     "metadata": {},
     "output_type": "display_data"
    }
   ],
   "source": [
    "df_cust_FX.TXN_DT.plot.hist(grid=True, bins=120, rwidth=0.9,color='#607c8e')"
   ]
  },
  {
   "cell_type": "markdown",
   "metadata": {},
   "source": [
    "## WM Data"
   ]
  },
  {
   "cell_type": "code",
   "execution_count": 31,
   "metadata": {},
   "outputs": [
    {
     "name": "stdout",
     "output_type": "stream",
     "text": [
      "<class 'pandas.core.frame.DataFrame'>\n",
      "RangeIndex: 36763 entries, 0 to 36762\n",
      "Data columns (total 5 columns):\n",
      "CUST_NO             36763 non-null object\n",
      "TXN_DT              36763 non-null int64\n",
      "CUST_RISK_CODE      36676 non-null float64\n",
      "INVEST_TYPE_CODE    36763 non-null int64\n",
      "WM_TXN_AMT          36763 non-null int64\n",
      "dtypes: float64(1), int64(3), object(1)\n",
      "memory usage: 1.4+ MB\n"
     ]
    }
   ],
   "source": [
    "df_cust_WM.info()"
   ]
  },
  {
   "cell_type": "code",
   "execution_count": 32,
   "metadata": {},
   "outputs": [
    {
     "name": "stderr",
     "output_type": "stream",
     "text": [
      "C:\\Users\\Anson\\Anaconda3\\lib\\site-packages\\IPython\\core\\interactiveshell.py:2963: FutureWarning: 'CUST_NO' is both an index level and a column label.\n",
      "Defaulting to column, but this will raise an ambiguity error in a future version\n",
      "  exec(code_obj, self.user_global_ns, self.user_ns)\n"
     ]
    }
   ],
   "source": [
    "df_WM_D0=df_cust_recent_dt[df_cust_recent_dt.WM_RECENT_DT.notnull()].groupby('CUST_NO').agg({'WM_RECENT_DT':'max'})\n",
    "df_WM_D0.columns=['D0_WM_DATE_MAX']\n",
    "df_WM_D0['CUST_NO']=df_WM_D0.index\n",
    "df_WM=pd.merge(left=df_cust_no, right=df_WM_D0, on=[\"CUST_NO\"], how=\"left\")"
   ]
  },
  {
   "cell_type": "code",
   "execution_count": 33,
   "metadata": {},
   "outputs": [],
   "source": [
    " #df_WM_D0[df_WM_D0.D0_WM_CNT!=1].head()"
   ]
  },
  {
   "cell_type": "code",
   "execution_count": 34,
   "metadata": {},
   "outputs": [
    {
     "name": "stderr",
     "output_type": "stream",
     "text": [
      "C:\\Users\\Anson\\Anaconda3\\lib\\site-packages\\ipykernel_launcher.py:2: UserWarning: Boolean Series key will be reindexed to match DataFrame index.\n",
      "  \n"
     ]
    }
   ],
   "source": [
    "df_cust_WM_D90=df_cust_WM[df_cust_WM.TXN_DT>=9448][df_cust_WM.TXN_DT<9538]\n",
    "df_cust_WM_N30=df_cust_WM[df_cust_WM.TXN_DT>=9538][df_cust_WM.TXN_DT<9568]"
   ]
  },
  {
   "cell_type": "code",
   "execution_count": 35,
   "metadata": {},
   "outputs": [],
   "source": [
    "df_WM_D90=df_cust_WM_D90.groupby('CUST_NO').agg({'CUST_NO':'count','TXN_DT':['max','min'],'WM_TXN_AMT':['sum','min','max','std','mean'],'CUST_RISK_CODE':'median','INVEST_TYPE_CODE':'median'})"
   ]
  },
  {
   "cell_type": "code",
   "execution_count": 36,
   "metadata": {},
   "outputs": [],
   "source": [
    "df_WM_D90.columns=['D90_WM_CNT','D90_WM_DATE_MAX','D90_WM_DATE_MIN','D90_WM_AMT_SUM','D90_WM_AMT_MIN','D90_WM_AMT_MAX','D90_WM_AMT_STD','D90_WM_AMT_AVG','D90_WM_CUST_RISK_CODE','D90_WM_CUST_INVEST_TYPE_CODE']"
   ]
  },
  {
   "cell_type": "code",
   "execution_count": 37,
   "metadata": {},
   "outputs": [],
   "source": [
    "df_WM_D90['CUST_NO']=df_WM_D90.index"
   ]
  },
  {
   "cell_type": "code",
   "execution_count": 38,
   "metadata": {},
   "outputs": [],
   "source": [
    "df_WM_D90['WM_DAY_INTERVAL_LAST']=9538-df_WM_D90['D90_WM_DATE_MAX']\n",
    "df_WM_D90['WM_DAY_INTERVAL_FIRST']=9538-df_WM_D90['D90_WM_DATE_MIN']\n",
    "df_WM_D90['WM_DAY_INTERVAL_AVG']=(9538-df_WM_D90['D90_WM_DATE_MIN'])/df_WM_D90['D90_WM_CNT']"
   ]
  },
  {
   "cell_type": "code",
   "execution_count": 39,
   "metadata": {},
   "outputs": [
    {
     "data": {
      "text/html": [
       "<div>\n",
       "<style scoped>\n",
       "    .dataframe tbody tr th:only-of-type {\n",
       "        vertical-align: middle;\n",
       "    }\n",
       "\n",
       "    .dataframe tbody tr th {\n",
       "        vertical-align: top;\n",
       "    }\n",
       "\n",
       "    .dataframe thead th {\n",
       "        text-align: right;\n",
       "    }\n",
       "</style>\n",
       "<table border=\"1\" class=\"dataframe\">\n",
       "  <thead>\n",
       "    <tr style=\"text-align: right;\">\n",
       "      <th></th>\n",
       "      <th>D90_WM_CNT</th>\n",
       "      <th>D90_WM_DATE_MAX</th>\n",
       "      <th>D90_WM_DATE_MIN</th>\n",
       "      <th>D90_WM_AMT_SUM</th>\n",
       "      <th>D90_WM_AMT_MIN</th>\n",
       "      <th>D90_WM_AMT_MAX</th>\n",
       "      <th>D90_WM_AMT_STD</th>\n",
       "      <th>D90_WM_AMT_AVG</th>\n",
       "      <th>D90_WM_CUST_RISK_CODE</th>\n",
       "      <th>D90_WM_CUST_INVEST_TYPE_CODE</th>\n",
       "      <th>CUST_NO</th>\n",
       "      <th>WM_DAY_INTERVAL_LAST</th>\n",
       "      <th>WM_DAY_INTERVAL_FIRST</th>\n",
       "      <th>WM_DAY_INTERVAL_AVG</th>\n",
       "    </tr>\n",
       "    <tr>\n",
       "      <th>CUST_NO</th>\n",
       "      <th></th>\n",
       "      <th></th>\n",
       "      <th></th>\n",
       "      <th></th>\n",
       "      <th></th>\n",
       "      <th></th>\n",
       "      <th></th>\n",
       "      <th></th>\n",
       "      <th></th>\n",
       "      <th></th>\n",
       "      <th></th>\n",
       "      <th></th>\n",
       "      <th></th>\n",
       "      <th></th>\n",
       "    </tr>\n",
       "  </thead>\n",
       "  <tbody>\n",
       "    <tr>\n",
       "      <th>--0PHCW9D_3SAAFS</th>\n",
       "      <td>2</td>\n",
       "      <td>9477</td>\n",
       "      <td>9462</td>\n",
       "      <td>2003080</td>\n",
       "      <td>941590</td>\n",
       "      <td>1061490</td>\n",
       "      <td>84782.103064</td>\n",
       "      <td>1001540.0</td>\n",
       "      <td>3.0</td>\n",
       "      <td>1.0</td>\n",
       "      <td>--0PHCW9D_3SAAFS</td>\n",
       "      <td>61</td>\n",
       "      <td>76</td>\n",
       "      <td>38.00</td>\n",
       "    </tr>\n",
       "    <tr>\n",
       "      <th>--DLGTMNFWJYWXKG</th>\n",
       "      <td>4</td>\n",
       "      <td>9485</td>\n",
       "      <td>9479</td>\n",
       "      <td>2156010</td>\n",
       "      <td>439191</td>\n",
       "      <td>605885</td>\n",
       "      <td>81775.532826</td>\n",
       "      <td>539002.5</td>\n",
       "      <td>4.0</td>\n",
       "      <td>1.0</td>\n",
       "      <td>--DLGTMNFWJYWXKG</td>\n",
       "      <td>53</td>\n",
       "      <td>59</td>\n",
       "      <td>14.75</td>\n",
       "    </tr>\n",
       "    <tr>\n",
       "      <th>--NYXRPESVALBKQ8</th>\n",
       "      <td>2</td>\n",
       "      <td>9490</td>\n",
       "      <td>9466</td>\n",
       "      <td>1935788</td>\n",
       "      <td>505049</td>\n",
       "      <td>1430739</td>\n",
       "      <td>654561.676277</td>\n",
       "      <td>967894.0</td>\n",
       "      <td>4.0</td>\n",
       "      <td>2.0</td>\n",
       "      <td>--NYXRPESVALBKQ8</td>\n",
       "      <td>48</td>\n",
       "      <td>72</td>\n",
       "      <td>36.00</td>\n",
       "    </tr>\n",
       "    <tr>\n",
       "      <th>-0SRY4Q-CASJ2LHS</th>\n",
       "      <td>1</td>\n",
       "      <td>9532</td>\n",
       "      <td>9532</td>\n",
       "      <td>505049</td>\n",
       "      <td>505049</td>\n",
       "      <td>505049</td>\n",
       "      <td>NaN</td>\n",
       "      <td>505049.0</td>\n",
       "      <td>4.0</td>\n",
       "      <td>2.0</td>\n",
       "      <td>-0SRY4Q-CASJ2LHS</td>\n",
       "      <td>6</td>\n",
       "      <td>6</td>\n",
       "      <td>6.00</td>\n",
       "    </tr>\n",
       "    <tr>\n",
       "      <th>-0XO58X64I07YHSS</th>\n",
       "      <td>1</td>\n",
       "      <td>9511</td>\n",
       "      <td>9511</td>\n",
       "      <td>605885</td>\n",
       "      <td>605885</td>\n",
       "      <td>605885</td>\n",
       "      <td>NaN</td>\n",
       "      <td>605885.0</td>\n",
       "      <td>4.0</td>\n",
       "      <td>1.0</td>\n",
       "      <td>-0XO58X64I07YHSS</td>\n",
       "      <td>27</td>\n",
       "      <td>27</td>\n",
       "      <td>27.00</td>\n",
       "    </tr>\n",
       "  </tbody>\n",
       "</table>\n",
       "</div>"
      ],
      "text/plain": [
       "                  D90_WM_CNT  D90_WM_DATE_MAX  D90_WM_DATE_MIN  \\\n",
       "CUST_NO                                                          \n",
       "--0PHCW9D_3SAAFS           2             9477             9462   \n",
       "--DLGTMNFWJYWXKG           4             9485             9479   \n",
       "--NYXRPESVALBKQ8           2             9490             9466   \n",
       "-0SRY4Q-CASJ2LHS           1             9532             9532   \n",
       "-0XO58X64I07YHSS           1             9511             9511   \n",
       "\n",
       "                  D90_WM_AMT_SUM  D90_WM_AMT_MIN  D90_WM_AMT_MAX  \\\n",
       "CUST_NO                                                            \n",
       "--0PHCW9D_3SAAFS         2003080          941590         1061490   \n",
       "--DLGTMNFWJYWXKG         2156010          439191          605885   \n",
       "--NYXRPESVALBKQ8         1935788          505049         1430739   \n",
       "-0SRY4Q-CASJ2LHS          505049          505049          505049   \n",
       "-0XO58X64I07YHSS          605885          605885          605885   \n",
       "\n",
       "                  D90_WM_AMT_STD  D90_WM_AMT_AVG  D90_WM_CUST_RISK_CODE  \\\n",
       "CUST_NO                                                                   \n",
       "--0PHCW9D_3SAAFS    84782.103064       1001540.0                    3.0   \n",
       "--DLGTMNFWJYWXKG    81775.532826        539002.5                    4.0   \n",
       "--NYXRPESVALBKQ8   654561.676277        967894.0                    4.0   \n",
       "-0SRY4Q-CASJ2LHS             NaN        505049.0                    4.0   \n",
       "-0XO58X64I07YHSS             NaN        605885.0                    4.0   \n",
       "\n",
       "                  D90_WM_CUST_INVEST_TYPE_CODE           CUST_NO  \\\n",
       "CUST_NO                                                            \n",
       "--0PHCW9D_3SAAFS                           1.0  --0PHCW9D_3SAAFS   \n",
       "--DLGTMNFWJYWXKG                           1.0  --DLGTMNFWJYWXKG   \n",
       "--NYXRPESVALBKQ8                           2.0  --NYXRPESVALBKQ8   \n",
       "-0SRY4Q-CASJ2LHS                           2.0  -0SRY4Q-CASJ2LHS   \n",
       "-0XO58X64I07YHSS                           1.0  -0XO58X64I07YHSS   \n",
       "\n",
       "                  WM_DAY_INTERVAL_LAST  WM_DAY_INTERVAL_FIRST  \\\n",
       "CUST_NO                                                         \n",
       "--0PHCW9D_3SAAFS                    61                     76   \n",
       "--DLGTMNFWJYWXKG                    53                     59   \n",
       "--NYXRPESVALBKQ8                    48                     72   \n",
       "-0SRY4Q-CASJ2LHS                     6                      6   \n",
       "-0XO58X64I07YHSS                    27                     27   \n",
       "\n",
       "                  WM_DAY_INTERVAL_AVG  \n",
       "CUST_NO                                \n",
       "--0PHCW9D_3SAAFS                38.00  \n",
       "--DLGTMNFWJYWXKG                14.75  \n",
       "--NYXRPESVALBKQ8                36.00  \n",
       "-0SRY4Q-CASJ2LHS                 6.00  \n",
       "-0XO58X64I07YHSS                27.00  "
      ]
     },
     "execution_count": 39,
     "metadata": {},
     "output_type": "execute_result"
    }
   ],
   "source": [
    "df_WM_D90.head()"
   ]
  },
  {
   "cell_type": "code",
   "execution_count": 40,
   "metadata": {},
   "outputs": [
    {
     "name": "stderr",
     "output_type": "stream",
     "text": [
      "C:\\Users\\Anson\\Anaconda3\\lib\\site-packages\\IPython\\core\\interactiveshell.py:2963: FutureWarning: 'CUST_NO' is both an index level and a column label.\n",
      "Defaulting to column, but this will raise an ambiguity error in a future version\n",
      "  exec(code_obj, self.user_global_ns, self.user_ns)\n"
     ]
    }
   ],
   "source": [
    "df_WM=pd.merge(left=df_WM, right=df_WM_D90, on=[\"CUST_NO\"], how=\"left\")"
   ]
  },
  {
   "cell_type": "code",
   "execution_count": 41,
   "metadata": {},
   "outputs": [],
   "source": [
    "df_WM_N30=df_cust_WM_N30.groupby('CUST_NO').agg({'CUST_NO':'count'})"
   ]
  },
  {
   "cell_type": "code",
   "execution_count": 42,
   "metadata": {},
   "outputs": [],
   "source": [
    "df_WM_N30.columns=['N30_WM_CNT']"
   ]
  },
  {
   "cell_type": "code",
   "execution_count": 43,
   "metadata": {},
   "outputs": [],
   "source": [
    "df_WM_N30['CUST_NO']=df_WM_N30.index"
   ]
  },
  {
   "cell_type": "code",
   "execution_count": 44,
   "metadata": {},
   "outputs": [],
   "source": [
    "df_WM_N30['NEXT_WM_APPLY']=np.where(df_WM_N30.N30_WM_CNT.notnull(),1,0)"
   ]
  },
  {
   "cell_type": "code",
   "execution_count": 45,
   "metadata": {},
   "outputs": [
    {
     "name": "stderr",
     "output_type": "stream",
     "text": [
      "C:\\Users\\Anson\\Anaconda3\\lib\\site-packages\\IPython\\core\\interactiveshell.py:2963: FutureWarning: 'CUST_NO' is both an index level and a column label.\n",
      "Defaulting to column, but this will raise an ambiguity error in a future version\n",
      "  exec(code_obj, self.user_global_ns, self.user_ns)\n"
     ]
    }
   ],
   "source": [
    "df_WM=pd.merge(left=df_WM, right=df_WM_N30[['CUST_NO','NEXT_WM_APPLY']], on=[\"CUST_NO\"], how=\"left\")"
   ]
  },
  {
   "cell_type": "code",
   "execution_count": 46,
   "metadata": {},
   "outputs": [],
   "source": [
    "df_train = pd.merge(left=df_cust_train, right=df_WM, on=[\"CUST_NO\"], how=\"left\")"
   ]
  },
  {
   "cell_type": "markdown",
   "metadata": {},
   "source": [
    "## LN Data"
   ]
  },
  {
   "cell_type": "code",
   "execution_count": 47,
   "metadata": {},
   "outputs": [
    {
     "name": "stderr",
     "output_type": "stream",
     "text": [
      "C:\\Users\\Anson\\Anaconda3\\lib\\site-packages\\IPython\\core\\interactiveshell.py:2963: FutureWarning: 'CUST_NO' is both an index level and a column label.\n",
      "Defaulting to column, but this will raise an ambiguity error in a future version\n",
      "  exec(code_obj, self.user_global_ns, self.user_ns)\n"
     ]
    }
   ],
   "source": [
    "df_LN_D0=df_cust_recent_dt[df_cust_recent_dt.LN_RECENT_DT.notnull()].groupby('CUST_NO').agg({'LN_RECENT_DT': 'max' })\n",
    "df_LN_D0.columns=['D0_LN_DATE_MAX']\n",
    "df_LN_D0['CUST_NO']=df_LN_D0.index\n",
    "df_LN=pd.merge(left=df_cust_no, right=df_LN_D0, on=[\"CUST_NO\"], how=\"left\")"
   ]
  },
  {
   "cell_type": "code",
   "execution_count": 48,
   "metadata": {},
   "outputs": [
    {
     "name": "stderr",
     "output_type": "stream",
     "text": [
      "C:\\Users\\Anson\\Anaconda3\\lib\\site-packages\\ipykernel_launcher.py:2: UserWarning: Boolean Series key will be reindexed to match DataFrame index.\n",
      "  \n"
     ]
    }
   ],
   "source": [
    "df_cust_LN_D90=df_cust_LN[df_cust_LN.TXN_DT>=9448][df_cust_LN.TXN_DT<9538]\n",
    "df_cust_LN_N30=df_cust_LN[df_cust_LN.TXN_DT>=9538][df_cust_LN.TXN_DT<9568]"
   ]
  },
  {
   "cell_type": "code",
   "execution_count": 49,
   "metadata": {},
   "outputs": [],
   "source": [
    "df_LN_D90=df_cust_LN_D90.groupby('CUST_NO').agg({'CUST_NO':'count','TXN_DT':['max','min'],'LN_AMT':['sum','min','max','std','mean'],'LN_USE':'max'})\n",
    "df_LN_D90.columns=['D90_LN_CNT','D90_LN_DATE_MAX','D90_LN_DATE_MIN','D90_LN_AMT_SUM','D90_LN_AMT_MIN','D90_LN_AMT_MAX','D90_LN_AMT_STD','D90_LN_AMT_AVG','LN_USE']\n",
    "df_LN_D90['CUST_NO']=df_LN_D90.index "
   ]
  },
  {
   "cell_type": "code",
   "execution_count": 50,
   "metadata": {},
   "outputs": [],
   "source": [
    "df_LN_D90['LN_USE']=np.where(df_LN_D90['LN_USE']=='0Z',70,df_LN_D90['LN_USE'])\n",
    "df_LN_D90[['LN_USE']]=df_LN_D90[['LN_USE']].astype(float)"
   ]
  },
  {
   "cell_type": "code",
   "execution_count": 51,
   "metadata": {},
   "outputs": [],
   "source": [
    "df_LN_D90['LN_DAY_INTERVAL_LAST']=9538-df_LN_D90['D90_LN_DATE_MAX']\n",
    "df_LN_D90['LN_DAY_INTERVAL_FIRST']=9538-df_LN_D90['D90_LN_DATE_MIN']\n",
    "df_LN_D90['LN_DAY_INTERVAL_AVG']=(9538-df_LN_D90['D90_LN_DATE_MIN'])/df_LN_D90['D90_LN_CNT']"
   ]
  },
  {
   "cell_type": "code",
   "execution_count": 52,
   "metadata": {},
   "outputs": [
    {
     "name": "stderr",
     "output_type": "stream",
     "text": [
      "C:\\Users\\Anson\\Anaconda3\\lib\\site-packages\\IPython\\core\\interactiveshell.py:2963: FutureWarning: 'CUST_NO' is both an index level and a column label.\n",
      "Defaulting to column, but this will raise an ambiguity error in a future version\n",
      "  exec(code_obj, self.user_global_ns, self.user_ns)\n"
     ]
    }
   ],
   "source": [
    "df_LN=pd.merge(left=df_LN, right=df_LN_D90, on=[\"CUST_NO\"], how=\"left\")"
   ]
  },
  {
   "cell_type": "code",
   "execution_count": 53,
   "metadata": {},
   "outputs": [
    {
     "name": "stderr",
     "output_type": "stream",
     "text": [
      "C:\\Users\\Anson\\Anaconda3\\lib\\site-packages\\IPython\\core\\interactiveshell.py:2963: FutureWarning: 'CUST_NO' is both an index level and a column label.\n",
      "Defaulting to column, but this will raise an ambiguity error in a future version\n",
      "  exec(code_obj, self.user_global_ns, self.user_ns)\n"
     ]
    }
   ],
   "source": [
    "df_LN_N30=df_cust_LN_N30.groupby('CUST_NO').agg({'CUST_NO':'count'})\n",
    "df_LN_N30.columns=['N30_LN_CNT']\n",
    "df_LN_N30['CUST_NO']=df_LN_N30.index\n",
    "df_LN_N30['NEXT_LN_APPLY']=np.where(df_LN_N30.N30_LN_CNT.notnull(),1,0)\n",
    "df_LN=pd.merge(left=df_LN, right=df_LN_N30[['CUST_NO','NEXT_LN_APPLY']], on=[\"CUST_NO\"], how=\"left\")"
   ]
  },
  {
   "cell_type": "code",
   "execution_count": 54,
   "metadata": {},
   "outputs": [],
   "source": [
    "CM_LN=[ 'D0_LN_DATE_MAX','D90_LN_CNT','D90_LN_DATE_MAX','D90_LN_DATE_MIN','D90_LN_AMT_SUM','D90_LN_AMT_MIN','D90_LN_AMT_MAX','D90_LN_AMT_STD','D90_LN_AMT_AVG','LN_USE','LN_DAY_INTERVAL_LAST','LN_DAY_INTERVAL_AVG','NEXT_LN_APPLY']"
   ]
  },
  {
   "cell_type": "code",
   "execution_count": 55,
   "metadata": {},
   "outputs": [],
   "source": [
    "df_train = pd.merge(left=df_train, right=df_LN, on=[\"CUST_NO\"], how=\"left\")"
   ]
  },
  {
   "cell_type": "markdown",
   "metadata": {},
   "source": [
    "## CC Data"
   ]
  },
  {
   "cell_type": "code",
   "execution_count": 56,
   "metadata": {},
   "outputs": [
    {
     "name": "stderr",
     "output_type": "stream",
     "text": [
      "C:\\Users\\Anson\\Anaconda3\\lib\\site-packages\\IPython\\core\\interactiveshell.py:2963: FutureWarning: 'CUST_NO' is both an index level and a column label.\n",
      "Defaulting to column, but this will raise an ambiguity error in a future version\n",
      "  exec(code_obj, self.user_global_ns, self.user_ns)\n"
     ]
    }
   ],
   "source": [
    "df_CC_D0=df_cust_recent_dt[df_cust_recent_dt.CC_RECENT_DT.notnull()].groupby('CUST_NO').agg({'CC_RECENT_DT':'max'})\n",
    "df_CC_D0.columns=[ 'D0_CC_DATE_MAX' ]\n",
    "df_CC_D0['CUST_NO']=df_CC_D0.index\n",
    "df_CC=pd.merge(left=df_cust_no, right=df_CC_D0, on=[\"CUST_NO\"], how=\"left\")"
   ]
  },
  {
   "cell_type": "code",
   "execution_count": 57,
   "metadata": {},
   "outputs": [
    {
     "name": "stderr",
     "output_type": "stream",
     "text": [
      "C:\\Users\\Anson\\Anaconda3\\lib\\site-packages\\ipykernel_launcher.py:2: UserWarning: Boolean Series key will be reindexed to match DataFrame index.\n",
      "  \n"
     ]
    }
   ],
   "source": [
    "df_cust_CC_D90=df_cust_CC[df_cust_CC.TXN_DT>=9448][df_cust_CC.TXN_DT<9538]\n",
    "df_cust_CC_N30=df_cust_CC[df_cust_CC.TXN_DT>=9538][df_cust_CC.TXN_DT<9568]"
   ]
  },
  {
   "cell_type": "code",
   "execution_count": 58,
   "metadata": {},
   "outputs": [],
   "source": [
    "df_CC_D90=df_cust_CC_D90.groupby('CUST_NO').agg({'CUST_NO':'count','TXN_DT':['max','min']})\n",
    "df_CC_D90.columns=['D90_CC_CNT','D90_CC_DATE_MAX','D90_CC_DATE_MIN']\n",
    "df_CC_D90['CUST_NO']=df_CC_D90.index"
   ]
  },
  {
   "cell_type": "code",
   "execution_count": 59,
   "metadata": {},
   "outputs": [],
   "source": [
    "df_CC_D90['CC_DAY_INTERVAL_LAST']=9538-df_CC_D90['D90_CC_DATE_MAX']\n",
    "df_CC_D90['CC_DAY_INTERVAL_FIRST']=9538-df_CC_D90['D90_CC_DATE_MIN']\n",
    "df_CC_D90['CC_DAY_INTERVAL_AVG']=(9538-df_CC_D90['D90_CC_DATE_MIN'])/df_CC_D90['D90_CC_CNT']"
   ]
  },
  {
   "cell_type": "code",
   "execution_count": 60,
   "metadata": {},
   "outputs": [
    {
     "data": {
      "text/html": [
       "<div>\n",
       "<style scoped>\n",
       "    .dataframe tbody tr th:only-of-type {\n",
       "        vertical-align: middle;\n",
       "    }\n",
       "\n",
       "    .dataframe tbody tr th {\n",
       "        vertical-align: top;\n",
       "    }\n",
       "\n",
       "    .dataframe thead th {\n",
       "        text-align: right;\n",
       "    }\n",
       "</style>\n",
       "<table border=\"1\" class=\"dataframe\">\n",
       "  <thead>\n",
       "    <tr style=\"text-align: right;\">\n",
       "      <th></th>\n",
       "      <th>D90_CC_CNT</th>\n",
       "      <th>D90_CC_DATE_MAX</th>\n",
       "      <th>D90_CC_DATE_MIN</th>\n",
       "      <th>CUST_NO</th>\n",
       "      <th>CC_DAY_INTERVAL_LAST</th>\n",
       "      <th>CC_DAY_INTERVAL_FIRST</th>\n",
       "      <th>CC_DAY_INTERVAL_AVG</th>\n",
       "    </tr>\n",
       "    <tr>\n",
       "      <th>CUST_NO</th>\n",
       "      <th></th>\n",
       "      <th></th>\n",
       "      <th></th>\n",
       "      <th></th>\n",
       "      <th></th>\n",
       "      <th></th>\n",
       "      <th></th>\n",
       "    </tr>\n",
       "  </thead>\n",
       "  <tbody>\n",
       "    <tr>\n",
       "      <th>FUH-LL7LXGM1NCLS</th>\n",
       "      <td>18</td>\n",
       "      <td>9529</td>\n",
       "      <td>9529</td>\n",
       "      <td>FUH-LL7LXGM1NCLS</td>\n",
       "      <td>9</td>\n",
       "      <td>9</td>\n",
       "      <td>0.5</td>\n",
       "    </tr>\n",
       "  </tbody>\n",
       "</table>\n",
       "</div>"
      ],
      "text/plain": [
       "                  D90_CC_CNT  D90_CC_DATE_MAX  D90_CC_DATE_MIN  \\\n",
       "CUST_NO                                                          \n",
       "FUH-LL7LXGM1NCLS          18             9529             9529   \n",
       "\n",
       "                           CUST_NO  CC_DAY_INTERVAL_LAST  \\\n",
       "CUST_NO                                                    \n",
       "FUH-LL7LXGM1NCLS  FUH-LL7LXGM1NCLS                     9   \n",
       "\n",
       "                  CC_DAY_INTERVAL_FIRST  CC_DAY_INTERVAL_AVG  \n",
       "CUST_NO                                                       \n",
       "FUH-LL7LXGM1NCLS                      9                  0.5  "
      ]
     },
     "execution_count": 60,
     "metadata": {},
     "output_type": "execute_result"
    }
   ],
   "source": [
    "df_CC_D90[df_CC_D90.CUST_NO=='FUH-LL7LXGM1NCLS']"
   ]
  },
  {
   "cell_type": "code",
   "execution_count": 61,
   "metadata": {},
   "outputs": [],
   "source": [
    "#df_cust_CC.CUST_NO.value_counts()"
   ]
  },
  {
   "cell_type": "code",
   "execution_count": 62,
   "metadata": {},
   "outputs": [
    {
     "name": "stderr",
     "output_type": "stream",
     "text": [
      "C:\\Users\\Anson\\Anaconda3\\lib\\site-packages\\IPython\\core\\interactiveshell.py:2963: FutureWarning: 'CUST_NO' is both an index level and a column label.\n",
      "Defaulting to column, but this will raise an ambiguity error in a future version\n",
      "  exec(code_obj, self.user_global_ns, self.user_ns)\n"
     ]
    }
   ],
   "source": [
    "df_CC=pd.merge(left=df_CC, right=df_CC_D90, on=[\"CUST_NO\"], how=\"left\")"
   ]
  },
  {
   "cell_type": "code",
   "execution_count": 63,
   "metadata": {},
   "outputs": [],
   "source": [
    "df_CC_N30=df_cust_CC_N30.groupby('CUST_NO').agg({'CUST_NO':'count'})\n",
    "df_CC_N30.columns=['N30_CC_CNT']\n",
    "df_CC_N30['CUST_NO']=df_CC_N30.index\n",
    "df_CC_N30['NEXT_CC_APPLY']=np.where(df_CC_N30.N30_CC_CNT.notnull(),1,0)"
   ]
  },
  {
   "cell_type": "code",
   "execution_count": 64,
   "metadata": {},
   "outputs": [
    {
     "name": "stderr",
     "output_type": "stream",
     "text": [
      "C:\\Users\\Anson\\Anaconda3\\lib\\site-packages\\IPython\\core\\interactiveshell.py:2963: FutureWarning: 'CUST_NO' is both an index level and a column label.\n",
      "Defaulting to column, but this will raise an ambiguity error in a future version\n",
      "  exec(code_obj, self.user_global_ns, self.user_ns)\n"
     ]
    }
   ],
   "source": [
    "df_CC=pd.merge(left=df_CC, right=df_CC_N30[['CUST_NO','NEXT_CC_APPLY']], on=[\"CUST_NO\"], how=\"left\")"
   ]
  },
  {
   "cell_type": "code",
   "execution_count": 65,
   "metadata": {},
   "outputs": [],
   "source": [
    "CM_CC = ['D0_CC_DATE_MAX','D90_CC_CNT','D90_CC_DATE_MAX','D90_CC_DATE_MIN','CC_DAY_INTERVAL_LAST','CC_DAY_INTERVAL_AVG','NEXT_CC_APPLY']"
   ]
  },
  {
   "cell_type": "code",
   "execution_count": 66,
   "metadata": {},
   "outputs": [],
   "source": [
    "df_train = pd.merge(left=df_train, right=df_CC, on=[\"CUST_NO\"], how=\"left\")"
   ]
  },
  {
   "cell_type": "code",
   "execution_count": 67,
   "metadata": {},
   "outputs": [],
   "source": [
    "df_train['NEXT_CC_APPLY']=df_train['NEXT_CC_APPLY'].fillna(0)"
   ]
  },
  {
   "cell_type": "code",
   "execution_count": 68,
   "metadata": {},
   "outputs": [
    {
     "data": {
      "text/html": [
       "<div>\n",
       "<style scoped>\n",
       "    .dataframe tbody tr th:only-of-type {\n",
       "        vertical-align: middle;\n",
       "    }\n",
       "\n",
       "    .dataframe tbody tr th {\n",
       "        vertical-align: top;\n",
       "    }\n",
       "\n",
       "    .dataframe thead th {\n",
       "        text-align: right;\n",
       "    }\n",
       "</style>\n",
       "<table border=\"1\" class=\"dataframe\">\n",
       "  <thead>\n",
       "    <tr style=\"text-align: right;\">\n",
       "      <th></th>\n",
       "      <th>CUST_START_DT</th>\n",
       "      <th>CUST_YEAR</th>\n",
       "      <th>D0_CC_DATE_MAX</th>\n",
       "      <th>NEXT_CC_APPLY</th>\n",
       "    </tr>\n",
       "  </thead>\n",
       "  <tbody>\n",
       "    <tr>\n",
       "      <th>0</th>\n",
       "      <td>2.0</td>\n",
       "      <td>0.005479</td>\n",
       "      <td>NaN</td>\n",
       "      <td>0.0</td>\n",
       "    </tr>\n",
       "    <tr>\n",
       "      <th>1</th>\n",
       "      <td>9393.0</td>\n",
       "      <td>25.734247</td>\n",
       "      <td>NaN</td>\n",
       "      <td>0.0</td>\n",
       "    </tr>\n",
       "    <tr>\n",
       "      <th>2</th>\n",
       "      <td>2912.0</td>\n",
       "      <td>7.978082</td>\n",
       "      <td>NaN</td>\n",
       "      <td>0.0</td>\n",
       "    </tr>\n",
       "    <tr>\n",
       "      <th>3</th>\n",
       "      <td>8332.0</td>\n",
       "      <td>22.827397</td>\n",
       "      <td>NaN</td>\n",
       "      <td>0.0</td>\n",
       "    </tr>\n",
       "    <tr>\n",
       "      <th>4</th>\n",
       "      <td>744.0</td>\n",
       "      <td>2.038356</td>\n",
       "      <td>NaN</td>\n",
       "      <td>0.0</td>\n",
       "    </tr>\n",
       "  </tbody>\n",
       "</table>\n",
       "</div>"
      ],
      "text/plain": [
       "   CUST_START_DT  CUST_YEAR  D0_CC_DATE_MAX  NEXT_CC_APPLY\n",
       "0            2.0   0.005479             NaN            0.0\n",
       "1         9393.0  25.734247             NaN            0.0\n",
       "2         2912.0   7.978082             NaN            0.0\n",
       "3         8332.0  22.827397             NaN            0.0\n",
       "4          744.0   2.038356             NaN            0.0"
      ]
     },
     "execution_count": 68,
     "metadata": {},
     "output_type": "execute_result"
    }
   ],
   "source": [
    "df_train[['CUST_START_DT','CUST_YEAR','D0_CC_DATE_MAX','NEXT_CC_APPLY']][df_train.NEXT_CC_APPLY.notnull()].head()"
   ]
  },
  {
   "cell_type": "markdown",
   "metadata": {},
   "source": [
    "## FX Data"
   ]
  },
  {
   "cell_type": "code",
   "execution_count": 69,
   "metadata": {},
   "outputs": [
    {
     "name": "stderr",
     "output_type": "stream",
     "text": [
      "C:\\Users\\Anson\\Anaconda3\\lib\\site-packages\\IPython\\core\\interactiveshell.py:2963: FutureWarning: 'CUST_NO' is both an index level and a column label.\n",
      "Defaulting to column, but this will raise an ambiguity error in a future version\n",
      "  exec(code_obj, self.user_global_ns, self.user_ns)\n"
     ]
    }
   ],
   "source": [
    "df_FX_D0=df_cust_recent_dt[df_cust_recent_dt.FX_RECENT_DT.notnull()].groupby('CUST_NO').agg({'FX_RECENT_DT':'max'})\n",
    "df_FX_D0.columns=['D0_FX_DATE_MAX']\n",
    "df_FX_D0['CUST_NO']=df_FX_D0.index\n",
    "df_FX=pd.merge(left=df_cust_no, right=df_FX_D0, on=[\"CUST_NO\"], how=\"left\")"
   ]
  },
  {
   "cell_type": "code",
   "execution_count": 70,
   "metadata": {},
   "outputs": [
    {
     "name": "stderr",
     "output_type": "stream",
     "text": [
      "C:\\Users\\Anson\\Anaconda3\\lib\\site-packages\\ipykernel_launcher.py:2: UserWarning: Boolean Series key will be reindexed to match DataFrame index.\n",
      "  \n"
     ]
    }
   ],
   "source": [
    "df_cust_FX_D90=df_cust_FX[df_cust_FX.TXN_DT>=9448][df_cust_FX.TXN_DT<9538]\n",
    "df_cust_FX_N30=df_cust_FX[df_cust_FX.TXN_DT>=9538][df_cust_FX.TXN_DT<9568]"
   ]
  },
  {
   "cell_type": "code",
   "execution_count": 71,
   "metadata": {},
   "outputs": [],
   "source": [
    "df_LN_D90=df_cust_LN_D90.groupby('CUST_NO').agg({'CUST_NO':'count','TXN_DT':['max','min'],'LN_AMT':['sum','min','max','std','mean'],'LN_USE':'max'})\n",
    "df_LN_D90.columns=['D90_LN_CNT','D90_LN_DATE_MAX','D90_LN_DATE_MIN','D90_LN_AMT_SUM','D90_LN_AMT_MIN','D90_LN_AMT_MAX','D90_LN_AMT_STD','D90_LN_AMT_AVG','LN_USE']\n",
    "df_LN_D90['CUST_NO']=df_LN_D90.index "
   ]
  },
  {
   "cell_type": "code",
   "execution_count": 72,
   "metadata": {},
   "outputs": [
    {
     "name": "stderr",
     "output_type": "stream",
     "text": [
      "C:\\Users\\Anson\\Anaconda3\\lib\\site-packages\\IPython\\core\\interactiveshell.py:2963: FutureWarning: 'CUST_NO' is both an index level and a column label.\n",
      "Defaulting to column, but this will raise an ambiguity error in a future version\n",
      "  exec(code_obj, self.user_global_ns, self.user_ns)\n"
     ]
    }
   ],
   "source": [
    "df_FX_D90=df_cust_FX_D90.groupby('CUST_NO').agg({'CUST_NO':'count','TXN_DT':['max','min'],'FX_TXN_AMT':['sum','min','max','std','mean']})\n",
    "df_FX_D90.columns=['D90_FX_CNT','D90_FX_DATE_MAX','D90_FX_DATE_MIN','D90_FX_AMT_SUM','D90_FX_AMT_MIN','D90_FX_AMT_MAX','D90_FX_AMT_STD','D90_FX_AMT_AVG']\n",
    "df_FX_D90['CUST_NO']=df_FX_D90.index\n",
    "df_FX_D90['FX_DAY_INTERVAL_LAST']=9538-df_FX_D90['D90_FX_DATE_MAX']\n",
    "df_FX_D90['FX_DAY_INTERVAL_FIRST']=9538-df_FX_D90['D90_FX_DATE_MIN']\n",
    "df_FX_D90['FX_DAY_INTERVAL_AVG']=(9538-df_FX_D90['D90_FX_DATE_MIN'])/df_FX_D90['D90_FX_CNT']\n",
    "df_FX=pd.merge(left=df_FX, right=df_FX_D90, on=[\"CUST_NO\"], how=\"left\")"
   ]
  },
  {
   "cell_type": "code",
   "execution_count": 73,
   "metadata": {},
   "outputs": [],
   "source": [
    "df_FX_N30=df_cust_FX_N30.groupby('CUST_NO').agg({'CUST_NO':'count'})\n",
    "df_FX_N30.columns=['N30_FX_CNT']\n",
    "df_FX_N30['CUST_NO']=df_FX_N30.index\n",
    "df_FX_N30['NEXT_FX_APPLY']=np.where(df_FX_N30.N30_FX_CNT.notnull(),1,0)"
   ]
  },
  {
   "cell_type": "code",
   "execution_count": 74,
   "metadata": {},
   "outputs": [
    {
     "name": "stderr",
     "output_type": "stream",
     "text": [
      "C:\\Users\\Anson\\Anaconda3\\lib\\site-packages\\IPython\\core\\interactiveshell.py:2963: FutureWarning: 'CUST_NO' is both an index level and a column label.\n",
      "Defaulting to column, but this will raise an ambiguity error in a future version\n",
      "  exec(code_obj, self.user_global_ns, self.user_ns)\n"
     ]
    }
   ],
   "source": [
    "df_FX=pd.merge(left=df_FX, right=df_FX_N30[['CUST_NO','NEXT_FX_APPLY']], on=[\"CUST_NO\"], how=\"left\")"
   ]
  },
  {
   "cell_type": "code",
   "execution_count": 75,
   "metadata": {},
   "outputs": [],
   "source": [
    "CM_FX=['D0_FX_DATE_MAX','D90_FX_CNT','D90_FX_DATE_MAX','D90_FX_DATE_MIN','D90_FX_AMT_SUM','D90_FX_AMT_MIN','D90_FX_AMT_MAX','D90_FX_AMT_STD','D90_FX_AMT_AVG','FX_DAY_INTERVAL_LAST','FX_DAY_INTERVAL_AVG','NEXT_FX_APPLY']"
   ]
  },
  {
   "cell_type": "code",
   "execution_count": 76,
   "metadata": {},
   "outputs": [],
   "source": [
    "df_train = pd.merge(left=df_train, right=df_FX, on=[\"CUST_NO\"], how=\"left\")"
   ]
  },
  {
   "cell_type": "code",
   "execution_count": 77,
   "metadata": {},
   "outputs": [],
   "source": [
    "df_train['D0_WM_LAST_DAYS']=9448-df_train['D0_WM_DATE_MAX']\n",
    "df_train['D0_WM_LAST_DAYS']=np.where(df_train['D0_WM_LAST_DAYS'].isnull(),9999,df_train['D0_WM_LAST_DAYS'])\n",
    "df_train['D0_LN_LAST_DAYS']=9448-df_train['D0_LN_DATE_MAX']\n",
    "df_train['D0_LN_LAST_DAYS']=np.where(df_train['D0_LN_LAST_DAYS'].isnull(),9999,df_train['D0_LN_LAST_DAYS'])\n",
    "df_train['D0_CC_LAST_DAYS']=9448-df_train['D0_CC_DATE_MAX']\n",
    "df_train['D0_CC_LAST_DAYS']=np.where(df_train['D0_CC_LAST_DAYS'].isnull(),9999,df_train['D0_CC_LAST_DAYS'])\n",
    "df_train['D0_FX_LAST_DAYS']=9448-df_train['D0_FX_DATE_MAX']\n",
    "df_train['D0_FX_LAST_DAYS']=np.where(df_train['D0_FX_LAST_DAYS'].isnull(),9999,df_train['D0_FX_LAST_DAYS'])"
   ]
  },
  {
   "cell_type": "markdown",
   "metadata": {},
   "source": [
    "## Test Data "
   ]
  },
  {
   "cell_type": "code",
   "execution_count": 78,
   "metadata": {},
   "outputs": [
    {
     "name": "stderr",
     "output_type": "stream",
     "text": [
      "C:\\Users\\Anson\\Anaconda3\\lib\\site-packages\\IPython\\core\\interactiveshell.py:2963: FutureWarning: 'CUST_NO' is both an index level and a column label.\n",
      "Defaulting to column, but this will raise an ambiguity error in a future version\n",
      "  exec(code_obj, self.user_global_ns, self.user_ns)\n"
     ]
    }
   ],
   "source": [
    "df_WM_D0=df_cust_recent_dt[df_cust_recent_dt.WM_RECENT_DT.notnull()].groupby('CUST_NO').agg({'WM_RECENT_DT':'max'})\n",
    "df_WM_D0.columns=['D0_WM_DATE_MAX']\n",
    "df_WM_D0['CUST_NO']=df_WM_D0.index\n",
    "df_test=pd.merge(left=df_cust_test, right=df_WM_D0, on=[\"CUST_NO\"], how=\"left\")"
   ]
  },
  {
   "cell_type": "code",
   "execution_count": 79,
   "metadata": {},
   "outputs": [
    {
     "name": "stderr",
     "output_type": "stream",
     "text": [
      "C:\\Users\\Anson\\Anaconda3\\lib\\site-packages\\ipykernel_launcher.py:1: UserWarning: Boolean Series key will be reindexed to match DataFrame index.\n",
      "  \"\"\"Entry point for launching an IPython kernel.\n",
      "C:\\Users\\Anson\\Anaconda3\\lib\\site-packages\\IPython\\core\\interactiveshell.py:2963: FutureWarning: 'CUST_NO' is both an index level and a column label.\n",
      "Defaulting to column, but this will raise an ambiguity error in a future version\n",
      "  exec(code_obj, self.user_global_ns, self.user_ns)\n"
     ]
    }
   ],
   "source": [
    "df_cust_WM_test_D90=df_cust_WM[df_cust_WM.TXN_DT>=9478][df_cust_WM.TXN_DT<9568]\n",
    "df_WM_test_D90=df_cust_WM_test_D90.groupby('CUST_NO').agg({'CUST_NO':'count','TXN_DT':['max','min'],'WM_TXN_AMT':['sum','min','max','std','mean'],'CUST_RISK_CODE':'median','INVEST_TYPE_CODE':'median'})\n",
    "df_WM_test_D90.columns=['D90_WM_CNT','D90_WM_DATE_MAX','D90_WM_DATE_MIN','D90_WM_AMT_SUM','D90_WM_AMT_MIN','D90_WM_AMT_MAX','D90_WM_AMT_STD','D90_WM_AMT_AVG','D90_WM_CUST_RISK_CODE','D90_WM_CUST_INVEST_TYPE_CODE']\n",
    "df_WM_test_D90['CUST_NO']=df_WM_test_D90.index\n",
    "df_WM_test_D90['WM_DAY_INTERVAL_LAST']=9568-df_WM_test_D90['D90_WM_DATE_MAX']\n",
    "df_WM_test_D90['WM_DAY_INTERVAL_FIRST']=9568-df_WM_test_D90['D90_WM_DATE_MIN']\n",
    "df_WM_test_D90['WM_DAY_INTERVAL_AVG']=(9568-df_WM_test_D90['D90_WM_DATE_MIN'])/df_WM_test_D90['D90_WM_CNT']\n",
    "df_test=pd.merge(left=df_test, right=df_WM_test_D90, on=[\"CUST_NO\"], how=\"left\")"
   ]
  },
  {
   "cell_type": "code",
   "execution_count": 80,
   "metadata": {},
   "outputs": [
    {
     "name": "stderr",
     "output_type": "stream",
     "text": [
      "C:\\Users\\Anson\\Anaconda3\\lib\\site-packages\\IPython\\core\\interactiveshell.py:2963: FutureWarning: 'CUST_NO' is both an index level and a column label.\n",
      "Defaulting to column, but this will raise an ambiguity error in a future version\n",
      "  exec(code_obj, self.user_global_ns, self.user_ns)\n"
     ]
    }
   ],
   "source": [
    "df_LN_D0=df_cust_recent_dt[df_cust_recent_dt.LN_RECENT_DT.notnull()].groupby('CUST_NO').agg({'LN_RECENT_DT':'max'})\n",
    "df_LN_D0.columns=['D0_LN_DATE_MAX']\n",
    "df_LN_D0['CUST_NO']=df_LN_D0.index\n",
    "df_test=pd.merge(left=df_test, right=df_LN_D0, on=[\"CUST_NO\"], how=\"left\")"
   ]
  },
  {
   "cell_type": "code",
   "execution_count": 81,
   "metadata": {},
   "outputs": [
    {
     "name": "stderr",
     "output_type": "stream",
     "text": [
      "C:\\Users\\Anson\\Anaconda3\\lib\\site-packages\\ipykernel_launcher.py:1: UserWarning: Boolean Series key will be reindexed to match DataFrame index.\n",
      "  \"\"\"Entry point for launching an IPython kernel.\n",
      "C:\\Users\\Anson\\Anaconda3\\lib\\site-packages\\IPython\\core\\interactiveshell.py:2963: FutureWarning: 'CUST_NO' is both an index level and a column label.\n",
      "Defaulting to column, but this will raise an ambiguity error in a future version\n",
      "  exec(code_obj, self.user_global_ns, self.user_ns)\n"
     ]
    }
   ],
   "source": [
    "df_cust_LN_test_D90=df_cust_LN[df_cust_LN.TXN_DT>=9478][df_cust_LN.TXN_DT<9568]\n",
    "df_LN_test_D90=df_cust_LN_test_D90.groupby('CUST_NO').agg({'CUST_NO':'count','TXN_DT':['max','min'],'LN_AMT':['sum','min','max','std','mean'],'LN_USE':'max'})\n",
    "df_LN_test_D90.columns=['D90_LN_CNT','D90_LN_DATE_MAX','D90_LN_DATE_MIN','D90_LN_AMT_SUM','D90_LN_AMT_MIN','D90_LN_AMT_MAX','D90_LN_AMT_STD','D90_LN_AMT_AVG','LN_USE']\n",
    "df_LN_test_D90['CUST_NO']=df_LN_test_D90.index\n",
    "df_LN_test_D90['LN_DAY_INTERVAL_LAST']=9568-df_LN_test_D90['D90_LN_DATE_MAX']\n",
    "df_LN_test_D90['LN_DAY_INTERVAL_FIRST']=9568-df_LN_test_D90['D90_LN_DATE_MIN']\n",
    "df_LN_test_D90['LN_DAY_INTERVAL_AVG']=(9568-df_LN_test_D90['D90_LN_DATE_MIN'])/df_LN_test_D90['D90_LN_CNT']\n",
    "df_test=pd.merge(left=df_test, right=df_LN_test_D90, on=[\"CUST_NO\"], how=\"left\")"
   ]
  },
  {
   "cell_type": "code",
   "execution_count": 82,
   "metadata": {},
   "outputs": [
    {
     "name": "stderr",
     "output_type": "stream",
     "text": [
      "C:\\Users\\Anson\\Anaconda3\\lib\\site-packages\\IPython\\core\\interactiveshell.py:2963: FutureWarning: 'CUST_NO' is both an index level and a column label.\n",
      "Defaulting to column, but this will raise an ambiguity error in a future version\n",
      "  exec(code_obj, self.user_global_ns, self.user_ns)\n"
     ]
    }
   ],
   "source": [
    "df_CC_D0=df_cust_recent_dt[df_cust_recent_dt.CC_RECENT_DT.notnull()].groupby('CUST_NO').agg({'CC_RECENT_DT':['max']})\n",
    "df_CC_D0.columns=['D0_CC_DATE_MAX']\n",
    "df_CC_D0['CUST_NO']=df_CC_D0.index\n",
    "df_test=pd.merge(left=df_test, right=df_CC_D0, on=[\"CUST_NO\"], how=\"left\")"
   ]
  },
  {
   "cell_type": "code",
   "execution_count": 83,
   "metadata": {},
   "outputs": [
    {
     "name": "stderr",
     "output_type": "stream",
     "text": [
      "C:\\Users\\Anson\\Anaconda3\\lib\\site-packages\\ipykernel_launcher.py:1: UserWarning: Boolean Series key will be reindexed to match DataFrame index.\n",
      "  \"\"\"Entry point for launching an IPython kernel.\n",
      "C:\\Users\\Anson\\Anaconda3\\lib\\site-packages\\IPython\\core\\interactiveshell.py:2963: FutureWarning: 'CUST_NO' is both an index level and a column label.\n",
      "Defaulting to column, but this will raise an ambiguity error in a future version\n",
      "  exec(code_obj, self.user_global_ns, self.user_ns)\n"
     ]
    }
   ],
   "source": [
    "df_cust_CC_test_D90=df_cust_CC[df_cust_CC.TXN_DT>=9478][df_cust_CC.TXN_DT<9568]\n",
    "df_CC_test_D90=df_cust_CC_test_D90.groupby('CUST_NO').agg({'CUST_NO':'count','TXN_DT':['max','min']})\n",
    "df_CC_test_D90.columns=['D90_CC_CNT','D90_CC_DATE_MAX','D90_CC_DATE_MIN']\n",
    "df_CC_test_D90['CC_DAY_INTERVAL_LAST']=9568-df_CC_test_D90['D90_CC_DATE_MAX']\n",
    "df_CC_test_D90['CC_DAY_INTERVAL_FIRST']=9568-df_CC_test_D90['D90_CC_DATE_MIN']\n",
    "df_CC_test_D90['CC_DAY_INTERVAL_AVG']=(9568-df_CC_test_D90['D90_CC_DATE_MIN'])/df_CC_test_D90['D90_CC_CNT']\n",
    "df_CC_test_D90['CUST_NO']=df_CC_test_D90.index\n",
    "df_test=pd.merge(left=df_test, right=df_CC_test_D90, on=[\"CUST_NO\"], how=\"left\")"
   ]
  },
  {
   "cell_type": "code",
   "execution_count": 84,
   "metadata": {},
   "outputs": [
    {
     "name": "stderr",
     "output_type": "stream",
     "text": [
      "C:\\Users\\Anson\\Anaconda3\\lib\\site-packages\\IPython\\core\\interactiveshell.py:2963: FutureWarning: 'CUST_NO' is both an index level and a column label.\n",
      "Defaulting to column, but this will raise an ambiguity error in a future version\n",
      "  exec(code_obj, self.user_global_ns, self.user_ns)\n"
     ]
    }
   ],
   "source": [
    "df_FX_D0=df_cust_recent_dt[df_cust_recent_dt.FX_RECENT_DT.notnull()].groupby('CUST_NO').agg({'FX_RECENT_DT':['max']})\n",
    "df_FX_D0.columns=['D0_FX_DATE_MAX']\n",
    "df_FX_D0['CUST_NO']=df_FX_D0.index\n",
    "df_test=pd.merge(left=df_test, right=df_FX_D0, on=[\"CUST_NO\"], how=\"left\")"
   ]
  },
  {
   "cell_type": "code",
   "execution_count": 85,
   "metadata": {},
   "outputs": [
    {
     "name": "stderr",
     "output_type": "stream",
     "text": [
      "C:\\Users\\Anson\\Anaconda3\\lib\\site-packages\\ipykernel_launcher.py:1: UserWarning: Boolean Series key will be reindexed to match DataFrame index.\n",
      "  \"\"\"Entry point for launching an IPython kernel.\n",
      "C:\\Users\\Anson\\Anaconda3\\lib\\site-packages\\IPython\\core\\interactiveshell.py:2963: FutureWarning: 'CUST_NO' is both an index level and a column label.\n",
      "Defaulting to column, but this will raise an ambiguity error in a future version\n",
      "  exec(code_obj, self.user_global_ns, self.user_ns)\n"
     ]
    }
   ],
   "source": [
    "df_cust_FX_test_D90=df_cust_FX[df_cust_FX.TXN_DT>=9478][df_cust_FX.TXN_DT<9568]\n",
    "df_FX_test_D90=df_cust_FX_test_D90.groupby('CUST_NO').agg({'CUST_NO':'count','TXN_DT':['max','min'],'FX_TXN_AMT':['sum','min','max','std','mean']})\n",
    "df_FX_test_D90.columns=['D90_FX_CNT','D90_FX_DATE_MAX','D90_FX_DATE_MIN','D90_FX_AMT_SUM','D90_FX_AMT_MIN','D90_FX_AMT_MAX','D90_FX_AMT_STD','D90_FX_AMT_AVG']\n",
    "df_FX_test_D90['CUST_NO']=df_FX_test_D90.index\n",
    "df_FX_test_D90['FX_DAY_INTERVAL_LAST']=9568-df_FX_test_D90['D90_FX_DATE_MAX']\n",
    "df_FX_test_D90['FX_DAY_INTERVAL_FIRST']=9568-df_FX_test_D90['D90_FX_DATE_MIN']\n",
    "df_FX_test_D90['FX_DAY_INTERVAL_AVG']=(9568-df_FX_test_D90['D90_FX_DATE_MIN'])/df_FX_test_D90['D90_FX_CNT']\n",
    "df_test=pd.merge(left=df_test, right=df_FX_test_D90, on=[\"CUST_NO\"], how=\"left\")"
   ]
  },
  {
   "cell_type": "code",
   "execution_count": 86,
   "metadata": {},
   "outputs": [],
   "source": [
    "df_train.to_csv('df_train.csv', index=False)\n",
    "df_test.to_csv('df_test.csv', index=False)"
   ]
  },
  {
   "cell_type": "code",
   "execution_count": 87,
   "metadata": {},
   "outputs": [],
   "source": [
    "df_train['IS_TRAIN']='Y'\n",
    "df_test['IS_TRAIN']='N'"
   ]
  },
  {
   "cell_type": "code",
   "execution_count": 88,
   "metadata": {},
   "outputs": [
    {
     "name": "stderr",
     "output_type": "stream",
     "text": [
      "C:\\Users\\Anson\\Anaconda3\\lib\\site-packages\\IPython\\core\\interactiveshell.py:2963: FutureWarning: 'CUST_NO' is both an index level and a column label.\n",
      "Defaulting to column, but this will raise an ambiguity error in a future version\n",
      "  exec(code_obj, self.user_global_ns, self.user_ns)\n"
     ]
    }
   ],
   "source": [
    "df_FX_test=df_cust_FX[df_cust_FX.TXN_DT>=9448][df_cust_FX.TXN_DT<9478]\n",
    "df_FX_test_D0=df_FX_test.groupby('CUST_NO').agg({'TXN_DT':'max'})\n",
    "df_FX_test_D0.columns=[ 'D0_TEST_FX_DATE_MAX']\n",
    "df_FX_test_D0['CUST_NO']=df_FX_test_D0.index\n",
    "df_test=pd.merge(left=df_test, right=df_FX_test_D0, on=[\"CUST_NO\"], how=\"left\")\n",
    "df_test['D0_FX_DATE_MAX'] = np.where(df_test['D0_TEST_FX_DATE_MAX'].notnull(),df_test['D0_TEST_FX_DATE_MAX'],df_test['D0_FX_DATE_MAX'])"
   ]
  },
  {
   "cell_type": "code",
   "execution_count": 89,
   "metadata": {},
   "outputs": [
    {
     "name": "stderr",
     "output_type": "stream",
     "text": [
      "C:\\Users\\Anson\\Anaconda3\\lib\\site-packages\\IPython\\core\\interactiveshell.py:2963: FutureWarning: 'CUST_NO' is both an index level and a column label.\n",
      "Defaulting to column, but this will raise an ambiguity error in a future version\n",
      "  exec(code_obj, self.user_global_ns, self.user_ns)\n"
     ]
    }
   ],
   "source": [
    "df_CC_test=df_cust_CC[df_cust_CC.TXN_DT>=9448][df_cust_CC.TXN_DT<9478]\n",
    "df_CC_test_D0=df_CC_test.groupby('CUST_NO').agg({'TXN_DT':'max'})\n",
    "df_CC_test_D0.columns=[ 'D0_TEST_CC_DATE_MAX']\n",
    "df_CC_test_D0['CUST_NO']=df_CC_test_D0.index\n",
    "df_test=pd.merge(left=df_test, right=df_CC_test_D0, on=[\"CUST_NO\"], how=\"left\")\n",
    "df_test['D0_WM_DATE_MAX'] = np.where(df_test['D0_TEST_CC_DATE_MAX'].notnull(),df_test['D0_TEST_CC_DATE_MAX'],df_test['D0_CC_DATE_MAX'])"
   ]
  },
  {
   "cell_type": "code",
   "execution_count": 90,
   "metadata": {},
   "outputs": [
    {
     "name": "stderr",
     "output_type": "stream",
     "text": [
      "C:\\Users\\Anson\\Anaconda3\\lib\\site-packages\\IPython\\core\\interactiveshell.py:2963: FutureWarning: 'CUST_NO' is both an index level and a column label.\n",
      "Defaulting to column, but this will raise an ambiguity error in a future version\n",
      "  exec(code_obj, self.user_global_ns, self.user_ns)\n"
     ]
    }
   ],
   "source": [
    "df_LN_test=df_cust_LN[df_cust_LN.TXN_DT>=9448][df_cust_LN.TXN_DT<9478]\n",
    "df_LN_test_D0=df_LN_test.groupby('CUST_NO').agg({'TXN_DT':'max'})\n",
    "df_LN_test_D0.columns=[ 'D0_TEST_LN_DATE_MAX']\n",
    "df_LN_test_D0['CUST_NO']=df_LN_test_D0.index\n",
    "df_test=pd.merge(left=df_test, right=df_LN_test_D0, on=[\"CUST_NO\"], how=\"left\")\n",
    "df_test['D0_LN_DATE_MAX'] = np.where(df_test['D0_TEST_LN_DATE_MAX'].notnull(),df_test['D0_TEST_LN_DATE_MAX'],df_test['D0_LN_DATE_MAX'])"
   ]
  },
  {
   "cell_type": "code",
   "execution_count": 91,
   "metadata": {},
   "outputs": [
    {
     "name": "stderr",
     "output_type": "stream",
     "text": [
      "C:\\Users\\Anson\\Anaconda3\\lib\\site-packages\\IPython\\core\\interactiveshell.py:2963: FutureWarning: 'CUST_NO' is both an index level and a column label.\n",
      "Defaulting to column, but this will raise an ambiguity error in a future version\n",
      "  exec(code_obj, self.user_global_ns, self.user_ns)\n"
     ]
    }
   ],
   "source": [
    "df_WM_test=df_cust_WM[df_cust_WM.TXN_DT>=9448][df_cust_WM.TXN_DT<9478]\n",
    "df_WM_test_D0=df_WM_test.groupby('CUST_NO').agg({'TXN_DT':'max'})\n",
    "df_WM_test_D0.columns=[ 'D0_TEST_WM_DATE_MAX']\n",
    "df_WM_test_D0['CUST_NO']=df_WM_test_D0.index\n",
    "df_test=pd.merge(left=df_test, right=df_WM_test_D0, on=[\"CUST_NO\"], how=\"left\")\n",
    "df_test['D0_WM_DATE_MAX'] = np.where(df_test['D0_TEST_WM_DATE_MAX'].notnull(),df_test['D0_TEST_WM_DATE_MAX'],df_test['D0_WM_DATE_MAX'])"
   ]
  },
  {
   "cell_type": "code",
   "execution_count": 92,
   "metadata": {},
   "outputs": [],
   "source": [
    "df_test=df_test.drop(['D0_TEST_WM_DATE_MAX','D0_TEST_LN_DATE_MAX','D0_TEST_CC_DATE_MAX','D0_TEST_FX_DATE_MAX'], axis=1)"
   ]
  },
  {
   "cell_type": "code",
   "execution_count": 93,
   "metadata": {},
   "outputs": [],
   "source": [
    "df_test['D0_WM_LAST_DAYS']=9478-df_test['D0_WM_DATE_MAX']\n",
    "df_test['D0_WM_LAST_DAYS']=np.where(df_test['D0_WM_LAST_DAYS'].isnull(),9999,df_test['D0_WM_LAST_DAYS'])\n",
    "df_test['D0_LN_LAST_DAYS']=9478-df_test['D0_LN_DATE_MAX']\n",
    "df_test['D0_LN_LAST_DAYS']=np.where(df_test['D0_LN_LAST_DAYS'].isnull(),9999,df_test['D0_LN_LAST_DAYS'])\n",
    "df_test['D0_CC_LAST_DAYS']=9478-df_test['D0_CC_DATE_MAX']\n",
    "df_test['D0_CC_LAST_DAYS']=np.where(df_test['D0_CC_LAST_DAYS'].isnull(),9999,df_test['D0_CC_LAST_DAYS'])\n",
    "df_test['D0_FX_LAST_DAYS']=9478-df_test['D0_FX_DATE_MAX']\n",
    "df_test['D0_FX_LAST_DAYS']=np.where(df_test['D0_FX_LAST_DAYS'].isnull(),9999,df_test['D0_FX_LAST_DAYS'])"
   ]
  },
  {
   "cell_type": "code",
   "execution_count": 94,
   "metadata": {},
   "outputs": [
    {
     "data": {
      "text/plain": [
       "((187679, 128), (30000, 124))"
      ]
     },
     "execution_count": 94,
     "metadata": {},
     "output_type": "execute_result"
    }
   ],
   "source": [
    "df_train.shape,df_test.shape"
   ]
  },
  {
   "cell_type": "code",
   "execution_count": 95,
   "metadata": {},
   "outputs": [
    {
     "name": "stderr",
     "output_type": "stream",
     "text": [
      "C:\\Users\\Anson\\Anaconda3\\lib\\site-packages\\ipykernel_launcher.py:1: FutureWarning: Sorting because non-concatenation axis is not aligned. A future version\n",
      "of pandas will change to not sort by default.\n",
      "\n",
      "To accept the future behavior, pass 'sort=True'.\n",
      "\n",
      "To retain the current behavior and silence the warning, pass sort=False\n",
      "\n",
      "  \"\"\"Entry point for launching an IPython kernel.\n"
     ]
    }
   ],
   "source": [
    "df_all=pd.concat([df_train,df_test], axis=0)"
   ]
  },
  {
   "cell_type": "code",
   "execution_count": 96,
   "metadata": {},
   "outputs": [],
   "source": [
    "df_all.WORK_MTHS=np.where(df_all.WORK_MTHS.isnull(),'NA',df_all.WORK_MTHS)"
   ]
  },
  {
   "cell_type": "code",
   "execution_count": 97,
   "metadata": {},
   "outputs": [],
   "source": [
    "df_all['IS_BROWSE']=np.where(df_all['BROWSE_CNT']>0,1,0)"
   ]
  },
  {
   "cell_type": "code",
   "execution_count": 98,
   "metadata": {},
   "outputs": [
    {
     "name": "stdout",
     "output_type": "stream",
     "text": [
      "<class 'pandas.core.frame.DataFrame'>\n",
      "Int64Index: 217679 entries, 0 to 29999\n",
      "Columns: 129 entries, AGE to IS_BROWSE\n",
      "dtypes: category(5), float64(119), int32(1), object(4)\n",
      "memory usage: 207.8+ MB\n"
     ]
    }
   ],
   "source": [
    "df_all.info()"
   ]
  },
  {
   "cell_type": "code",
   "execution_count": 99,
   "metadata": {},
   "outputs": [],
   "source": [
    "df_all['NEXT_LN_APPLY']=df_all['NEXT_LN_APPLY'].fillna(0)\n",
    "df_all['NEXT_CC_APPLY']=df_all['NEXT_CC_APPLY'].fillna(0)\n",
    "df_all['NEXT_FX_APPLY']=df_all['NEXT_FX_APPLY'].fillna(0)\n",
    "df_all['NEXT_WM_APPLY']=df_all['NEXT_WM_APPLY'].fillna(0)"
   ]
  },
  {
   "cell_type": "code",
   "execution_count": 100,
   "metadata": {},
   "outputs": [],
   "source": [
    "WORK_MTHS_LN = df_all[df_all.NEXT_LN_APPLY.notnull()].groupby(['WORK_MTHS'])['NEXT_LN_APPLY'].mean().to_dict()\n",
    "WORK_MTHS_CC = df_all[df_all.NEXT_CC_APPLY.notnull()].groupby(['WORK_MTHS'])['NEXT_CC_APPLY'].mean().to_dict()\n",
    "WORK_MTHS_FX = df_all[df_all.NEXT_FX_APPLY.notnull()].groupby(['WORK_MTHS'])['NEXT_FX_APPLY'].mean().to_dict()\n",
    "WORK_MTHS_WM = df_all[df_all.NEXT_WM_APPLY.notnull()].groupby(['WORK_MTHS'])['NEXT_WM_APPLY'].mean().to_dict()"
   ]
  },
  {
   "cell_type": "code",
   "execution_count": 101,
   "metadata": {},
   "outputs": [
    {
     "data": {
      "text/plain": [
       "{'1.0': 0.01566899919026383,\n",
       " '2.0': 0.029997000299970003,\n",
       " '3.0': 0.0,\n",
       " '4.0': 0.0,\n",
       " '5.0': 0.0,\n",
       " '999.0': 0.010921924929651357,\n",
       " 'NA': 0.0}"
      ]
     },
     "execution_count": 101,
     "metadata": {},
     "output_type": "execute_result"
    }
   ],
   "source": [
    "WORK_MTHS_WM"
   ]
  },
  {
   "cell_type": "code",
   "execution_count": 102,
   "metadata": {},
   "outputs": [],
   "source": [
    "df_all['WORK_MTHS_LN']=df_all.WORK_MTHS.map(WORK_MTHS_LN) \n",
    "df_all['WORK_MTHS_CC']=df_all.WORK_MTHS.map(WORK_MTHS_CC) \n",
    "df_all['WORK_MTHS_FX']=df_all.WORK_MTHS.map(WORK_MTHS_FX) \n",
    "df_all['WORK_MTHS_WM']=df_all.WORK_MTHS.map(WORK_MTHS_WM) "
   ]
  },
  {
   "cell_type": "code",
   "execution_count": 103,
   "metadata": {},
   "outputs": [
    {
     "data": {
      "text/html": [
       "<div>\n",
       "<style scoped>\n",
       "    .dataframe tbody tr th:only-of-type {\n",
       "        vertical-align: middle;\n",
       "    }\n",
       "\n",
       "    .dataframe tbody tr th {\n",
       "        vertical-align: top;\n",
       "    }\n",
       "\n",
       "    .dataframe thead th {\n",
       "        text-align: right;\n",
       "    }\n",
       "</style>\n",
       "<table border=\"1\" class=\"dataframe\">\n",
       "  <thead>\n",
       "    <tr style=\"text-align: right;\">\n",
       "      <th></th>\n",
       "      <th>WORK_MTHS</th>\n",
       "      <th>NEXT_LN_APPLY</th>\n",
       "      <th>WORK_MTHS_LN</th>\n",
       "      <th>NEXT_CC_APPLY</th>\n",
       "      <th>WORK_MTHS_CC</th>\n",
       "      <th>NEXT_FX_APPLY</th>\n",
       "      <th>WORK_MTHS_FX</th>\n",
       "      <th>NEXT_WM_APPLY</th>\n",
       "      <th>WORK_MTHS_WM</th>\n",
       "    </tr>\n",
       "  </thead>\n",
       "  <tbody>\n",
       "    <tr>\n",
       "      <th>0</th>\n",
       "      <td>999.0</td>\n",
       "      <td>0.0</td>\n",
       "      <td>0.008466</td>\n",
       "      <td>0.0</td>\n",
       "      <td>0.025206</td>\n",
       "      <td>0.0</td>\n",
       "      <td>0.067582</td>\n",
       "      <td>0.0</td>\n",
       "      <td>0.010922</td>\n",
       "    </tr>\n",
       "    <tr>\n",
       "      <th>1</th>\n",
       "      <td>999.0</td>\n",
       "      <td>0.0</td>\n",
       "      <td>0.008466</td>\n",
       "      <td>0.0</td>\n",
       "      <td>0.025206</td>\n",
       "      <td>0.0</td>\n",
       "      <td>0.067582</td>\n",
       "      <td>0.0</td>\n",
       "      <td>0.010922</td>\n",
       "    </tr>\n",
       "    <tr>\n",
       "      <th>2</th>\n",
       "      <td>2.0</td>\n",
       "      <td>0.0</td>\n",
       "      <td>0.005399</td>\n",
       "      <td>0.0</td>\n",
       "      <td>0.064094</td>\n",
       "      <td>1.0</td>\n",
       "      <td>0.080792</td>\n",
       "      <td>0.0</td>\n",
       "      <td>0.029997</td>\n",
       "    </tr>\n",
       "    <tr>\n",
       "      <th>3</th>\n",
       "      <td>1.0</td>\n",
       "      <td>0.0</td>\n",
       "      <td>0.006424</td>\n",
       "      <td>0.0</td>\n",
       "      <td>0.044058</td>\n",
       "      <td>0.0</td>\n",
       "      <td>0.063546</td>\n",
       "      <td>0.0</td>\n",
       "      <td>0.015669</td>\n",
       "    </tr>\n",
       "    <tr>\n",
       "      <th>4</th>\n",
       "      <td>1.0</td>\n",
       "      <td>0.0</td>\n",
       "      <td>0.006424</td>\n",
       "      <td>0.0</td>\n",
       "      <td>0.044058</td>\n",
       "      <td>0.0</td>\n",
       "      <td>0.063546</td>\n",
       "      <td>0.0</td>\n",
       "      <td>0.015669</td>\n",
       "    </tr>\n",
       "  </tbody>\n",
       "</table>\n",
       "</div>"
      ],
      "text/plain": [
       "  WORK_MTHS  NEXT_LN_APPLY  WORK_MTHS_LN  NEXT_CC_APPLY  WORK_MTHS_CC  \\\n",
       "0     999.0            0.0      0.008466            0.0      0.025206   \n",
       "1     999.0            0.0      0.008466            0.0      0.025206   \n",
       "2       2.0            0.0      0.005399            0.0      0.064094   \n",
       "3       1.0            0.0      0.006424            0.0      0.044058   \n",
       "4       1.0            0.0      0.006424            0.0      0.044058   \n",
       "\n",
       "   NEXT_FX_APPLY  WORK_MTHS_FX  NEXT_WM_APPLY  WORK_MTHS_WM  \n",
       "0            0.0      0.067582            0.0      0.010922  \n",
       "1            0.0      0.067582            0.0      0.010922  \n",
       "2            1.0      0.080792            0.0      0.029997  \n",
       "3            0.0      0.063546            0.0      0.015669  \n",
       "4            0.0      0.063546            0.0      0.015669  "
      ]
     },
     "execution_count": 103,
     "metadata": {},
     "output_type": "execute_result"
    }
   ],
   "source": [
    "df_all[['WORK_MTHS','NEXT_LN_APPLY','WORK_MTHS_LN','NEXT_CC_APPLY','WORK_MTHS_CC','NEXT_FX_APPLY','WORK_MTHS_FX','NEXT_WM_APPLY','WORK_MTHS_WM']].head(5)"
   ]
  },
  {
   "cell_type": "code",
   "execution_count": 104,
   "metadata": {},
   "outputs": [],
   "source": [
    "df_all.INCOME_RANGE_CODE=np.where(df_all.INCOME_RANGE_CODE.isnull(),'NA',df_all.INCOME_RANGE_CODE)\n",
    "INCOME_RANGE_LN = df_all[df_all.NEXT_LN_APPLY.notnull()].groupby(['INCOME_RANGE_CODE'])['NEXT_LN_APPLY'].mean().to_dict()\n",
    "INCOME_RANGE_CC = df_all[df_all.NEXT_CC_APPLY.notnull()].groupby(['INCOME_RANGE_CODE'])['NEXT_CC_APPLY'].mean().to_dict()\n",
    "INCOME_RANGE_FX = df_all[df_all.NEXT_FX_APPLY.notnull()].groupby(['INCOME_RANGE_CODE'])['NEXT_FX_APPLY'].mean().to_dict()\n",
    "INCOME_RANGE_WM = df_all[df_all.NEXT_WM_APPLY.notnull()].groupby(['INCOME_RANGE_CODE'])['NEXT_WM_APPLY'].mean().to_dict()"
   ]
  },
  {
   "cell_type": "code",
   "execution_count": 105,
   "metadata": {},
   "outputs": [
    {
     "data": {
      "text/plain": [
       "{'1.0': 0.00858720435128973,\n",
       " '2.0': 0.04046345811051694,\n",
       " '3.0': 0.0797845048742945,\n",
       " '4.0': 0.10951008645533142,\n",
       " '999.0': 0.0,\n",
       " 'NA': 0.0}"
      ]
     },
     "execution_count": 105,
     "metadata": {},
     "output_type": "execute_result"
    }
   ],
   "source": [
    "INCOME_RANGE_WM"
   ]
  },
  {
   "cell_type": "code",
   "execution_count": 106,
   "metadata": {},
   "outputs": [],
   "source": [
    "df_all['INCOME_RANGE_LN']=df_all.INCOME_RANGE_CODE.map(INCOME_RANGE_LN) \n",
    "df_all['INCOME_RANGE_CC']=df_all.INCOME_RANGE_CODE.map(INCOME_RANGE_CC) \n",
    "df_all['INCOME_RANGE_FX']=df_all.INCOME_RANGE_CODE.map(INCOME_RANGE_FX) \n",
    "df_all['INCOME_RANGE_WM']=df_all.INCOME_RANGE_CODE.map(INCOME_RANGE_WM) "
   ]
  },
  {
   "cell_type": "code",
   "execution_count": 107,
   "metadata": {},
   "outputs": [
    {
     "data": {
      "text/html": [
       "<div>\n",
       "<style scoped>\n",
       "    .dataframe tbody tr th:only-of-type {\n",
       "        vertical-align: middle;\n",
       "    }\n",
       "\n",
       "    .dataframe tbody tr th {\n",
       "        vertical-align: top;\n",
       "    }\n",
       "\n",
       "    .dataframe thead th {\n",
       "        text-align: right;\n",
       "    }\n",
       "</style>\n",
       "<table border=\"1\" class=\"dataframe\">\n",
       "  <thead>\n",
       "    <tr style=\"text-align: right;\">\n",
       "      <th></th>\n",
       "      <th>INCOME_RANGE_CODE</th>\n",
       "      <th>NEXT_LN_APPLY</th>\n",
       "      <th>INCOME_RANGE_LN</th>\n",
       "      <th>NEXT_CC_APPLY</th>\n",
       "      <th>INCOME_RANGE_CC</th>\n",
       "      <th>NEXT_FX_APPLY</th>\n",
       "      <th>INCOME_RANGE_FX</th>\n",
       "      <th>NEXT_WM_APPLY</th>\n",
       "      <th>INCOME_RANGE_WM</th>\n",
       "    </tr>\n",
       "  </thead>\n",
       "  <tbody>\n",
       "    <tr>\n",
       "      <th>0</th>\n",
       "      <td>999.0</td>\n",
       "      <td>0.0</td>\n",
       "      <td>0.024609</td>\n",
       "      <td>0.0</td>\n",
       "      <td>0.096197</td>\n",
       "      <td>0.0</td>\n",
       "      <td>0.000000</td>\n",
       "      <td>0.0</td>\n",
       "      <td>0.000000</td>\n",
       "    </tr>\n",
       "    <tr>\n",
       "      <th>1</th>\n",
       "      <td>1.0</td>\n",
       "      <td>0.0</td>\n",
       "      <td>0.006752</td>\n",
       "      <td>0.0</td>\n",
       "      <td>0.040420</td>\n",
       "      <td>0.0</td>\n",
       "      <td>0.056671</td>\n",
       "      <td>0.0</td>\n",
       "      <td>0.008587</td>\n",
       "    </tr>\n",
       "    <tr>\n",
       "      <th>2</th>\n",
       "      <td>2.0</td>\n",
       "      <td>0.0</td>\n",
       "      <td>0.006453</td>\n",
       "      <td>0.0</td>\n",
       "      <td>0.047059</td>\n",
       "      <td>1.0</td>\n",
       "      <td>0.103708</td>\n",
       "      <td>0.0</td>\n",
       "      <td>0.040463</td>\n",
       "    </tr>\n",
       "    <tr>\n",
       "      <th>3</th>\n",
       "      <td>2.0</td>\n",
       "      <td>0.0</td>\n",
       "      <td>0.006453</td>\n",
       "      <td>0.0</td>\n",
       "      <td>0.047059</td>\n",
       "      <td>0.0</td>\n",
       "      <td>0.103708</td>\n",
       "      <td>0.0</td>\n",
       "      <td>0.040463</td>\n",
       "    </tr>\n",
       "    <tr>\n",
       "      <th>4</th>\n",
       "      <td>2.0</td>\n",
       "      <td>0.0</td>\n",
       "      <td>0.006453</td>\n",
       "      <td>0.0</td>\n",
       "      <td>0.047059</td>\n",
       "      <td>0.0</td>\n",
       "      <td>0.103708</td>\n",
       "      <td>0.0</td>\n",
       "      <td>0.040463</td>\n",
       "    </tr>\n",
       "  </tbody>\n",
       "</table>\n",
       "</div>"
      ],
      "text/plain": [
       "  INCOME_RANGE_CODE  NEXT_LN_APPLY  INCOME_RANGE_LN  NEXT_CC_APPLY  \\\n",
       "0             999.0            0.0         0.024609            0.0   \n",
       "1               1.0            0.0         0.006752            0.0   \n",
       "2               2.0            0.0         0.006453            0.0   \n",
       "3               2.0            0.0         0.006453            0.0   \n",
       "4               2.0            0.0         0.006453            0.0   \n",
       "\n",
       "   INCOME_RANGE_CC  NEXT_FX_APPLY  INCOME_RANGE_FX  NEXT_WM_APPLY  \\\n",
       "0         0.096197            0.0         0.000000            0.0   \n",
       "1         0.040420            0.0         0.056671            0.0   \n",
       "2         0.047059            1.0         0.103708            0.0   \n",
       "3         0.047059            0.0         0.103708            0.0   \n",
       "4         0.047059            0.0         0.103708            0.0   \n",
       "\n",
       "   INCOME_RANGE_WM  \n",
       "0         0.000000  \n",
       "1         0.008587  \n",
       "2         0.040463  \n",
       "3         0.040463  \n",
       "4         0.040463  "
      ]
     },
     "execution_count": 107,
     "metadata": {},
     "output_type": "execute_result"
    }
   ],
   "source": [
    "df_all[['INCOME_RANGE_CODE','NEXT_LN_APPLY','INCOME_RANGE_LN','NEXT_CC_APPLY','INCOME_RANGE_CC','NEXT_FX_APPLY','INCOME_RANGE_FX','NEXT_WM_APPLY','INCOME_RANGE_WM']].head(5)"
   ]
  },
  {
   "cell_type": "code",
   "execution_count": 108,
   "metadata": {},
   "outputs": [],
   "source": [
    "df_all.EDU_CODE=np.where(df_all.EDU_CODE.isnull(),'NA',df_all.EDU_CODE)\n",
    "EDU_CODE_LN = df_all[df_all.NEXT_LN_APPLY.notnull()].groupby(['EDU_CODE'])['NEXT_LN_APPLY'].mean().to_dict()\n",
    "EDU_CODE_CC = df_all[df_all.NEXT_CC_APPLY.notnull()].groupby(['EDU_CODE'])['NEXT_CC_APPLY'].mean().to_dict()\n",
    "EDU_CODE_FX = df_all[df_all.NEXT_FX_APPLY.notnull()].groupby(['EDU_CODE'])['NEXT_FX_APPLY'].mean().to_dict()\n",
    "EDU_CODE_WM = df_all[df_all.NEXT_WM_APPLY.notnull()].groupby(['EDU_CODE'])['NEXT_WM_APPLY'].mean().to_dict()"
   ]
  },
  {
   "cell_type": "code",
   "execution_count": 109,
   "metadata": {},
   "outputs": [
    {
     "data": {
      "text/plain": [
       "{'1.0': 0.08727429062768702,\n",
       " '2.0': 0.07892035246813243,\n",
       " '3.0': 0.07129221919621268,\n",
       " '4.0': 0.058250692397033864,\n",
       " '5.0': 0.043581068791152824,\n",
       " '6.0': 0.07389506471188444,\n",
       " '999.0': 0.05905488349919552,\n",
       " 'NA': 0.0}"
      ]
     },
     "execution_count": 109,
     "metadata": {},
     "output_type": "execute_result"
    }
   ],
   "source": [
    "EDU_CODE_FX"
   ]
  },
  {
   "cell_type": "code",
   "execution_count": 110,
   "metadata": {},
   "outputs": [],
   "source": [
    "df_all['EDU_CODE_LN']=df_all.EDU_CODE.map(EDU_CODE_LN) \n",
    "df_all['EDU_CODE_CC']=df_all.EDU_CODE.map(EDU_CODE_CC) \n",
    "df_all['EDU_CODE_FX']=df_all.EDU_CODE.map(EDU_CODE_FX) \n",
    "df_all['EDU_CODE_WM']=df_all.EDU_CODE.map(EDU_CODE_WM) "
   ]
  },
  {
   "cell_type": "code",
   "execution_count": 111,
   "metadata": {},
   "outputs": [
    {
     "data": {
      "text/html": [
       "<div>\n",
       "<style scoped>\n",
       "    .dataframe tbody tr th:only-of-type {\n",
       "        vertical-align: middle;\n",
       "    }\n",
       "\n",
       "    .dataframe tbody tr th {\n",
       "        vertical-align: top;\n",
       "    }\n",
       "\n",
       "    .dataframe thead th {\n",
       "        text-align: right;\n",
       "    }\n",
       "</style>\n",
       "<table border=\"1\" class=\"dataframe\">\n",
       "  <thead>\n",
       "    <tr style=\"text-align: right;\">\n",
       "      <th></th>\n",
       "      <th>EDU_CODE</th>\n",
       "      <th>NEXT_LN_APPLY</th>\n",
       "      <th>EDU_CODE_LN</th>\n",
       "      <th>NEXT_CC_APPLY</th>\n",
       "      <th>EDU_CODE_CC</th>\n",
       "      <th>NEXT_FX_APPLY</th>\n",
       "      <th>EDU_CODE_FX</th>\n",
       "      <th>NEXT_WM_APPLY</th>\n",
       "      <th>EDU_CODE_WM</th>\n",
       "    </tr>\n",
       "  </thead>\n",
       "  <tbody>\n",
       "    <tr>\n",
       "      <th>0</th>\n",
       "      <td>999.0</td>\n",
       "      <td>0.0</td>\n",
       "      <td>0.009296</td>\n",
       "      <td>0.0</td>\n",
       "      <td>0.028365</td>\n",
       "      <td>0.0</td>\n",
       "      <td>0.059055</td>\n",
       "      <td>0.0</td>\n",
       "      <td>0.000060</td>\n",
       "    </tr>\n",
       "    <tr>\n",
       "      <th>1</th>\n",
       "      <td>999.0</td>\n",
       "      <td>0.0</td>\n",
       "      <td>0.009296</td>\n",
       "      <td>0.0</td>\n",
       "      <td>0.028365</td>\n",
       "      <td>0.0</td>\n",
       "      <td>0.059055</td>\n",
       "      <td>0.0</td>\n",
       "      <td>0.000060</td>\n",
       "    </tr>\n",
       "    <tr>\n",
       "      <th>2</th>\n",
       "      <td>3.0</td>\n",
       "      <td>0.0</td>\n",
       "      <td>0.005600</td>\n",
       "      <td>0.0</td>\n",
       "      <td>0.044185</td>\n",
       "      <td>1.0</td>\n",
       "      <td>0.071292</td>\n",
       "      <td>0.0</td>\n",
       "      <td>0.017002</td>\n",
       "    </tr>\n",
       "    <tr>\n",
       "      <th>3</th>\n",
       "      <td>5.0</td>\n",
       "      <td>0.0</td>\n",
       "      <td>0.011168</td>\n",
       "      <td>0.0</td>\n",
       "      <td>0.052275</td>\n",
       "      <td>0.0</td>\n",
       "      <td>0.043581</td>\n",
       "      <td>0.0</td>\n",
       "      <td>0.015897</td>\n",
       "    </tr>\n",
       "    <tr>\n",
       "      <th>4</th>\n",
       "      <td>3.0</td>\n",
       "      <td>0.0</td>\n",
       "      <td>0.005600</td>\n",
       "      <td>0.0</td>\n",
       "      <td>0.044185</td>\n",
       "      <td>0.0</td>\n",
       "      <td>0.071292</td>\n",
       "      <td>0.0</td>\n",
       "      <td>0.017002</td>\n",
       "    </tr>\n",
       "  </tbody>\n",
       "</table>\n",
       "</div>"
      ],
      "text/plain": [
       "  EDU_CODE  NEXT_LN_APPLY  EDU_CODE_LN  NEXT_CC_APPLY  EDU_CODE_CC  \\\n",
       "0    999.0            0.0     0.009296            0.0     0.028365   \n",
       "1    999.0            0.0     0.009296            0.0     0.028365   \n",
       "2      3.0            0.0     0.005600            0.0     0.044185   \n",
       "3      5.0            0.0     0.011168            0.0     0.052275   \n",
       "4      3.0            0.0     0.005600            0.0     0.044185   \n",
       "\n",
       "   NEXT_FX_APPLY  EDU_CODE_FX  NEXT_WM_APPLY  EDU_CODE_WM  \n",
       "0            0.0     0.059055            0.0     0.000060  \n",
       "1            0.0     0.059055            0.0     0.000060  \n",
       "2            1.0     0.071292            0.0     0.017002  \n",
       "3            0.0     0.043581            0.0     0.015897  \n",
       "4            0.0     0.071292            0.0     0.017002  "
      ]
     },
     "execution_count": 111,
     "metadata": {},
     "output_type": "execute_result"
    }
   ],
   "source": [
    "df_all[['EDU_CODE','NEXT_LN_APPLY','EDU_CODE_LN','NEXT_CC_APPLY','EDU_CODE_CC','NEXT_FX_APPLY','EDU_CODE_FX','NEXT_WM_APPLY','EDU_CODE_WM']].head(5)"
   ]
  },
  {
   "cell_type": "code",
   "execution_count": 112,
   "metadata": {},
   "outputs": [],
   "source": [
    "df_all.GENDER_CODE=np.where(df_all.GENDER_CODE.isnull(),'NA',df_all.GENDER_CODE)\n",
    "GENDER_LN = df_all[df_all.NEXT_LN_APPLY.notnull()].groupby(['GENDER_CODE'])['NEXT_LN_APPLY'].mean().to_dict()\n",
    "GENDER_CC = df_all[df_all.NEXT_CC_APPLY.notnull()].groupby(['GENDER_CODE'])['NEXT_CC_APPLY'].mean().to_dict()\n",
    "GENDER_FX = df_all[df_all.NEXT_FX_APPLY.notnull()].groupby(['GENDER_CODE'])['NEXT_FX_APPLY'].mean().to_dict()\n",
    "GENDER_WM = df_all[df_all.NEXT_WM_APPLY.notnull()].groupby(['GENDER_CODE'])['NEXT_WM_APPLY'].mean().to_dict()"
   ]
  },
  {
   "cell_type": "code",
   "execution_count": 113,
   "metadata": {},
   "outputs": [
    {
     "data": {
      "text/plain": [
       "{999: 0.0, 'F': 0.005075682790391577, 'M': 0.009375934389816752, 'NA': 0.0}"
      ]
     },
     "execution_count": 113,
     "metadata": {},
     "output_type": "execute_result"
    }
   ],
   "source": [
    "GENDER_LN"
   ]
  },
  {
   "cell_type": "code",
   "execution_count": 114,
   "metadata": {},
   "outputs": [],
   "source": [
    "df_all['GENDER_LN']=df_all.GENDER_CODE.map(GENDER_LN) \n",
    "df_all['GENDER_CC']=df_all.GENDER_CODE.map(GENDER_CC) \n",
    "df_all['GENDER_FX']=df_all.GENDER_CODE.map(GENDER_FX) \n",
    "df_all['GENDER_WM']=df_all.GENDER_CODE.map(GENDER_WM) "
   ]
  },
  {
   "cell_type": "code",
   "execution_count": 115,
   "metadata": {},
   "outputs": [
    {
     "data": {
      "text/html": [
       "<div>\n",
       "<style scoped>\n",
       "    .dataframe tbody tr th:only-of-type {\n",
       "        vertical-align: middle;\n",
       "    }\n",
       "\n",
       "    .dataframe tbody tr th {\n",
       "        vertical-align: top;\n",
       "    }\n",
       "\n",
       "    .dataframe thead th {\n",
       "        text-align: right;\n",
       "    }\n",
       "</style>\n",
       "<table border=\"1\" class=\"dataframe\">\n",
       "  <thead>\n",
       "    <tr style=\"text-align: right;\">\n",
       "      <th></th>\n",
       "      <th>GENDER_CODE</th>\n",
       "      <th>NEXT_LN_APPLY</th>\n",
       "      <th>GENDER_LN</th>\n",
       "      <th>NEXT_CC_APPLY</th>\n",
       "      <th>GENDER_CC</th>\n",
       "      <th>NEXT_FX_APPLY</th>\n",
       "      <th>GENDER_FX</th>\n",
       "      <th>NEXT_WM_APPLY</th>\n",
       "      <th>GENDER_WM</th>\n",
       "    </tr>\n",
       "  </thead>\n",
       "  <tbody>\n",
       "    <tr>\n",
       "      <th>0</th>\n",
       "      <td>999</td>\n",
       "      <td>0.0</td>\n",
       "      <td>0.000000</td>\n",
       "      <td>0.0</td>\n",
       "      <td>0.001288</td>\n",
       "      <td>0.0</td>\n",
       "      <td>0.022757</td>\n",
       "      <td>0.0</td>\n",
       "      <td>0.001288</td>\n",
       "    </tr>\n",
       "    <tr>\n",
       "      <th>1</th>\n",
       "      <td>999</td>\n",
       "      <td>0.0</td>\n",
       "      <td>0.000000</td>\n",
       "      <td>0.0</td>\n",
       "      <td>0.001288</td>\n",
       "      <td>0.0</td>\n",
       "      <td>0.022757</td>\n",
       "      <td>0.0</td>\n",
       "      <td>0.001288</td>\n",
       "    </tr>\n",
       "    <tr>\n",
       "      <th>2</th>\n",
       "      <td>M</td>\n",
       "      <td>0.0</td>\n",
       "      <td>0.009376</td>\n",
       "      <td>0.0</td>\n",
       "      <td>0.043740</td>\n",
       "      <td>1.0</td>\n",
       "      <td>0.054697</td>\n",
       "      <td>0.0</td>\n",
       "      <td>0.013605</td>\n",
       "    </tr>\n",
       "    <tr>\n",
       "      <th>3</th>\n",
       "      <td>M</td>\n",
       "      <td>0.0</td>\n",
       "      <td>0.009376</td>\n",
       "      <td>0.0</td>\n",
       "      <td>0.043740</td>\n",
       "      <td>0.0</td>\n",
       "      <td>0.054697</td>\n",
       "      <td>0.0</td>\n",
       "      <td>0.013605</td>\n",
       "    </tr>\n",
       "    <tr>\n",
       "      <th>4</th>\n",
       "      <td>M</td>\n",
       "      <td>0.0</td>\n",
       "      <td>0.009376</td>\n",
       "      <td>0.0</td>\n",
       "      <td>0.043740</td>\n",
       "      <td>0.0</td>\n",
       "      <td>0.054697</td>\n",
       "      <td>0.0</td>\n",
       "      <td>0.013605</td>\n",
       "    </tr>\n",
       "  </tbody>\n",
       "</table>\n",
       "</div>"
      ],
      "text/plain": [
       "  GENDER_CODE  NEXT_LN_APPLY  GENDER_LN  NEXT_CC_APPLY  GENDER_CC  \\\n",
       "0         999            0.0   0.000000            0.0   0.001288   \n",
       "1         999            0.0   0.000000            0.0   0.001288   \n",
       "2           M            0.0   0.009376            0.0   0.043740   \n",
       "3           M            0.0   0.009376            0.0   0.043740   \n",
       "4           M            0.0   0.009376            0.0   0.043740   \n",
       "\n",
       "   NEXT_FX_APPLY  GENDER_FX  NEXT_WM_APPLY  GENDER_WM  \n",
       "0            0.0   0.022757            0.0   0.001288  \n",
       "1            0.0   0.022757            0.0   0.001288  \n",
       "2            1.0   0.054697            0.0   0.013605  \n",
       "3            0.0   0.054697            0.0   0.013605  \n",
       "4            0.0   0.054697            0.0   0.013605  "
      ]
     },
     "execution_count": 115,
     "metadata": {},
     "output_type": "execute_result"
    }
   ],
   "source": [
    "df_all[['GENDER_CODE','NEXT_LN_APPLY','GENDER_LN','NEXT_CC_APPLY','GENDER_CC','NEXT_FX_APPLY','GENDER_FX','NEXT_WM_APPLY','GENDER_WM']].head(5)"
   ]
  },
  {
   "cell_type": "code",
   "execution_count": 116,
   "metadata": {},
   "outputs": [],
   "source": [
    "df_all.AGE=np.where(df_all.AGE.isnull(),'NA',df_all.AGE)\n",
    "AGE_LN = df_all[df_all.NEXT_LN_APPLY.notnull()].groupby(['AGE'])['NEXT_LN_APPLY'].mean().to_dict()\n",
    "AGE_CC = df_all[df_all.NEXT_CC_APPLY.notnull()].groupby(['AGE'])['NEXT_CC_APPLY'].mean().to_dict()\n",
    "AGE_FX = df_all[df_all.NEXT_FX_APPLY.notnull()].groupby(['AGE'])['NEXT_FX_APPLY'].mean().to_dict()\n",
    "AGE_WM = df_all[df_all.NEXT_WM_APPLY.notnull()].groupby(['AGE'])['NEXT_WM_APPLY'].mean().to_dict()"
   ]
  },
  {
   "cell_type": "code",
   "execution_count": 117,
   "metadata": {},
   "outputs": [
    {
     "data": {
      "text/plain": [
       "{'1.0': 0.007738947051291707,\n",
       " '2.0': 0.008253848333175938,\n",
       " '3.0': 0.015946843853820596,\n",
       " '4.0': 0.0296864639575637,\n",
       " 'NA': 0.0}"
      ]
     },
     "execution_count": 117,
     "metadata": {},
     "output_type": "execute_result"
    }
   ],
   "source": [
    "AGE_WM"
   ]
  },
  {
   "cell_type": "code",
   "execution_count": 118,
   "metadata": {},
   "outputs": [],
   "source": [
    "df_all['AGE_LN']=df_all.AGE.map(AGE_LN) \n",
    "df_all['AGE_CC']=df_all.AGE.map(AGE_CC) \n",
    "df_all['AGE_FX']=df_all.AGE.map(AGE_FX) \n",
    "df_all['AGE_WM']=df_all.AGE.map(AGE_WM) "
   ]
  },
  {
   "cell_type": "code",
   "execution_count": 119,
   "metadata": {},
   "outputs": [
    {
     "data": {
      "text/html": [
       "<div>\n",
       "<style scoped>\n",
       "    .dataframe tbody tr th:only-of-type {\n",
       "        vertical-align: middle;\n",
       "    }\n",
       "\n",
       "    .dataframe tbody tr th {\n",
       "        vertical-align: top;\n",
       "    }\n",
       "\n",
       "    .dataframe thead th {\n",
       "        text-align: right;\n",
       "    }\n",
       "</style>\n",
       "<table border=\"1\" class=\"dataframe\">\n",
       "  <thead>\n",
       "    <tr style=\"text-align: right;\">\n",
       "      <th></th>\n",
       "      <th>AGE</th>\n",
       "      <th>NEXT_LN_APPLY</th>\n",
       "      <th>AGE_LN</th>\n",
       "      <th>NEXT_CC_APPLY</th>\n",
       "      <th>AGE_CC</th>\n",
       "      <th>NEXT_FX_APPLY</th>\n",
       "      <th>AGE_FX</th>\n",
       "      <th>NEXT_WM_APPLY</th>\n",
       "      <th>AGE_WM</th>\n",
       "    </tr>\n",
       "  </thead>\n",
       "  <tbody>\n",
       "    <tr>\n",
       "      <th>0</th>\n",
       "      <td>1.0</td>\n",
       "      <td>0.0</td>\n",
       "      <td>0.008247</td>\n",
       "      <td>0.0</td>\n",
       "      <td>0.054756</td>\n",
       "      <td>0.0</td>\n",
       "      <td>0.067994</td>\n",
       "      <td>0.0</td>\n",
       "      <td>0.007739</td>\n",
       "    </tr>\n",
       "    <tr>\n",
       "      <th>1</th>\n",
       "      <td>3.0</td>\n",
       "      <td>0.0</td>\n",
       "      <td>0.006372</td>\n",
       "      <td>0.0</td>\n",
       "      <td>0.035778</td>\n",
       "      <td>0.0</td>\n",
       "      <td>0.058693</td>\n",
       "      <td>0.0</td>\n",
       "      <td>0.015947</td>\n",
       "    </tr>\n",
       "    <tr>\n",
       "      <th>2</th>\n",
       "      <td>4.0</td>\n",
       "      <td>0.0</td>\n",
       "      <td>0.004225</td>\n",
       "      <td>0.0</td>\n",
       "      <td>0.031581</td>\n",
       "      <td>1.0</td>\n",
       "      <td>0.073828</td>\n",
       "      <td>0.0</td>\n",
       "      <td>0.029686</td>\n",
       "    </tr>\n",
       "    <tr>\n",
       "      <th>3</th>\n",
       "      <td>4.0</td>\n",
       "      <td>0.0</td>\n",
       "      <td>0.004225</td>\n",
       "      <td>0.0</td>\n",
       "      <td>0.031581</td>\n",
       "      <td>0.0</td>\n",
       "      <td>0.073828</td>\n",
       "      <td>0.0</td>\n",
       "      <td>0.029686</td>\n",
       "    </tr>\n",
       "    <tr>\n",
       "      <th>4</th>\n",
       "      <td>4.0</td>\n",
       "      <td>0.0</td>\n",
       "      <td>0.004225</td>\n",
       "      <td>0.0</td>\n",
       "      <td>0.031581</td>\n",
       "      <td>0.0</td>\n",
       "      <td>0.073828</td>\n",
       "      <td>0.0</td>\n",
       "      <td>0.029686</td>\n",
       "    </tr>\n",
       "  </tbody>\n",
       "</table>\n",
       "</div>"
      ],
      "text/plain": [
       "   AGE  NEXT_LN_APPLY    AGE_LN  NEXT_CC_APPLY    AGE_CC  NEXT_FX_APPLY  \\\n",
       "0  1.0            0.0  0.008247            0.0  0.054756            0.0   \n",
       "1  3.0            0.0  0.006372            0.0  0.035778            0.0   \n",
       "2  4.0            0.0  0.004225            0.0  0.031581            1.0   \n",
       "3  4.0            0.0  0.004225            0.0  0.031581            0.0   \n",
       "4  4.0            0.0  0.004225            0.0  0.031581            0.0   \n",
       "\n",
       "     AGE_FX  NEXT_WM_APPLY    AGE_WM  \n",
       "0  0.067994            0.0  0.007739  \n",
       "1  0.058693            0.0  0.015947  \n",
       "2  0.073828            0.0  0.029686  \n",
       "3  0.073828            0.0  0.029686  \n",
       "4  0.073828            0.0  0.029686  "
      ]
     },
     "execution_count": 119,
     "metadata": {},
     "output_type": "execute_result"
    }
   ],
   "source": [
    "df_all[['AGE','NEXT_LN_APPLY','AGE_LN','NEXT_CC_APPLY','AGE_CC','NEXT_FX_APPLY','AGE_FX','NEXT_WM_APPLY','AGE_WM']].head(5)"
   ]
  },
  {
   "cell_type": "code",
   "execution_count": 120,
   "metadata": {},
   "outputs": [],
   "source": [
    "df_all.CHILDREN_CNT=np.where(df_all.CHILDREN_CNT.isnull(),'NA',df_all.CHILDREN_CNT)\n",
    "CHILDREN_LN = df_all[df_all.NEXT_LN_APPLY.notnull()].groupby(['CHILDREN_CNT'])['NEXT_LN_APPLY'].mean().to_dict()\n",
    "CHILDREN_CC = df_all[df_all.NEXT_CC_APPLY.notnull()].groupby(['CHILDREN_CNT'])['NEXT_CC_APPLY'].mean().to_dict()\n",
    "CHILDREN_FX = df_all[df_all.NEXT_FX_APPLY.notnull()].groupby(['CHILDREN_CNT'])['NEXT_FX_APPLY'].mean().to_dict()\n",
    "CHILDREN_WM = df_all[df_all.NEXT_WM_APPLY.notnull()].groupby(['CHILDREN_CNT'])['NEXT_WM_APPLY'].mean().to_dict()"
   ]
  },
  {
   "cell_type": "code",
   "execution_count": 121,
   "metadata": {},
   "outputs": [
    {
     "data": {
      "text/plain": [
       "{'0.0': 0.015412126135716353,\n",
       " '1.0': 0.007525870178739417,\n",
       " '10.0': 0.0,\n",
       " '2.0': 0.019014084507042252,\n",
       " '3.0': 0.034013605442176874,\n",
       " '4.0': 0.10638297872340426,\n",
       " '5.0': 0.0,\n",
       " '6.0': 0.0,\n",
       " '9.0': 0.0,\n",
       " '999.0': 0.0,\n",
       " 'NA': 0.0}"
      ]
     },
     "execution_count": 121,
     "metadata": {},
     "output_type": "execute_result"
    }
   ],
   "source": [
    "CHILDREN_WM"
   ]
  },
  {
   "cell_type": "code",
   "execution_count": 122,
   "metadata": {},
   "outputs": [],
   "source": [
    "df_all['CHILDREN_LN']=df_all.CHILDREN_CNT.map(CHILDREN_LN) \n",
    "df_all['CHILDREN_CC']=df_all.CHILDREN_CNT.map(CHILDREN_CC) \n",
    "df_all['CHILDREN_FX']=df_all.CHILDREN_CNT.map(CHILDREN_FX) \n",
    "df_all['CHILDREN_WM']=df_all.CHILDREN_CNT.map(CHILDREN_WM) "
   ]
  },
  {
   "cell_type": "code",
   "execution_count": 123,
   "metadata": {},
   "outputs": [
    {
     "data": {
      "text/html": [
       "<div>\n",
       "<style scoped>\n",
       "    .dataframe tbody tr th:only-of-type {\n",
       "        vertical-align: middle;\n",
       "    }\n",
       "\n",
       "    .dataframe tbody tr th {\n",
       "        vertical-align: top;\n",
       "    }\n",
       "\n",
       "    .dataframe thead th {\n",
       "        text-align: right;\n",
       "    }\n",
       "</style>\n",
       "<table border=\"1\" class=\"dataframe\">\n",
       "  <thead>\n",
       "    <tr style=\"text-align: right;\">\n",
       "      <th></th>\n",
       "      <th>CHILDREN_CNT</th>\n",
       "      <th>NEXT_LN_APPLY</th>\n",
       "      <th>CHILDREN_LN</th>\n",
       "      <th>NEXT_CC_APPLY</th>\n",
       "      <th>CHILDREN_CC</th>\n",
       "      <th>NEXT_FX_APPLY</th>\n",
       "      <th>CHILDREN_FX</th>\n",
       "      <th>NEXT_WM_APPLY</th>\n",
       "      <th>CHILDREN_WM</th>\n",
       "    </tr>\n",
       "  </thead>\n",
       "  <tbody>\n",
       "    <tr>\n",
       "      <th>0</th>\n",
       "      <td>999.0</td>\n",
       "      <td>0.0</td>\n",
       "      <td>0.021696</td>\n",
       "      <td>0.0</td>\n",
       "      <td>0.086785</td>\n",
       "      <td>0.0</td>\n",
       "      <td>0.000000</td>\n",
       "      <td>0.0</td>\n",
       "      <td>0.000000</td>\n",
       "    </tr>\n",
       "    <tr>\n",
       "      <th>1</th>\n",
       "      <td>0.0</td>\n",
       "      <td>0.0</td>\n",
       "      <td>0.006817</td>\n",
       "      <td>0.0</td>\n",
       "      <td>0.041684</td>\n",
       "      <td>0.0</td>\n",
       "      <td>0.065388</td>\n",
       "      <td>0.0</td>\n",
       "      <td>0.015412</td>\n",
       "    </tr>\n",
       "    <tr>\n",
       "      <th>2</th>\n",
       "      <td>0.0</td>\n",
       "      <td>0.0</td>\n",
       "      <td>0.006817</td>\n",
       "      <td>0.0</td>\n",
       "      <td>0.041684</td>\n",
       "      <td>1.0</td>\n",
       "      <td>0.065388</td>\n",
       "      <td>0.0</td>\n",
       "      <td>0.015412</td>\n",
       "    </tr>\n",
       "    <tr>\n",
       "      <th>3</th>\n",
       "      <td>0.0</td>\n",
       "      <td>0.0</td>\n",
       "      <td>0.006817</td>\n",
       "      <td>0.0</td>\n",
       "      <td>0.041684</td>\n",
       "      <td>0.0</td>\n",
       "      <td>0.065388</td>\n",
       "      <td>0.0</td>\n",
       "      <td>0.015412</td>\n",
       "    </tr>\n",
       "    <tr>\n",
       "      <th>4</th>\n",
       "      <td>0.0</td>\n",
       "      <td>0.0</td>\n",
       "      <td>0.006817</td>\n",
       "      <td>0.0</td>\n",
       "      <td>0.041684</td>\n",
       "      <td>0.0</td>\n",
       "      <td>0.065388</td>\n",
       "      <td>0.0</td>\n",
       "      <td>0.015412</td>\n",
       "    </tr>\n",
       "  </tbody>\n",
       "</table>\n",
       "</div>"
      ],
      "text/plain": [
       "  CHILDREN_CNT  NEXT_LN_APPLY  CHILDREN_LN  NEXT_CC_APPLY  CHILDREN_CC  \\\n",
       "0        999.0            0.0     0.021696            0.0     0.086785   \n",
       "1          0.0            0.0     0.006817            0.0     0.041684   \n",
       "2          0.0            0.0     0.006817            0.0     0.041684   \n",
       "3          0.0            0.0     0.006817            0.0     0.041684   \n",
       "4          0.0            0.0     0.006817            0.0     0.041684   \n",
       "\n",
       "   NEXT_FX_APPLY  CHILDREN_FX  NEXT_WM_APPLY  CHILDREN_WM  \n",
       "0            0.0     0.000000            0.0     0.000000  \n",
       "1            0.0     0.065388            0.0     0.015412  \n",
       "2            1.0     0.065388            0.0     0.015412  \n",
       "3            0.0     0.065388            0.0     0.015412  \n",
       "4            0.0     0.065388            0.0     0.015412  "
      ]
     },
     "execution_count": 123,
     "metadata": {},
     "output_type": "execute_result"
    }
   ],
   "source": [
    "df_all[['CHILDREN_CNT','NEXT_LN_APPLY','CHILDREN_LN','NEXT_CC_APPLY','CHILDREN_CC','NEXT_FX_APPLY','CHILDREN_FX','NEXT_WM_APPLY','CHILDREN_WM']].head(5)"
   ]
  },
  {
   "cell_type": "code",
   "execution_count": 124,
   "metadata": {},
   "outputs": [],
   "source": [
    "CM_CUST_CODE=['AGE_LN','AGE_CC','AGE_WM','AGE_FX','CHILDREN_LN','CHILDREN_CC','CHILDREN_WM','CHILDREN_FX',\n",
    "              'GENDER_LN','GENDER_CC','GENDER_WM','GENDER_FX','EDU_CODE_LN','EDU_CODE_CC','EDU_CODE_WM','EDU_CODE_FX',\n",
    "              'INCOME_RANGE_LN','INCOME_RANGE_CC','INCOME_RANGE_WM','INCOME_RANGE_FX',\n",
    "              'WORK_MTHS_LN','WORK_MTHS_CC','WORK_MTHS_WM','WORK_MTHS_FX']"
   ]
  },
  {
   "cell_type": "code",
   "execution_count": 125,
   "metadata": {},
   "outputs": [
    {
     "data": {
      "text/plain": [
       "Y    187679\n",
       "N     30000\n",
       "Name: IS_TRAIN, dtype: int64"
      ]
     },
     "execution_count": 125,
     "metadata": {},
     "output_type": "execute_result"
    }
   ],
   "source": [
    "df_all.IS_TRAIN.value_counts()"
   ]
  },
  {
   "cell_type": "code",
   "execution_count": 126,
   "metadata": {},
   "outputs": [],
   "source": [
    "df_all['D90_TXN_CNT']=df_all['D90_LN_CNT'].fillna(0)+df_all['D90_WM_CNT'].fillna(0)+df_all['D90_FX_CNT'].fillna(0)+df_all['D90_CC_CNT'].fillna(0)"
   ]
  },
  {
   "cell_type": "code",
   "execution_count": 127,
   "metadata": {},
   "outputs": [
    {
     "data": {
      "text/html": [
       "<div>\n",
       "<style scoped>\n",
       "    .dataframe tbody tr th:only-of-type {\n",
       "        vertical-align: middle;\n",
       "    }\n",
       "\n",
       "    .dataframe tbody tr th {\n",
       "        vertical-align: top;\n",
       "    }\n",
       "\n",
       "    .dataframe thead th {\n",
       "        text-align: right;\n",
       "    }\n",
       "</style>\n",
       "<table border=\"1\" class=\"dataframe\">\n",
       "  <thead>\n",
       "    <tr style=\"text-align: right;\">\n",
       "      <th></th>\n",
       "      <th>D90_LN_CNT</th>\n",
       "      <th>D90_WM_CNT</th>\n",
       "      <th>D90_FX_CNT</th>\n",
       "      <th>D90_CC_CNT</th>\n",
       "      <th>D90_TXN_CNT</th>\n",
       "    </tr>\n",
       "  </thead>\n",
       "  <tbody>\n",
       "    <tr>\n",
       "      <th>0</th>\n",
       "      <td>NaN</td>\n",
       "      <td>NaN</td>\n",
       "      <td>NaN</td>\n",
       "      <td>NaN</td>\n",
       "      <td>0.0</td>\n",
       "    </tr>\n",
       "    <tr>\n",
       "      <th>1</th>\n",
       "      <td>NaN</td>\n",
       "      <td>NaN</td>\n",
       "      <td>NaN</td>\n",
       "      <td>NaN</td>\n",
       "      <td>0.0</td>\n",
       "    </tr>\n",
       "    <tr>\n",
       "      <th>2</th>\n",
       "      <td>NaN</td>\n",
       "      <td>NaN</td>\n",
       "      <td>10.0</td>\n",
       "      <td>NaN</td>\n",
       "      <td>10.0</td>\n",
       "    </tr>\n",
       "    <tr>\n",
       "      <th>3</th>\n",
       "      <td>NaN</td>\n",
       "      <td>NaN</td>\n",
       "      <td>NaN</td>\n",
       "      <td>NaN</td>\n",
       "      <td>0.0</td>\n",
       "    </tr>\n",
       "    <tr>\n",
       "      <th>4</th>\n",
       "      <td>NaN</td>\n",
       "      <td>NaN</td>\n",
       "      <td>NaN</td>\n",
       "      <td>NaN</td>\n",
       "      <td>0.0</td>\n",
       "    </tr>\n",
       "  </tbody>\n",
       "</table>\n",
       "</div>"
      ],
      "text/plain": [
       "   D90_LN_CNT  D90_WM_CNT  D90_FX_CNT  D90_CC_CNT  D90_TXN_CNT\n",
       "0         NaN         NaN         NaN         NaN          0.0\n",
       "1         NaN         NaN         NaN         NaN          0.0\n",
       "2         NaN         NaN        10.0         NaN         10.0\n",
       "3         NaN         NaN         NaN         NaN          0.0\n",
       "4         NaN         NaN         NaN         NaN          0.0"
      ]
     },
     "execution_count": 127,
     "metadata": {},
     "output_type": "execute_result"
    }
   ],
   "source": [
    "df_all[['D90_LN_CNT','D90_WM_CNT','D90_FX_CNT','D90_CC_CNT','D90_TXN_CNT']].head(5)"
   ]
  },
  {
   "cell_type": "code",
   "execution_count": 128,
   "metadata": {},
   "outputs": [],
   "source": [
    "#LN last days\n",
    "labels = ['Q' + str(i + 1) for i in range(0, 5)]\n",
    "df_all['D0_LN_LAST_DAYS_bin'], intervals = pd.qcut(\n",
    "    df_all[df_all.NEXT_LN_APPLY.notnull()].CUST_YEAR,\n",
    "    5,\n",
    "    labels=labels,\n",
    "    retbins=True,\n",
    "    precision=3,\n",
    "    duplicates='drop')"
   ]
  },
  {
   "cell_type": "code",
   "execution_count": 129,
   "metadata": {},
   "outputs": [
    {
     "data": {
      "text/plain": [
       "[0, 90, 365, 730, 1095, 9998]"
      ]
     },
     "execution_count": 129,
     "metadata": {},
     "output_type": "execute_result"
    }
   ],
   "source": [
    "intervals=[0,90,365,730,1095,9998]\n",
    "intervals"
   ]
  },
  {
   "cell_type": "code",
   "execution_count": 130,
   "metadata": {},
   "outputs": [],
   "source": [
    "#df_all['D0_LN_LAST_DAYS_bin']= pd.cut(x = df_all.D0_LN_LAST_DAYS, bins=intervals, labels=labels)\n",
    "#df_all.D0_LN_LAST_DAYS_bin.unique()"
   ]
  },
  {
   "cell_type": "code",
   "execution_count": 131,
   "metadata": {},
   "outputs": [],
   "source": [
    "#df_all.D0_LN_LAST_DAYS_bin=np.where(df_all.D0_LN_LAST_DAYS_bin.isnull(),'NA',df_all.D0_LN_LAST_DAYS_bin)"
   ]
  },
  {
   "cell_type": "code",
   "execution_count": 132,
   "metadata": {},
   "outputs": [],
   "source": [
    "df_all['D0_LN_LAST_DAYS_bin']= pd.cut(x = df_all.D0_LN_LAST_DAYS, bins=intervals, labels=labels)\n",
    "df_all['D0_CC_LAST_DAYS_bin']= pd.cut(x = df_all.D0_CC_LAST_DAYS, bins=intervals, labels=labels)\n",
    "df_all['D0_FX_LAST_DAYS_bin']= pd.cut(x = df_all.D0_FX_LAST_DAYS, bins=intervals, labels=labels)\n",
    "df_all['D0_WM_LAST_DAYS_bin']= pd.cut(x = df_all.D0_WM_LAST_DAYS, bins=intervals, labels=labels)"
   ]
  },
  {
   "cell_type": "code",
   "execution_count": 133,
   "metadata": {},
   "outputs": [],
   "source": [
    "df_all.D0_LN_LAST_DAYS_bin=np.where(df_all.D0_LN_LAST_DAYS_bin.isnull(),'NA',df_all.D0_LN_LAST_DAYS_bin)\n",
    "df_all.D0_CC_LAST_DAYS_bin=np.where(df_all.D0_CC_LAST_DAYS_bin.isnull(),'NA',df_all.D0_CC_LAST_DAYS_bin)\n",
    "df_all.D0_FX_LAST_DAYS_bin=np.where(df_all.D0_FX_LAST_DAYS_bin.isnull(),'NA',df_all.D0_FX_LAST_DAYS_bin)\n",
    "df_all.D0_WM_LAST_DAYS_bin=np.where(df_all.D0_WM_LAST_DAYS_bin.isnull(),'NA',df_all.D0_WM_LAST_DAYS_bin)"
   ]
  },
  {
   "cell_type": "code",
   "execution_count": 134,
   "metadata": {},
   "outputs": [],
   "source": [
    "#D0_LN_LAST_DAYS_dict = df_all[df_all.NEXT_LN_APPLY.notnull()].groupby(['D0_LN_LAST_DAYS_bin'])['NEXT_LN_APPLY'].mean().to_dict()\n",
    "#D0_LN_LAST_DAYS_dict"
   ]
  },
  {
   "cell_type": "code",
   "execution_count": 135,
   "metadata": {},
   "outputs": [],
   "source": [
    "D0_LN_LAST_DAYS_dict = df_all[df_all.NEXT_LN_APPLY.notnull()].groupby(['D0_LN_LAST_DAYS_bin'])['NEXT_LN_APPLY'].mean().to_dict()\n",
    "D0_CC_LAST_DAYS_dict = df_all[df_all.NEXT_CC_APPLY.notnull()].groupby(['D0_CC_LAST_DAYS_bin'])['NEXT_CC_APPLY'].mean().to_dict()\n",
    "D0_FX_LAST_DAYS_dict = df_all[df_all.NEXT_FX_APPLY.notnull()].groupby(['D0_FX_LAST_DAYS_bin'])['NEXT_FX_APPLY'].mean().to_dict()\n",
    "D0_WM_LAST_DAYS_dict = df_all[df_all.NEXT_WM_APPLY.notnull()].groupby(['D0_WM_LAST_DAYS_bin'])['NEXT_WM_APPLY'].mean().to_dict()"
   ]
  },
  {
   "cell_type": "code",
   "execution_count": 136,
   "metadata": {},
   "outputs": [
    {
     "data": {
      "text/plain": [
       "({'NA': 0.0060964167312235655,\n",
       "  'Q1': 0.04133858267716536,\n",
       "  'Q2': 0.0392156862745098,\n",
       "  'Q3': 0.028784648187633263,\n",
       "  'Q4': 0.0223463687150838,\n",
       "  'Q5': 0.011328030850807424},\n",
       " {'NA': 0.0516603560081821,\n",
       "  'Q1': 0.03801820020222447,\n",
       "  'Q2': 0.030213195408098904,\n",
       "  'Q3': 0.02644363815263514,\n",
       "  'Q4': 0.022079617141614095,\n",
       "  'Q5': 0.016893603074814526},\n",
       " {'NA': 0.04754311905778575,\n",
       "  'Q1': 0.21771079167560609,\n",
       "  'Q2': 0.11007481807932766,\n",
       "  'Q3': 0.06281771968046478,\n",
       "  'Q4': 0.034482758620689655,\n",
       "  'Q5': 0.04314159292035398},\n",
       " {'NA': 0.01128636447173544,\n",
       "  'Q1': 0.16150296638101516,\n",
       "  'Q2': 0.04770936679311351,\n",
       "  'Q3': 0.013855213023900243,\n",
       "  'Q4': 0.017526777020447908,\n",
       "  'Q5': 0.004302019315188762})"
      ]
     },
     "execution_count": 136,
     "metadata": {},
     "output_type": "execute_result"
    }
   ],
   "source": [
    "D0_LN_LAST_DAYS_dict,D0_CC_LAST_DAYS_dict,D0_FX_LAST_DAYS_dict,D0_WM_LAST_DAYS_dict,"
   ]
  },
  {
   "cell_type": "code",
   "execution_count": 137,
   "metadata": {},
   "outputs": [],
   "source": [
    "#df_all['D0_LN_LAST_DAYS_P']=df_all.D0_LN_LAST_DAYS_bin.map(D0_LN_LAST_DAYS_dict) \n",
    "df_all['D0_LN_LAST_DAYS_P']=df_all.D0_LN_LAST_DAYS_bin.map(D0_LN_LAST_DAYS_dict) \n",
    "df_all['D0_CC_LAST_DAYS_P']=df_all.D0_CC_LAST_DAYS_bin.map(D0_CC_LAST_DAYS_dict) \n",
    "df_all['D0_FX_LAST_DAYS_P']=df_all.D0_FX_LAST_DAYS_bin.map(D0_FX_LAST_DAYS_dict) \n",
    "df_all['D0_WM_LAST_DAYS_P']=df_all.D0_WM_LAST_DAYS_bin.map(D0_WM_LAST_DAYS_dict) "
   ]
  },
  {
   "cell_type": "code",
   "execution_count": 138,
   "metadata": {},
   "outputs": [],
   "source": [
    "#cust_year\n",
    "#labels = ['Q' + str(i + 1) for i in range(0, 6)]\n",
    "#df_all['CUST_YEAR_bin'], intervals = pd.qcut(\n",
    "#    df_all[df_all.NEXT_LN_APPLY.notnull()].CUST_YEAR,\n",
    "#    6,\n",
    "#    labels=labels,\n",
    "#    retbins=True,\n",
    "#    precision=3,\n",
    "#    duplicates='drop')"
   ]
  },
  {
   "cell_type": "code",
   "execution_count": 139,
   "metadata": {},
   "outputs": [],
   "source": [
    "#intervals=[0,5,10,15,20,25,30]\n",
    "#intervals"
   ]
  },
  {
   "cell_type": "code",
   "execution_count": 140,
   "metadata": {},
   "outputs": [
    {
     "data": {
      "text/plain": [
       "(['A', 'B', 'C', 'D', 'E', 'F'], [0, 5, 10, 15, 20, 25, 30])"
      ]
     },
     "execution_count": 140,
     "metadata": {},
     "output_type": "execute_result"
    }
   ],
   "source": [
    "labels=['A','B','C','D','E','F']\n",
    "intervals=[0,5,10,15,20,25,30]\n",
    "labels,intervals"
   ]
  },
  {
   "cell_type": "code",
   "execution_count": 141,
   "metadata": {},
   "outputs": [],
   "source": [
    "#df_all['CUST_YEAR_bin'] = pd.cut(x = df_all.CUST_YEAR, bins=intervals, labels=labels)\n",
    "#df_all.CUST_YEAR_bin.unique()"
   ]
  },
  {
   "cell_type": "code",
   "execution_count": 142,
   "metadata": {},
   "outputs": [],
   "source": [
    "#CUST_YEAR_dict = df_all[df_all.NEXT_LN_APPLY.notnull()].groupby(['CUST_YEAR_bin'])['NEXT_LN_APPLY'].mean().to_dict()\n",
    "#CUST_YEAR_dict"
   ]
  },
  {
   "cell_type": "code",
   "execution_count": 143,
   "metadata": {},
   "outputs": [],
   "source": [
    "df_all['CUST_YEAR_bin'] = pd.cut(x = df_all.CUST_YEAR, bins=intervals, labels=labels)\n",
    "df_all.CUST_YEAR_bin=np.where(df_all.CUST_YEAR_bin.isnull(),'NA',df_all.CUST_YEAR_bin)"
   ]
  },
  {
   "cell_type": "code",
   "execution_count": 144,
   "metadata": {},
   "outputs": [],
   "source": [
    "CUST_YEAR_LN_dict = df_all[df_all.NEXT_LN_APPLY.notnull()].groupby(['CUST_YEAR_bin'])['NEXT_LN_APPLY'].mean().to_dict()\n",
    "CUST_YEAR_CC_dict = df_all[df_all.NEXT_CC_APPLY.notnull()].groupby(['CUST_YEAR_bin'])['NEXT_CC_APPLY'].mean().to_dict()\n",
    "CUST_YEAR_FX_dict = df_all[df_all.NEXT_FX_APPLY.notnull()].groupby(['CUST_YEAR_bin'])['NEXT_FX_APPLY'].mean().to_dict()\n",
    "CUST_YEAR_WM_dict = df_all[df_all.NEXT_WM_APPLY.notnull()].groupby(['CUST_YEAR_bin'])['NEXT_WM_APPLY'].mean().to_dict()"
   ]
  },
  {
   "cell_type": "code",
   "execution_count": 145,
   "metadata": {},
   "outputs": [
    {
     "data": {
      "text/plain": [
       "({'A': 0.004861448711716091,\n",
       "  'B': 0.004640713049243122,\n",
       "  'C': 0.006081649831649832,\n",
       "  'D': 0.007037643207855973,\n",
       "  'E': 0.008002195548237062,\n",
       "  'F': 0.00817390535943092,\n",
       "  'NA': 0.0},\n",
       " {'A': 0.02989790957705396,\n",
       "  'B': 0.03207984972929174,\n",
       "  'C': 0.033796296296296297,\n",
       "  'D': 0.02995090016366612,\n",
       "  'E': 0.03791654027819907,\n",
       "  'F': 0.10427252242301065,\n",
       "  'NA': 0.0},\n",
       " {'A': 0.08458920758385999,\n",
       "  'B': 0.07598246841736953,\n",
       "  'C': 0.06452020202020202,\n",
       "  'D': 0.062403553892915596,\n",
       "  'E': 0.06342534413774176,\n",
       "  'F': 0.05642203861617991,\n",
       "  'NA': 0.0},\n",
       " {'A': 0.03986387943607195,\n",
       "  'B': 0.027218150344370372,\n",
       "  'C': 0.02018097643097643,\n",
       "  'D': 0.014893617021276596,\n",
       "  'E': 0.008132195114905172,\n",
       "  'F': 0.005522909026642513,\n",
       "  'NA': 0.0})"
      ]
     },
     "execution_count": 145,
     "metadata": {},
     "output_type": "execute_result"
    }
   ],
   "source": [
    "CUST_YEAR_LN_dict,CUST_YEAR_CC_dict,CUST_YEAR_FX_dict,CUST_YEAR_WM_dict,"
   ]
  },
  {
   "cell_type": "code",
   "execution_count": 146,
   "metadata": {},
   "outputs": [],
   "source": [
    "#df_all['CUST_YEAR_P']=df_all.CUST_YEAR_bin.map(CUST_YEAR_dict) \n",
    "df_all['CUST_YEAR_LN_P']=df_all.CUST_YEAR_bin.map(CUST_YEAR_LN_dict) \n",
    "df_all['CUST_YEAR_CC_P']=df_all.CUST_YEAR_bin.map(CUST_YEAR_CC_dict) \n",
    "df_all['CUST_YEAR_FX_P']=df_all.CUST_YEAR_bin.map(CUST_YEAR_FX_dict) \n",
    "df_all['CUST_YEAR_WM_P']=df_all.CUST_YEAR_bin.map(CUST_YEAR_WM_dict) "
   ]
  },
  {
   "cell_type": "code",
   "execution_count": 148,
   "metadata": {},
   "outputs": [
    {
     "data": {
      "text/plain": [
       "(E     69231\n",
       " C     47520\n",
       " D     42770\n",
       " B     27151\n",
       " F     22633\n",
       " A      8228\n",
       " NA      146\n",
       " Name: CUST_YEAR_bin, dtype: int64, 0.008002    69231\n",
       " 0.006082    47520\n",
       " 0.007038    42770\n",
       " 0.004641    27151\n",
       " 0.008174    22633\n",
       " 0.004861     8228\n",
       " 0.000000      146\n",
       " Name: CUST_YEAR_LN_P, dtype: int64)"
      ]
     },
     "execution_count": 148,
     "metadata": {},
     "output_type": "execute_result"
    }
   ],
   "source": [
    "df_all.CUST_YEAR_bin.value_counts(),df_all.CUST_YEAR_LN_P.value_counts()"
   ]
  },
  {
   "cell_type": "code",
   "execution_count": 149,
   "metadata": {},
   "outputs": [],
   "source": [
    "df_all=df_all.drop(['GENDER_CODE','AGE','CHILDREN_CNT','EDU_CODE','INCOME_RANGE_CODE','WORK_MTHS','CUST_YEAR_bin','D0_LN_LAST_DAYS_bin',\n",
    "                    'D0_CC_LAST_DAYS_bin','D0_FX_LAST_DAYS_bin','D0_WM_LAST_DAYS_bin',], axis=1)"
   ]
  },
  {
   "cell_type": "code",
   "execution_count": 150,
   "metadata": {},
   "outputs": [
    {
     "name": "stdout",
     "output_type": "stream",
     "text": [
      "<class 'pandas.core.frame.DataFrame'>\n",
      "Int64Index: 217679 entries, 0 to 29999\n",
      "Columns: 156 entries, AGE_1 to CUST_YEAR_WM_P\n",
      "dtypes: float64(152), int32(1), object(3)\n",
      "memory usage: 259.9+ MB\n"
     ]
    }
   ],
   "source": [
    "df_all.info()"
   ]
  },
  {
   "cell_type": "code",
   "execution_count": 151,
   "metadata": {},
   "outputs": [],
   "source": [
    "df_train_cust = pd.read_csv(\"../dataset/TBN_CIF.csv\",encoding = \"utf8\") "
   ]
  },
  {
   "cell_type": "code",
   "execution_count": 152,
   "metadata": {},
   "outputs": [],
   "source": [
    "df_train=pd.merge(left=df_train_cust[['CUST_NO']], right=df_all[df_all.IS_TRAIN=='Y'], on=[\"CUST_NO\"], how=\"left\")"
   ]
  },
  {
   "cell_type": "code",
   "execution_count": 153,
   "metadata": {},
   "outputs": [],
   "source": [
    "df_test=pd.merge(left=df_submit[['CUST_NO']], right=df_all[df_all.IS_TRAIN=='N'], on=[\"CUST_NO\"], how=\"left\")"
   ]
  },
  {
   "cell_type": "code",
   "execution_count": 154,
   "metadata": {},
   "outputs": [],
   "source": [
    "#df_all.to_csv('df_all.csv', index=False)"
   ]
  },
  {
   "cell_type": "code",
   "execution_count": 155,
   "metadata": {},
   "outputs": [],
   "source": [
    "df_train.to_csv('df_train.csv', index=False)\n",
    "df_test.to_csv('df_test.csv', index=False)"
   ]
  },
  {
   "cell_type": "code",
   "execution_count": 156,
   "metadata": {},
   "outputs": [
    {
     "name": "stdout",
     "output_type": "stream",
     "text": [
      "CUST_NO\n",
      "AGE_1\n",
      "AGE_2\n",
      "AGE_3\n",
      "AGE_4\n",
      "BROWSE_CNT\n",
      "BROWSE_DATE_FIRST_DAYS\n",
      "BROWSE_DATE_LAST_DAYS\n",
      "BROWSE_DATE_MAX\n",
      "BROWSE_DATE_MIN\n",
      "BROWSE_URL\n",
      "CC_DAY_INTERVAL_AVG\n",
      "CC_DAY_INTERVAL_FIRST\n",
      "CC_DAY_INTERVAL_LAST\n",
      "CHILDREN_CNT_0.0\n",
      "CHILDREN_CNT_1.0\n",
      "CHILDREN_CNT_10.0\n",
      "CHILDREN_CNT_2.0\n",
      "CHILDREN_CNT_3.0\n",
      "CHILDREN_CNT_4.0\n",
      "CHILDREN_CNT_5.0\n",
      "CHILDREN_CNT_6.0\n",
      "CHILDREN_CNT_9.0\n",
      "CHILDREN_CNT_999.0\n",
      "CUST_START_DT\n",
      "CUST_YEAR\n",
      "D0_CC_DATE_MAX\n",
      "D0_CC_LAST_DAYS\n",
      "D0_FX_DATE_MAX\n",
      "D0_FX_LAST_DAYS\n",
      "D0_LN_DATE_MAX\n",
      "D0_LN_LAST_DAYS\n",
      "D0_WM_DATE_MAX\n",
      "D0_WM_LAST_DAYS\n",
      "D90_CC_CNT\n",
      "D90_CC_DATE_MAX\n",
      "D90_CC_DATE_MIN\n",
      "D90_FX_AMT_AVG\n",
      "D90_FX_AMT_MAX\n",
      "D90_FX_AMT_MIN\n",
      "D90_FX_AMT_STD\n",
      "D90_FX_AMT_SUM\n",
      "D90_FX_CNT\n",
      "D90_FX_DATE_MAX\n",
      "D90_FX_DATE_MIN\n",
      "D90_LN_AMT_AVG\n",
      "D90_LN_AMT_MAX\n",
      "D90_LN_AMT_MIN\n",
      "D90_LN_AMT_STD\n",
      "D90_LN_AMT_SUM\n",
      "D90_LN_CNT\n",
      "D90_LN_DATE_MAX\n",
      "D90_LN_DATE_MIN\n",
      "D90_WM_AMT_AVG\n",
      "D90_WM_AMT_MAX\n",
      "D90_WM_AMT_MIN\n",
      "D90_WM_AMT_STD\n",
      "D90_WM_AMT_SUM\n",
      "D90_WM_CNT\n",
      "D90_WM_CUST_INVEST_TYPE_CODE\n",
      "D90_WM_CUST_RISK_CODE\n",
      "D90_WM_DATE_MAX\n",
      "D90_WM_DATE_MIN\n",
      "EDU_CODE_1.0\n",
      "EDU_CODE_2.0\n",
      "EDU_CODE_3.0\n",
      "EDU_CODE_4.0\n",
      "EDU_CODE_5.0\n",
      "EDU_CODE_6.0\n",
      "EDU_CODE_999.0\n",
      "FX_DAY_INTERVAL_AVG\n",
      "FX_DAY_INTERVAL_FIRST\n",
      "FX_DAY_INTERVAL_LAST\n",
      "GENDER_CODE_999\n",
      "GENDER_CODE_F\n",
      "GENDER_CODE_M\n",
      "INCOME_RANGE_CODE_1.0\n",
      "INCOME_RANGE_CODE_2.0\n",
      "INCOME_RANGE_CODE_3.0\n",
      "INCOME_RANGE_CODE_4.0\n",
      "INCOME_RANGE_CODE_999.0\n",
      "IS_TRAIN\n",
      "LN_DAY_INTERVAL_AVG\n",
      "LN_DAY_INTERVAL_FIRST\n",
      "LN_DAY_INTERVAL_LAST\n",
      "LN_USE\n",
      "NEXT_CC_APPLY\n",
      "NEXT_FX_APPLY\n",
      "NEXT_LN_APPLY\n",
      "NEXT_WM_APPLY\n",
      "PAGE_OFTEN_CAT_11\n",
      "PAGE_OFTEN_CAT_135\n",
      "PAGE_OFTEN_CAT_14\n",
      "PAGE_OFTEN_CAT_155\n",
      "PAGE_OFTEN_CAT_177\n",
      "PAGE_OFTEN_CAT_19\n",
      "PAGE_OFTEN_CAT_192\n",
      "PAGE_OFTEN_CAT_196\n",
      "PAGE_OFTEN_CAT_21\n",
      "PAGE_OFTEN_CAT_210\n",
      "PAGE_OFTEN_CAT_223\n",
      "PAGE_OFTEN_CAT_23\n",
      "PAGE_OFTEN_CAT_25\n",
      "PAGE_OFTEN_CAT_252\n",
      "PAGE_OFTEN_CAT_257\n",
      "PAGE_OFTEN_CAT_259\n",
      "PAGE_OFTEN_CAT_261\n",
      "PAGE_OFTEN_CAT_3\n",
      "PAGE_OFTEN_CAT_35\n",
      "PAGE_OFTEN_CAT_5\n",
      "PAGE_OFTEN_CAT_69\n",
      "PAGE_OFTEN_CAT_9\n",
      "PAGE_OFTEN_CAT_999\n",
      "WM_DAY_INTERVAL_AVG\n",
      "WM_DAY_INTERVAL_FIRST\n",
      "WM_DAY_INTERVAL_LAST\n",
      "WORK_MTHS_1.0\n",
      "WORK_MTHS_2.0\n",
      "WORK_MTHS_3.0\n",
      "WORK_MTHS_4.0\n",
      "WORK_MTHS_5.0\n",
      "WORK_MTHS_999.0\n",
      "IS_BROWSE\n",
      "WORK_MTHS_LN\n",
      "WORK_MTHS_CC\n",
      "WORK_MTHS_FX\n",
      "WORK_MTHS_WM\n",
      "INCOME_RANGE_LN\n",
      "INCOME_RANGE_CC\n",
      "INCOME_RANGE_FX\n",
      "INCOME_RANGE_WM\n",
      "EDU_CODE_LN\n",
      "EDU_CODE_CC\n",
      "EDU_CODE_FX\n",
      "EDU_CODE_WM\n",
      "GENDER_LN\n",
      "GENDER_CC\n",
      "GENDER_FX\n",
      "GENDER_WM\n",
      "AGE_LN\n",
      "AGE_CC\n",
      "AGE_FX\n",
      "AGE_WM\n",
      "CHILDREN_LN\n",
      "CHILDREN_CC\n",
      "CHILDREN_FX\n",
      "CHILDREN_WM\n",
      "D90_TXN_CNT\n",
      "D0_LN_LAST_DAYS_P\n",
      "D0_CC_LAST_DAYS_P\n",
      "D0_FX_LAST_DAYS_P\n",
      "D0_WM_LAST_DAYS_P\n",
      "CUST_YEAR_LN_P\n",
      "CUST_YEAR_CC_P\n",
      "CUST_YEAR_FX_P\n",
      "CUST_YEAR_WM_P\n"
     ]
    }
   ],
   "source": [
    "for i in df_train.columns:\n",
    "    print(i)"
   ]
  },
  {
   "cell_type": "code",
   "execution_count": null,
   "metadata": {},
   "outputs": [],
   "source": []
  }
 ],
 "metadata": {
  "kernelspec": {
   "display_name": "Python 3",
   "language": "python",
   "name": "python3"
  },
  "language_info": {
   "codemirror_mode": {
    "name": "ipython",
    "version": 3
   },
   "file_extension": ".py",
   "mimetype": "text/x-python",
   "name": "python",
   "nbconvert_exporter": "python",
   "pygments_lexer": "ipython3",
   "version": "3.6.5"
  }
 },
 "nbformat": 4,
 "nbformat_minor": 2
}
