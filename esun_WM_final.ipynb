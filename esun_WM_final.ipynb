{
 "cells": [
  {
   "cell_type": "code",
   "execution_count": 1,
   "metadata": {},
   "outputs": [],
   "source": [
    "import numpy as np \n",
    "import pandas as pd \n",
    "import matplotlib.pyplot as plt\n",
    "import seaborn as sns\n",
    "%matplotlib inline\n",
    "from yellowbrick.features.importances import FeatureImportances\n",
    "\n",
    "import datetime as dt\n",
    "from scipy import stats\n",
    "from scipy.stats import norm, skew\n",
    "\n",
    "from sklearn import preprocessing\n",
    "from sklearn.preprocessing import StandardScaler, RobustScaler\n",
    "from sklearn.model_selection import train_test_split,GridSearchCV,KFold\n",
    "\n",
    "\n",
    "from sklearn.linear_model import LogisticRegression\n",
    "from sklearn import linear_model, svm, gaussian_process\n",
    "from sklearn.linear_model import ElasticNet, Lasso, LassoLars, Ridge, BayesianRidge\n",
    "from sklearn.ensemble import RandomForestClassifier\n",
    "from sklearn import metrics\n",
    "from sklearn.metrics import mean_squared_error, mean_absolute_error\n",
    "\n",
    "import xgboost as xgb\n",
    "import lightgbm as lgb\n",
    "from mlxtend.regressor import StackingRegressor"
   ]
  },
  {
   "cell_type": "markdown",
   "metadata": {},
   "source": [
    "## Load Data"
   ]
  },
  {
   "cell_type": "code",
   "execution_count": 2,
   "metadata": {},
   "outputs": [],
   "source": [
    "df_train = pd.read_csv(\"df_train.csv\",encoding = \"utf8\") \n",
    "df_test = pd.read_csv(\"df_test.csv\",encoding = \"utf8\") "
   ]
  },
  {
   "cell_type": "code",
   "execution_count": 3,
   "metadata": {},
   "outputs": [],
   "source": [
    "df_train=df_train[df_train.BROWSE_CNT>0]"
   ]
  },
  {
   "cell_type": "code",
   "execution_count": 4,
   "metadata": {},
   "outputs": [
    {
     "data": {
      "text/plain": [
       "0.0    57289\n",
       "1.0     1370\n",
       "Name: NEXT_WM_APPLY, dtype: int64"
      ]
     },
     "execution_count": 4,
     "metadata": {},
     "output_type": "execute_result"
    }
   ],
   "source": [
    "df_train.NEXT_WM_APPLY.value_counts()"
   ]
  },
  {
   "cell_type": "code",
   "execution_count": 5,
   "metadata": {},
   "outputs": [
    {
     "name": "stdout",
     "output_type": "stream",
     "text": [
      "<class 'pandas.core.frame.DataFrame'>\n",
      "Int64Index: 58659 entries, 5 to 187678\n",
      "Columns: 156 entries, CUST_NO to CUST_YEAR_WM_P\n",
      "dtypes: float64(153), int64(1), object(2)\n",
      "memory usage: 70.3+ MB\n",
      "<class 'pandas.core.frame.DataFrame'>\n",
      "RangeIndex: 30000 entries, 0 to 29999\n",
      "Columns: 156 entries, CUST_NO to CUST_YEAR_WM_P\n",
      "dtypes: float64(153), int64(1), object(2)\n",
      "memory usage: 35.7+ MB\n"
     ]
    },
    {
     "data": {
      "text/plain": [
       "(None, None)"
      ]
     },
     "execution_count": 5,
     "metadata": {},
     "output_type": "execute_result"
    }
   ],
   "source": [
    "df_train.info(),df_test.info()"
   ]
  },
  {
   "cell_type": "code",
   "execution_count": 6,
   "metadata": {},
   "outputs": [],
   "source": [
    "CM_CUST=['CUST_NO', 'CUST_YEAR', 'D90_TXN_CNT',  # 'CUST_START_DT',\n",
    "       'BROWSE_CNT','BROWSE_URL',\n",
    "       'BROWSE_DATE_LAST_DAYS','BROWSE_DATE_FIRST_DAYS', \n",
    "       'PAGE_OFTEN_CAT_3','PAGE_OFTEN_CAT_5','PAGE_OFTEN_CAT_9','PAGE_OFTEN_CAT_11','PAGE_OFTEN_CAT_14','PAGE_OFTEN_CAT_19',\n",
    "       'PAGE_OFTEN_CAT_21','PAGE_OFTEN_CAT_23','PAGE_OFTEN_CAT_25','PAGE_OFTEN_CAT_35','PAGE_OFTEN_CAT_69',\n",
    "       'PAGE_OFTEN_CAT_135','PAGE_OFTEN_CAT_155','PAGE_OFTEN_CAT_177','PAGE_OFTEN_CAT_192','PAGE_OFTEN_CAT_196',\n",
    "       'PAGE_OFTEN_CAT_210','PAGE_OFTEN_CAT_223', 'PAGE_OFTEN_CAT_252','PAGE_OFTEN_CAT_257','PAGE_OFTEN_CAT_259',\n",
    "       'PAGE_OFTEN_CAT_261','PAGE_OFTEN_CAT_999',\n",
    "       'GENDER_CODE_F', 'GENDER_CODE_M','GENDER_CODE_999','AGE_1', 'AGE_2','AGE_3', 'AGE_4', \n",
    "       'CHILDREN_CNT_0.0', 'CHILDREN_CNT_1.0','CHILDREN_CNT_2.0', 'CHILDREN_CNT_3.0', 'CHILDREN_CNT_4.0',\n",
    "       'CHILDREN_CNT_5.0', 'CHILDREN_CNT_6.0', 'CHILDREN_CNT_9.0','CHILDREN_CNT_10.0', 'CHILDREN_CNT_999.0',\n",
    "       'EDU_CODE_1.0', 'EDU_CODE_2.0', 'EDU_CODE_3.0','EDU_CODE_4.0', 'EDU_CODE_5.0', 'EDU_CODE_6.0', 'EDU_CODE_999.0',\n",
    "       'INCOME_RANGE_CODE_1.0','INCOME_RANGE_CODE_2.0', 'INCOME_RANGE_CODE_3.0','INCOME_RANGE_CODE_4.0', 'INCOME_RANGE_CODE_999.0',\n",
    "       'WORK_MTHS_1.0', 'WORK_MTHS_2.0','WORK_MTHS_3.0', 'WORK_MTHS_4.0', 'WORK_MTHS_5.0','WORK_MTHS_999.0',\n",
    "       'GENDER_LN','AGE_LN','CHILDREN_LN','EDU_CODE_LN','INCOME_RANGE_LN','WORK_MTHS_LN',\n",
    "       'GENDER_CC','AGE_CC','CHILDREN_CC','EDU_CODE_CC','INCOME_RANGE_CC','WORK_MTHS_CC',\n",
    "       'GENDER_FX','AGE_FX','CHILDREN_FX','EDU_CODE_FX','INCOME_RANGE_FX','WORK_MTHS_FX',\n",
    "       'GENDER_WM','AGE_WM','CHILDREN_WM','EDU_CODE_WM','INCOME_RANGE_WM','WORK_MTHS_WM']"
   ]
  },
  {
   "cell_type": "code",
   "execution_count": 7,
   "metadata": {},
   "outputs": [],
   "source": [
    "CM_WM = ['D0_WM_LAST_DAYS','D90_WM_CNT',  \n",
    "         'WM_DAY_INTERVAL_LAST','WM_DAY_INTERVAL_FIRST','WM_DAY_INTERVAL_AVG',   \n",
    "         'D90_WM_AMT_SUM','D90_WM_AMT_MIN','D90_WM_AMT_MAX','D90_WM_AMT_STD','D90_WM_AMT_AVG',\n",
    "         'D90_WM_CUST_RISK_CODE', 'D90_WM_CUST_INVEST_TYPE_CODE']"
   ]
  },
  {
   "cell_type": "code",
   "execution_count": 8,
   "metadata": {},
   "outputs": [],
   "source": [
    "Y=df_train[['NEXT_WM_APPLY']].copy().fillna(0)"
   ]
  },
  {
   "cell_type": "code",
   "execution_count": 9,
   "metadata": {},
   "outputs": [],
   "source": [
    "train=df_train[CM_CUST+CM_WM].copy()\n",
    "test=df_test[CM_CUST+CM_WM].copy()"
   ]
  },
  {
   "cell_type": "code",
   "execution_count": 10,
   "metadata": {},
   "outputs": [],
   "source": [
    "train=train.fillna(0)\n",
    "test=test.fillna(0)"
   ]
  },
  {
   "cell_type": "code",
   "execution_count": 11,
   "metadata": {},
   "outputs": [
    {
     "name": "stdout",
     "output_type": "stream",
     "text": [
      "<class 'pandas.core.frame.DataFrame'>\n",
      "RangeIndex: 30000 entries, 0 to 29999\n",
      "Data columns (total 89 columns):\n",
      "CUST_NO                    30000 non-null object\n",
      "CUST_YEAR                  30000 non-null float64\n",
      "D90_TXN_CNT                30000 non-null float64\n",
      "BROWSE_CNT                 30000 non-null float64\n",
      "BROWSE_URL                 30000 non-null float64\n",
      "BROWSE_DATE_LAST_DAYS      30000 non-null float64\n",
      "BROWSE_DATE_FIRST_DAYS     30000 non-null float64\n",
      "PAGE_OFTEN_CAT_3           30000 non-null float64\n",
      "PAGE_OFTEN_CAT_5           30000 non-null float64\n",
      "PAGE_OFTEN_CAT_9           30000 non-null float64\n",
      "PAGE_OFTEN_CAT_11          30000 non-null float64\n",
      "PAGE_OFTEN_CAT_14          30000 non-null float64\n",
      "PAGE_OFTEN_CAT_19          30000 non-null float64\n",
      "PAGE_OFTEN_CAT_21          30000 non-null float64\n",
      "PAGE_OFTEN_CAT_23          30000 non-null float64\n",
      "PAGE_OFTEN_CAT_25          30000 non-null float64\n",
      "PAGE_OFTEN_CAT_35          30000 non-null float64\n",
      "PAGE_OFTEN_CAT_69          30000 non-null float64\n",
      "PAGE_OFTEN_CAT_135         30000 non-null float64\n",
      "PAGE_OFTEN_CAT_155         30000 non-null float64\n",
      "PAGE_OFTEN_CAT_177         30000 non-null float64\n",
      "PAGE_OFTEN_CAT_192         30000 non-null float64\n",
      "PAGE_OFTEN_CAT_196         30000 non-null float64\n",
      "PAGE_OFTEN_CAT_210         30000 non-null float64\n",
      "PAGE_OFTEN_CAT_223         30000 non-null float64\n",
      "PAGE_OFTEN_CAT_252         30000 non-null float64\n",
      "PAGE_OFTEN_CAT_257         30000 non-null float64\n",
      "PAGE_OFTEN_CAT_259         30000 non-null float64\n",
      "PAGE_OFTEN_CAT_261         30000 non-null float64\n",
      "PAGE_OFTEN_CAT_999         30000 non-null float64\n",
      "GENDER_CODE_F              30000 non-null float64\n",
      "GENDER_CODE_M              30000 non-null float64\n",
      "GENDER_CODE_999            30000 non-null float64\n",
      "AGE_1                      30000 non-null float64\n",
      "AGE_2                      30000 non-null float64\n",
      "AGE_3                      30000 non-null float64\n",
      "AGE_4                      30000 non-null float64\n",
      "CHILDREN_CNT_0.0           30000 non-null float64\n",
      "CHILDREN_CNT_1.0           30000 non-null float64\n",
      "CHILDREN_CNT_2.0           30000 non-null float64\n",
      "CHILDREN_CNT_3.0           30000 non-null float64\n",
      "CHILDREN_CNT_4.0           30000 non-null float64\n",
      "CHILDREN_CNT_5.0           30000 non-null float64\n",
      "CHILDREN_CNT_6.0           30000 non-null float64\n",
      "CHILDREN_CNT_9.0           30000 non-null float64\n",
      "CHILDREN_CNT_10.0          30000 non-null float64\n",
      "CHILDREN_CNT_999.0         30000 non-null float64\n",
      "EDU_CODE_1.0               30000 non-null float64\n",
      "EDU_CODE_2.0               30000 non-null float64\n",
      "EDU_CODE_3.0               30000 non-null float64\n",
      "EDU_CODE_4.0               30000 non-null float64\n",
      "EDU_CODE_5.0               30000 non-null float64\n",
      "EDU_CODE_6.0               30000 non-null float64\n",
      "EDU_CODE_999.0             30000 non-null float64\n",
      "INCOME_RANGE_CODE_1.0      30000 non-null float64\n",
      "INCOME_RANGE_CODE_2.0      30000 non-null float64\n",
      "INCOME_RANGE_CODE_3.0      30000 non-null float64\n",
      "INCOME_RANGE_CODE_4.0      30000 non-null float64\n",
      "INCOME_RANGE_CODE_999.0    30000 non-null float64\n",
      "WORK_MTHS_1.0              30000 non-null float64\n",
      "WORK_MTHS_2.0              30000 non-null float64\n",
      "WORK_MTHS_3.0              30000 non-null float64\n",
      "WORK_MTHS_4.0              30000 non-null float64\n",
      "WORK_MTHS_5.0              30000 non-null float64\n",
      "WORK_MTHS_999.0            30000 non-null float64\n",
      "GENDER_LN                  30000 non-null float64\n",
      "AGE_LN                     30000 non-null float64\n",
      "CHILDREN_LN                30000 non-null float64\n",
      "EDU_CODE_LN                30000 non-null float64\n",
      "INCOME_RANGE_LN            30000 non-null float64\n",
      "WORK_MTHS_LN               30000 non-null float64\n",
      "GENDER_CC                  30000 non-null float64\n",
      "AGE_CC                     30000 non-null float64\n",
      "CHILDREN_CC                30000 non-null float64\n",
      "EDU_CODE_CC                30000 non-null float64\n",
      "INCOME_RANGE_CC            30000 non-null float64\n",
      "WORK_MTHS_CC               30000 non-null float64\n",
      "GENDER_FX                  30000 non-null float64\n",
      "AGE_FX                     30000 non-null float64\n",
      "CHILDREN_FX                30000 non-null float64\n",
      "EDU_CODE_FX                30000 non-null float64\n",
      "INCOME_RANGE_FX            30000 non-null float64\n",
      "WORK_MTHS_FX               30000 non-null float64\n",
      "GENDER_WM                  30000 non-null float64\n",
      "AGE_WM                     30000 non-null float64\n",
      "CHILDREN_WM                30000 non-null float64\n",
      "EDU_CODE_WM                30000 non-null float64\n",
      "INCOME_RANGE_WM            30000 non-null float64\n",
      "WORK_MTHS_WM               30000 non-null float64\n",
      "dtypes: float64(88), object(1)\n",
      "memory usage: 20.4+ MB\n"
     ]
    }
   ],
   "source": [
    "test[CM_CUST].info() "
   ]
  },
  {
   "cell_type": "code",
   "execution_count": null,
   "metadata": {},
   "outputs": [],
   "source": []
  },
  {
   "cell_type": "code",
   "execution_count": 12,
   "metadata": {},
   "outputs": [],
   "source": [
    "train=train.drop(['CUST_NO'], axis=1)\n",
    "test=test.drop(['CUST_NO'], axis=1)"
   ]
  },
  {
   "cell_type": "code",
   "execution_count": 13,
   "metadata": {},
   "outputs": [
    {
     "data": {
      "text/plain": [
       "<matplotlib.axes._subplots.AxesSubplot at 0x2a20ea5c898>"
      ]
     },
     "execution_count": 13,
     "metadata": {},
     "output_type": "execute_result"
    },
    {
     "data": {
      "image/png": "[encoded data removed]",
      "text/plain": [
       "<Figure size 864x720 with 2 Axes>"
      ]
     },
     "metadata": {},
     "output_type": "display_data"
    }
   ],
   "source": [
    "corrmat = train.corr()\n",
    "f, ax = plt.subplots(figsize=(12, 10))\n",
    "sns.heatmap(corrmat, linewidths=0.1, vmax=1.0, square=True)"
   ]
  },
  {
   "cell_type": "code",
   "execution_count": 14,
   "metadata": {},
   "outputs": [],
   "source": [
    "def correlation(col_corr, threshold):\n",
    "    #col_corr = delcols#set() # Set of all the names of deleted columns\n",
    "    corr_matrix = train.corr()\n",
    "    for i in range(len(corr_matrix.columns)):\n",
    "        for j in range(i):\n",
    "            if corr_matrix.iloc[i, j] >= threshold:\n",
    "                colname = corr_matrix.columns[i] # getting the name of column\n",
    "                col_corr.append(colname)\n",
    "                if colname in train.columns:\n",
    "                    del train[colname] # deleting the column from the dataset\n",
    "                if colname in test.columns:\n",
    "                    del test[colname] # deleting the column from the dataset\n",
    "\n",
    "    print(col_corr)\n",
    "    delcols=col_corr\n",
    "    #print(dataset)"
   ]
  },
  {
   "cell_type": "code",
   "execution_count": 15,
   "metadata": {},
   "outputs": [
    {
     "name": "stdout",
     "output_type": "stream",
     "text": [
      "['PAGE_OFTEN_CAT_23', 'GENDER_LN', 'GENDER_WM', 'INCOME_RANGE_WM', 'D90_WM_AMT_AVG', 'D90_WM_AMT_AVG']\n"
     ]
    }
   ],
   "source": [
    "delcols=[]\n",
    "correlation(delcols,0.95)"
   ]
  },
  {
   "cell_type": "code",
   "execution_count": null,
   "metadata": {},
   "outputs": [],
   "source": []
  },
  {
   "cell_type": "code",
   "execution_count": 16,
   "metadata": {},
   "outputs": [],
   "source": [
    "kf=KFold(n_splits=5, random_state=42, shuffle=True)"
   ]
  },
  {
   "cell_type": "code",
   "execution_count": 17,
   "metadata": {},
   "outputs": [],
   "source": [
    "X_train, X_test, y_train, y_test = train_test_split(train,Y, test_size=0.3, random_state=42)"
   ]
  },
  {
   "cell_type": "code",
   "execution_count": 18,
   "metadata": {},
   "outputs": [
    {
     "name": "stderr",
     "output_type": "stream",
     "text": [
      "C:\\Users\\Anson\\Anaconda3\\lib\\site-packages\\sklearn\\preprocessing\\label.py:219: DataConversionWarning: A column-vector y was passed when a 1d array was expected. Please change the shape of y to (n_samples, ), for example using ravel().\n",
      "  y = column_or_1d(y, warn=True)\n",
      "C:\\Users\\Anson\\Anaconda3\\lib\\site-packages\\sklearn\\preprocessing\\label.py:252: DataConversionWarning: A column-vector y was passed when a 1d array was expected. Please change the shape of y to (n_samples, ), for example using ravel().\n",
      "  y = column_or_1d(y, warn=True)\n"
     ]
    },
    {
     "data": {
      "text/plain": [
       "LGBMClassifier(boosting_type='gbdt', class_weight=None, colsample_bytree=1.0,\n",
       "        learning_rate=0.1, max_depth=3, min_child_samples=20,\n",
       "        min_child_weight=0.001, min_split_gain=0.0, n_estimators=100,\n",
       "        n_jobs=-1, num_leaves=31, objective=None, random_state=None,\n",
       "        reg_alpha=0.0, reg_lambda=0.0, rondom_state=42, silent=True,\n",
       "        subsample=1.0, subsample_for_bin=200000, subsample_freq=0)"
      ]
     },
     "execution_count": 18,
     "metadata": {},
     "output_type": "execute_result"
    }
   ],
   "source": [
    "lgbc = lgb.LGBMClassifier(learning_rate=0.1,n_estimators=100,max_depth=3,rondom_state=42)\n",
    "lgbc.fit(X_train, y_train,eval_metric='auc') "
   ]
  },
  {
   "cell_type": "code",
   "execution_count": 19,
   "metadata": {},
   "outputs": [
    {
     "name": "stdout",
     "output_type": "stream",
     "text": [
      "R Square: 0.9776679168087282\n",
      "ROC AUC score: 0.9371323823865354\n",
      "F1 Square: 0.18969072164948456\n",
      "recall: 0.1141439205955335\n",
      "precision: 0.5609756097560976\n"
     ]
    }
   ],
   "source": [
    "print(\"R Square:\",lgbc.score(X_test, y_test))\n",
    "print(\"ROC AUC score:\",metrics.roc_auc_score(y_test,lgbc.predict_proba(X_test)[:,1]))\n",
    "print(\"F1 Square:\",metrics.f1_score(y_test,lgbc.predict(X_test)))\n",
    "print(\"recall:\",metrics.recall_score(y_test,lgbc.predict(X_test)))\n",
    "print(\"precision:\",metrics.precision_score(y_test,lgbc.predict(X_test)))"
   ]
  },
  {
   "cell_type": "code",
   "execution_count": 20,
   "metadata": {},
   "outputs": [
    {
     "name": "stdout",
     "output_type": "stream",
     "text": [
      "Fitting 3 folds for each of 2 candidates, totalling 6 fits\n",
      "[CV] learning_rate=0.1, max_depth=3, n_estimators=100 ................\n"
     ]
    },
    {
     "name": "stderr",
     "output_type": "stream",
     "text": [
      "[Parallel(n_jobs=1)]: Using backend SequentialBackend with 1 concurrent workers.\n",
      "C:\\Users\\Anson\\Anaconda3\\lib\\site-packages\\sklearn\\preprocessing\\label.py:219: DataConversionWarning: A column-vector y was passed when a 1d array was expected. Please change the shape of y to (n_samples, ), for example using ravel().\n",
      "  y = column_or_1d(y, warn=True)\n",
      "C:\\Users\\Anson\\Anaconda3\\lib\\site-packages\\sklearn\\preprocessing\\label.py:252: DataConversionWarning: A column-vector y was passed when a 1d array was expected. Please change the shape of y to (n_samples, ), for example using ravel().\n",
      "  y = column_or_1d(y, warn=True)\n"
     ]
    },
    {
     "name": "stdout",
     "output_type": "stream",
     "text": [
      "[CV] . learning_rate=0.1, max_depth=3, n_estimators=100, total=   0.3s\n",
      "[CV] learning_rate=0.1, max_depth=3, n_estimators=100 ................\n"
     ]
    },
    {
     "name": "stderr",
     "output_type": "stream",
     "text": [
      "[Parallel(n_jobs=1)]: Done   1 out of   1 | elapsed:    0.4s remaining:    0.0s\n",
      "C:\\Users\\Anson\\Anaconda3\\lib\\site-packages\\sklearn\\preprocessing\\label.py:219: DataConversionWarning: A column-vector y was passed when a 1d array was expected. Please change the shape of y to (n_samples, ), for example using ravel().\n",
      "  y = column_or_1d(y, warn=True)\n",
      "C:\\Users\\Anson\\Anaconda3\\lib\\site-packages\\sklearn\\preprocessing\\label.py:252: DataConversionWarning: A column-vector y was passed when a 1d array was expected. Please change the shape of y to (n_samples, ), for example using ravel().\n",
      "  y = column_or_1d(y, warn=True)\n"
     ]
    },
    {
     "name": "stdout",
     "output_type": "stream",
     "text": [
      "[CV] . learning_rate=0.1, max_depth=3, n_estimators=100, total=   0.3s\n",
      "[CV] learning_rate=0.1, max_depth=3, n_estimators=100 ................\n"
     ]
    },
    {
     "name": "stderr",
     "output_type": "stream",
     "text": [
      "C:\\Users\\Anson\\Anaconda3\\lib\\site-packages\\sklearn\\preprocessing\\label.py:219: DataConversionWarning: A column-vector y was passed when a 1d array was expected. Please change the shape of y to (n_samples, ), for example using ravel().\n",
      "  y = column_or_1d(y, warn=True)\n",
      "C:\\Users\\Anson\\Anaconda3\\lib\\site-packages\\sklearn\\preprocessing\\label.py:252: DataConversionWarning: A column-vector y was passed when a 1d array was expected. Please change the shape of y to (n_samples, ), for example using ravel().\n",
      "  y = column_or_1d(y, warn=True)\n"
     ]
    },
    {
     "name": "stdout",
     "output_type": "stream",
     "text": [
      "[CV] . learning_rate=0.1, max_depth=3, n_estimators=100, total=   0.3s\n",
      "[CV] learning_rate=0.1, max_depth=3, n_estimators=200 ................\n"
     ]
    },
    {
     "name": "stderr",
     "output_type": "stream",
     "text": [
      "C:\\Users\\Anson\\Anaconda3\\lib\\site-packages\\sklearn\\preprocessing\\label.py:219: DataConversionWarning: A column-vector y was passed when a 1d array was expected. Please change the shape of y to (n_samples, ), for example using ravel().\n",
      "  y = column_or_1d(y, warn=True)\n",
      "C:\\Users\\Anson\\Anaconda3\\lib\\site-packages\\sklearn\\preprocessing\\label.py:252: DataConversionWarning: A column-vector y was passed when a 1d array was expected. Please change the shape of y to (n_samples, ), for example using ravel().\n",
      "  y = column_or_1d(y, warn=True)\n"
     ]
    },
    {
     "name": "stdout",
     "output_type": "stream",
     "text": [
      "[CV] . learning_rate=0.1, max_depth=3, n_estimators=200, total=   0.5s\n",
      "[CV] learning_rate=0.1, max_depth=3, n_estimators=200 ................\n"
     ]
    },
    {
     "name": "stderr",
     "output_type": "stream",
     "text": [
      "C:\\Users\\Anson\\Anaconda3\\lib\\site-packages\\sklearn\\preprocessing\\label.py:219: DataConversionWarning: A column-vector y was passed when a 1d array was expected. Please change the shape of y to (n_samples, ), for example using ravel().\n",
      "  y = column_or_1d(y, warn=True)\n",
      "C:\\Users\\Anson\\Anaconda3\\lib\\site-packages\\sklearn\\preprocessing\\label.py:252: DataConversionWarning: A column-vector y was passed when a 1d array was expected. Please change the shape of y to (n_samples, ), for example using ravel().\n",
      "  y = column_or_1d(y, warn=True)\n"
     ]
    },
    {
     "name": "stdout",
     "output_type": "stream",
     "text": [
      "[CV] . learning_rate=0.1, max_depth=3, n_estimators=200, total=   0.4s\n",
      "[CV] learning_rate=0.1, max_depth=3, n_estimators=200 ................\n"
     ]
    },
    {
     "name": "stderr",
     "output_type": "stream",
     "text": [
      "C:\\Users\\Anson\\Anaconda3\\lib\\site-packages\\sklearn\\preprocessing\\label.py:219: DataConversionWarning: A column-vector y was passed when a 1d array was expected. Please change the shape of y to (n_samples, ), for example using ravel().\n",
      "  y = column_or_1d(y, warn=True)\n",
      "C:\\Users\\Anson\\Anaconda3\\lib\\site-packages\\sklearn\\preprocessing\\label.py:252: DataConversionWarning: A column-vector y was passed when a 1d array was expected. Please change the shape of y to (n_samples, ), for example using ravel().\n",
      "  y = column_or_1d(y, warn=True)\n"
     ]
    },
    {
     "name": "stdout",
     "output_type": "stream",
     "text": [
      "[CV] . learning_rate=0.1, max_depth=3, n_estimators=200, total=   0.4s\n"
     ]
    },
    {
     "name": "stderr",
     "output_type": "stream",
     "text": [
      "[Parallel(n_jobs=1)]: Done   6 out of   6 | elapsed:    3.6s finished\n",
      "C:\\Users\\Anson\\Anaconda3\\lib\\site-packages\\sklearn\\preprocessing\\label.py:219: DataConversionWarning: A column-vector y was passed when a 1d array was expected. Please change the shape of y to (n_samples, ), for example using ravel().\n",
      "  y = column_or_1d(y, warn=True)\n",
      "C:\\Users\\Anson\\Anaconda3\\lib\\site-packages\\sklearn\\preprocessing\\label.py:252: DataConversionWarning: A column-vector y was passed when a 1d array was expected. Please change the shape of y to (n_samples, ), for example using ravel().\n",
      "  y = column_or_1d(y, warn=True)\n"
     ]
    },
    {
     "data": {
      "text/plain": [
       "GridSearchCV(cv=3, error_score='raise-deprecating',\n",
       "       estimator=LGBMClassifier(boosting_type='gbdt', class_weight=None, colsample_bytree=1.0,\n",
       "        learning_rate=0.1, max_depth=3, min_child_samples=20,\n",
       "        min_child_weight=0.001, min_split_gain=0.0, n_estimators=100,\n",
       "        n_jobs=-1, num_leaves=31, objective=None, random_state=None,\n",
       "        reg_alpha=0.0, reg_lambda=0.0, rondom_state=42, silent=True,\n",
       "        subsample=1.0, subsample_for_bin=200000, subsample_freq=0),\n",
       "       fit_params=None, iid='warn', n_jobs=None,\n",
       "       param_grid={'learning_rate': [0.1], 'n_estimators': [100, 200], 'max_depth': [3]},\n",
       "       pre_dispatch='2*n_jobs', refit=True, return_train_score='warn',\n",
       "       scoring='f1', verbose=2)"
      ]
     },
     "execution_count": 20,
     "metadata": {},
     "output_type": "execute_result"
    }
   ],
   "source": [
    "params = {'learning_rate':[0.1],'n_estimators':[100,200], 'max_depth':[3]}\n",
    "gs_lgbc = GridSearchCV(estimator=lgbc, param_grid=params, cv=3, verbose=2, scoring='f1') \n",
    "gs_lgbc.fit(X_train, y_train, eval_metric='auc') "
   ]
  },
  {
   "cell_type": "code",
   "execution_count": 21,
   "metadata": {},
   "outputs": [
    {
     "data": {
      "text/plain": [
       "LGBMClassifier(boosting_type='gbdt', class_weight=None, colsample_bytree=1.0,\n",
       "        learning_rate=0.1, max_depth=3, min_child_samples=20,\n",
       "        min_child_weight=0.001, min_split_gain=0.0, n_estimators=200,\n",
       "        n_jobs=-1, num_leaves=31, objective=None, random_state=None,\n",
       "        reg_alpha=0.0, reg_lambda=0.0, rondom_state=42, silent=True,\n",
       "        subsample=1.0, subsample_for_bin=200000, subsample_freq=0)"
      ]
     },
     "execution_count": 21,
     "metadata": {},
     "output_type": "execute_result"
    }
   ],
   "source": [
    "gs_lgbc.best_estimator_"
   ]
  },
  {
   "cell_type": "code",
   "execution_count": 22,
   "metadata": {},
   "outputs": [
    {
     "name": "stdout",
     "output_type": "stream",
     "text": [
      "R Square: 0.9771564950562563\n",
      "ROC AUC score: 0.9362903406192433\n",
      "F1 Square: 0.19277108433734938\n",
      "recall: 0.11910669975186104\n",
      "precision: 0.5052631578947369\n"
     ]
    }
   ],
   "source": [
    "print(\"R Square:\",metrics.accuracy_score(y_test, gs_lgbc.predict(X_test)))\n",
    "print(\"ROC AUC score:\",metrics.roc_auc_score(y_test,gs_lgbc.predict_proba(X_test)[:,1]))\n",
    "print(\"F1 Square:\",metrics.f1_score(y_test,gs_lgbc.predict(X_test)))\n",
    "print(\"recall:\",metrics.recall_score(y_test,gs_lgbc.predict(X_test)))\n",
    "print(\"precision:\",metrics.precision_score(y_test,gs_lgbc.predict(X_test)))"
   ]
  },
  {
   "cell_type": "code",
   "execution_count": null,
   "metadata": {},
   "outputs": [],
   "source": []
  },
  {
   "cell_type": "code",
   "execution_count": 23,
   "metadata": {},
   "outputs": [
    {
     "name": "stderr",
     "output_type": "stream",
     "text": [
      "C:\\Users\\Anson\\Anaconda3\\lib\\site-packages\\sklearn\\preprocessing\\label.py:219: DataConversionWarning: A column-vector y was passed when a 1d array was expected. Please change the shape of y to (n_samples, ), for example using ravel().\n",
      "  y = column_or_1d(y, warn=True)\n",
      "C:\\Users\\Anson\\Anaconda3\\lib\\site-packages\\sklearn\\preprocessing\\label.py:252: DataConversionWarning: A column-vector y was passed when a 1d array was expected. Please change the shape of y to (n_samples, ), for example using ravel().\n",
      "  y = column_or_1d(y, warn=True)\n"
     ]
    },
    {
     "data": {
      "text/plain": [
       "XGBClassifier(base_score=0.5, booster='gbtree', colsample_bylevel=1,\n",
       "       colsample_bytree=1, gamma=0, learning_rate=0.1, max_delta_step=0,\n",
       "       max_depth=3, min_child_weight=1, missing=None, n_estimators=100,\n",
       "       n_jobs=1, nthread=None, objective='binary:logistic',\n",
       "       random_state=42, reg_alpha=0, reg_lambda=1, scale_pos_weight=1,\n",
       "       seed=None, silent=True, subsample=1, tree_method='gpu_hist')"
      ]
     },
     "execution_count": 23,
     "metadata": {},
     "output_type": "execute_result"
    }
   ],
   "source": [
    "xgbc = xgb.XGBClassifier(learning_rate=0.1,max_depth=3, n_estimators=100,random_state=42, tree_method='gpu_hist')\n",
    "xgbc.fit(X_train,y_train,eval_metric='auc')\n",
    "#eval_set  = [(X_train , y_train) , (X_test , y_test)]\n",
    "#xgbc.fit(X_train ,  y_train ,eval_set=eval_set,eval_metric='auc',early_stopping_rounds=20)"
   ]
  },
  {
   "cell_type": "code",
   "execution_count": 24,
   "metadata": {},
   "outputs": [
    {
     "name": "stdout",
     "output_type": "stream",
     "text": [
      "R Square: 0.9776679168087282\n",
      "ROC AUC score: 0.9398609729154055\n",
      "F1 Square: 0.21556886227544908\n",
      "recall: 0.13399503722084366\n",
      "precision: 0.5510204081632653\n"
     ]
    }
   ],
   "source": [
    "print(\"R Square:\",metrics.accuracy_score(y_test, xgbc.predict(X_test)))\n",
    "print(\"ROC AUC score:\",metrics.roc_auc_score(y_test,xgbc.predict_proba(X_test)[:,1]))\n",
    "print(\"F1 Square:\",metrics.f1_score(y_test,xgbc.predict(X_test)))\n",
    "print(\"recall:\",metrics.recall_score(y_test,xgbc.predict(X_test)))\n",
    "print(\"precision:\",metrics.precision_score(y_test,xgbc.predict(X_test)))"
   ]
  },
  {
   "cell_type": "code",
   "execution_count": 25,
   "metadata": {},
   "outputs": [
    {
     "name": "stdout",
     "output_type": "stream",
     "text": [
      "Fitting 3 folds for each of 2 candidates, totalling 6 fits\n"
     ]
    },
    {
     "name": "stderr",
     "output_type": "stream",
     "text": [
      "[Parallel(n_jobs=-1)]: Using backend LokyBackend with 12 concurrent workers.\n",
      "[Parallel(n_jobs=-1)]: Done   4 out of   6 | elapsed:    6.8s remaining:    3.3s\n",
      "[Parallel(n_jobs=-1)]: Done   6 out of   6 | elapsed:    7.0s finished\n",
      "C:\\Users\\Anson\\Anaconda3\\lib\\site-packages\\sklearn\\preprocessing\\label.py:219: DataConversionWarning: A column-vector y was passed when a 1d array was expected. Please change the shape of y to (n_samples, ), for example using ravel().\n",
      "  y = column_or_1d(y, warn=True)\n",
      "C:\\Users\\Anson\\Anaconda3\\lib\\site-packages\\sklearn\\preprocessing\\label.py:252: DataConversionWarning: A column-vector y was passed when a 1d array was expected. Please change the shape of y to (n_samples, ), for example using ravel().\n",
      "  y = column_or_1d(y, warn=True)\n"
     ]
    },
    {
     "data": {
      "text/plain": [
       "GridSearchCV(cv=3, error_score='raise-deprecating',\n",
       "       estimator=XGBClassifier(base_score=0.5, booster='gbtree', colsample_bylevel=1,\n",
       "       colsample_bytree=1, gamma=0, learning_rate=0.1, max_delta_step=0,\n",
       "       max_depth=3, min_child_weight=1, missing=None, n_estimators=100,\n",
       "       n_jobs=1, nthread=None, objective='binary:logistic',\n",
       "       random_state=42, reg_alpha=0, reg_lambda=1, scale_pos_weight=1,\n",
       "       seed=None, silent=True, subsample=1, tree_method='gpu_hist'),\n",
       "       fit_params=None, iid='warn', n_jobs=-1,\n",
       "       param_grid={'learning_rate': [0.1], 'n_estimators': [100, 200]},\n",
       "       pre_dispatch='2*n_jobs', refit=True, return_train_score='warn',\n",
       "       scoring='f1', verbose=1)"
      ]
     },
     "execution_count": 25,
     "metadata": {},
     "output_type": "execute_result"
    }
   ],
   "source": [
    "params = {'learning_rate':[0.1],'n_estimators':[100,200]}\n",
    "gs = GridSearchCV(estimator=xgbc, param_grid=params, cv=3,n_jobs=-1,verbose=1, scoring='f1') \n",
    "gs.fit(X_train, y_train,eval_metric='auc')"
   ]
  },
  {
   "cell_type": "code",
   "execution_count": 26,
   "metadata": {},
   "outputs": [
    {
     "data": {
      "text/plain": [
       "XGBClassifier(base_score=0.5, booster='gbtree', colsample_bylevel=1,\n",
       "       colsample_bytree=1, gamma=0, learning_rate=0.1, max_delta_step=0,\n",
       "       max_depth=3, min_child_weight=1, missing=None, n_estimators=200,\n",
       "       n_jobs=1, nthread=None, objective='binary:logistic',\n",
       "       random_state=42, reg_alpha=0, reg_lambda=1, scale_pos_weight=1,\n",
       "       seed=None, silent=True, subsample=1, tree_method='gpu_hist')"
      ]
     },
     "execution_count": 26,
     "metadata": {},
     "output_type": "execute_result"
    }
   ],
   "source": [
    "gs.best_estimator_"
   ]
  },
  {
   "cell_type": "code",
   "execution_count": 27,
   "metadata": {
    "scrolled": true
   },
   "outputs": [
    {
     "name": "stdout",
     "output_type": "stream",
     "text": [
      "R Square: 0.9776679168087282\n",
      "ROC AUC score: 0.9389785968423794\n",
      "F1 Square: 0.23391812865497078\n",
      "recall: 0.1488833746898263\n",
      "precision: 0.5454545454545454\n"
     ]
    }
   ],
   "source": [
    "print(\"R Square:\",metrics.accuracy_score(y_test, gs.predict(X_test)))\n",
    "print(\"ROC AUC score:\",metrics.roc_auc_score(y_test,gs.predict_proba(X_test)[:,1]))\n",
    "print(\"F1 Square:\",metrics.f1_score(y_test,gs.predict(X_test)))\n",
    "print(\"recall:\",metrics.recall_score(y_test,gs.predict(X_test)))\n",
    "print(\"precision:\",metrics.precision_score(y_test,gs.predict(X_test)))"
   ]
  },
  {
   "cell_type": "code",
   "execution_count": 28,
   "metadata": {},
   "outputs": [
    {
     "data": {
      "image/png": "[encoded data removed]",
      "text/plain": [
       "<Figure size 432x288 with 1 Axes>"
      ]
     },
     "metadata": {},
     "output_type": "display_data"
    }
   ],
   "source": [
    "from xgboost import plot_importance\n",
    "plot_importance(xgbc,max_num_features=20)\n",
    "plt.show()"
   ]
  },
  {
   "cell_type": "code",
   "execution_count": 29,
   "metadata": {},
   "outputs": [
    {
     "name": "stderr",
     "output_type": "stream",
     "text": [
      "C:\\Users\\Anson\\Anaconda3\\lib\\site-packages\\sklearn\\model_selection\\_validation.py:528: DataConversionWarning: A column-vector y was passed when a 1d array was expected. Please change the shape of y to (n_samples,), for example using ravel().\n",
      "  estimator.fit(X_train, y_train, **fit_params)\n",
      "C:\\Users\\Anson\\Anaconda3\\lib\\site-packages\\sklearn\\model_selection\\_validation.py:528: DataConversionWarning: A column-vector y was passed when a 1d array was expected. Please change the shape of y to (n_samples,), for example using ravel().\n",
      "  estimator.fit(X_train, y_train, **fit_params)\n",
      "C:\\Users\\Anson\\Anaconda3\\lib\\site-packages\\sklearn\\model_selection\\_validation.py:528: DataConversionWarning: A column-vector y was passed when a 1d array was expected. Please change the shape of y to (n_samples,), for example using ravel().\n",
      "  estimator.fit(X_train, y_train, **fit_params)\n",
      "C:\\Users\\Anson\\Anaconda3\\lib\\site-packages\\sklearn\\model_selection\\_search.py:740: DataConversionWarning: A column-vector y was passed when a 1d array was expected. Please change the shape of y to (n_samples,), for example using ravel().\n",
      "  self.best_estimator_.fit(X, y, **fit_params)\n"
     ]
    },
    {
     "data": {
      "text/plain": [
       "GridSearchCV(cv=3, error_score='raise-deprecating',\n",
       "       estimator=RandomForestClassifier(bootstrap=True, class_weight=None, criterion='gini',\n",
       "            max_depth=None, max_features='auto', max_leaf_nodes=None,\n",
       "            min_impurity_decrease=0.0, min_impurity_split=None,\n",
       "            min_samples_leaf=1, min_samples_split=2,\n",
       "            min_weight_fraction_leaf=0.0, n_estimators=100, n_jobs=None,\n",
       "            oob_score=False, random_state=None, verbose=0,\n",
       "            warm_start=False),\n",
       "       fit_params=None, iid='warn', n_jobs=None,\n",
       "       param_grid={'class_weight': [{0: 1, 1: 1}]},\n",
       "       pre_dispatch='2*n_jobs', refit=True, return_train_score='warn',\n",
       "       scoring='f1', verbose=0)"
      ]
     },
     "execution_count": 29,
     "metadata": {},
     "output_type": "execute_result"
    }
   ],
   "source": [
    "clf = RandomForestClassifier(n_estimators=100)\n",
    "params = {'class_weight':[{0:1, 1:pos_weight} for pos_weight in np.arange(1, 2,1)]}\n",
    "gs_rfx = GridSearchCV(estimator=clf, param_grid=params, cv=3, scoring='f1') \n",
    "gs_rfx.fit(X_train, y_train)"
   ]
  },
  {
   "cell_type": "code",
   "execution_count": 30,
   "metadata": {},
   "outputs": [
    {
     "data": {
      "text/plain": [
       "RandomForestClassifier(bootstrap=True, class_weight={0: 1, 1: 1},\n",
       "            criterion='gini', max_depth=None, max_features='auto',\n",
       "            max_leaf_nodes=None, min_impurity_decrease=0.0,\n",
       "            min_impurity_split=None, min_samples_leaf=1,\n",
       "            min_samples_split=2, min_weight_fraction_leaf=0.0,\n",
       "            n_estimators=100, n_jobs=None, oob_score=False,\n",
       "            random_state=None, verbose=0, warm_start=False)"
      ]
     },
     "execution_count": 30,
     "metadata": {},
     "output_type": "execute_result"
    }
   ],
   "source": [
    "gs_rfx.best_estimator_"
   ]
  },
  {
   "cell_type": "code",
   "execution_count": 31,
   "metadata": {},
   "outputs": [
    {
     "name": "stdout",
     "output_type": "stream",
     "text": [
      "R Square: 0.9773837936129106\n",
      "ROC AUC score: 0.9124933888537337\n",
      "F1 Square: 0.17768595041322313\n",
      "recall: 0.10669975186104218\n",
      "precision: 0.5308641975308642\n"
     ]
    }
   ],
   "source": [
    "print(\"R Square:\",metrics.accuracy_score(y_test, gs_rfx.predict(X_test)))\n",
    "print(\"ROC AUC score:\",metrics.roc_auc_score(y_test,gs_rfx.predict_proba(X_test)[:,1]))\n",
    "print(\"F1 Square:\",metrics.f1_score(y_test,gs_rfx.predict(X_test)))\n",
    "print(\"recall:\",metrics.recall_score(y_test,gs_rfx.predict(X_test)))\n",
    "print(\"precision:\",metrics.precision_score(y_test,gs_rfx.predict(X_test)))"
   ]
  },
  {
   "cell_type": "code",
   "execution_count": 32,
   "metadata": {},
   "outputs": [],
   "source": [
    "sc=StandardScaler()\n",
    "X_train_std=sc.fit_transform(X_train)\n",
    "X_test_std=sc.fit_transform(X_test)\n",
    "test_std=sc.fit_transform(test)"
   ]
  },
  {
   "cell_type": "code",
   "execution_count": 33,
   "metadata": {},
   "outputs": [
    {
     "name": "stderr",
     "output_type": "stream",
     "text": [
      "C:\\Users\\Anson\\Anaconda3\\lib\\site-packages\\sklearn\\linear_model\\logistic.py:433: FutureWarning: Default solver will be changed to 'lbfgs' in 0.22. Specify a solver to silence this warning.\n",
      "  FutureWarning)\n",
      "C:\\Users\\Anson\\Anaconda3\\lib\\site-packages\\sklearn\\utils\\validation.py:761: DataConversionWarning: A column-vector y was passed when a 1d array was expected. Please change the shape of y to (n_samples, ), for example using ravel().\n",
      "  y = column_or_1d(y, warn=True)\n"
     ]
    },
    {
     "data": {
      "text/plain": [
       "LogisticRegression(C=1, class_weight=None, dual=False, fit_intercept=True,\n",
       "          intercept_scaling=1, max_iter=100, multi_class='warn',\n",
       "          n_jobs=None, penalty='l1', random_state=42, solver='warn',\n",
       "          tol=0.0001, verbose=0, warm_start=False)"
      ]
     },
     "execution_count": 33,
     "metadata": {},
     "output_type": "execute_result"
    }
   ],
   "source": [
    "lr= LogisticRegression(penalty='l1',C=1, random_state=42)\n",
    "lr.fit(X_train_std, y_train)"
   ]
  },
  {
   "cell_type": "code",
   "execution_count": 34,
   "metadata": {},
   "outputs": [
    {
     "name": "stdout",
     "output_type": "stream",
     "text": [
      "R Square: 0.977326968973747\n",
      "ROC AUC score: 0.9253594551477471\n",
      "F1 Square: 0.22222222222222224\n",
      "recall: 0.141439205955335\n",
      "precision: 0.5181818181818182\n"
     ]
    }
   ],
   "source": [
    "print(\"R Square:\",lr.score(X_test_std, y_test))\n",
    "print(\"ROC AUC score:\",metrics.roc_auc_score(y_test,lr.predict_proba(X_test_std)[:,1]))\n",
    "print(\"F1 Square:\",metrics.f1_score(y_test,lr.predict(X_test_std)))\n",
    "print(\"recall:\",metrics.recall_score(y_test,lr.predict(X_test_std)))\n",
    "print(\"precision:\",metrics.precision_score(y_test,lr.predict(X_test_std)))"
   ]
  },
  {
   "cell_type": "code",
   "execution_count": null,
   "metadata": {},
   "outputs": [],
   "source": []
  },
  {
   "cell_type": "code",
   "execution_count": 35,
   "metadata": {},
   "outputs": [],
   "source": [
    "from vecstack import stacking"
   ]
  },
  {
   "cell_type": "code",
   "execution_count": 36,
   "metadata": {},
   "outputs": [],
   "source": [
    "X_train, X_test, y_train, y_test = train_test_split(train, Y, test_size=0.2, random_state=42)"
   ]
  },
  {
   "cell_type": "code",
   "execution_count": 37,
   "metadata": {},
   "outputs": [
    {
     "name": "stdout",
     "output_type": "stream",
     "text": [
      "task:         [classification]\n",
      "n_classes:    [2]\n",
      "metric:       [log_loss]\n",
      "mode:         [oof_pred_bag]\n",
      "n_models:     [4]\n",
      "\n",
      "model  0:     [XGBClassifier]\n"
     ]
    },
    {
     "name": "stderr",
     "output_type": "stream",
     "text": [
      "C:\\Users\\Anson\\Anaconda3\\lib\\site-packages\\sklearn\\utils\\validation.py:761: DataConversionWarning: A column-vector y was passed when a 1d array was expected. Please change the shape of y to (n_samples, ), for example using ravel().\n",
      "  y = column_or_1d(y, warn=True)\n"
     ]
    },
    {
     "name": "stdout",
     "output_type": "stream",
     "text": [
      "    fold  0:  [0.07069504]\n",
      "    fold  1:  [0.06978193]\n",
      "    fold  2:  [0.06380649]\n",
      "    fold  3:  [0.06857706]\n",
      "    ----\n",
      "    MEAN:     [0.06821513] + [0.00265386]\n",
      "    FULL:     [0.06821512]\n",
      "\n",
      "model  1:     [LGBMClassifier]\n",
      "    fold  0:  [0.07186601]\n",
      "    fold  1:  [0.07115220]\n",
      "    fold  2:  [0.06444704]\n",
      "    fold  3:  [0.07048530]\n",
      "    ----\n",
      "    MEAN:     [0.06948764] + [0.00295086]\n",
      "    FULL:     [0.06948761]\n",
      "\n",
      "model  2:     [RandomForestClassifier]\n",
      "    fold  0:  [0.12080916]\n",
      "    fold  1:  [0.12415364]\n",
      "    fold  2:  [0.09945580]\n",
      "    fold  3:  [0.10533241]\n",
      "    ----\n",
      "    MEAN:     [0.11243775] + [0.01032424]\n",
      "    FULL:     [0.11243791]\n",
      "\n",
      "model  3:     [LogisticRegression]\n"
     ]
    },
    {
     "name": "stderr",
     "output_type": "stream",
     "text": [
      "C:\\Users\\Anson\\Anaconda3\\lib\\site-packages\\sklearn\\linear_model\\logistic.py:433: FutureWarning: Default solver will be changed to 'lbfgs' in 0.22. Specify a solver to silence this warning.\n",
      "  FutureWarning)\n"
     ]
    },
    {
     "name": "stdout",
     "output_type": "stream",
     "text": [
      "    fold  0:  [0.07365462]\n"
     ]
    },
    {
     "name": "stderr",
     "output_type": "stream",
     "text": [
      "C:\\Users\\Anson\\Anaconda3\\lib\\site-packages\\sklearn\\linear_model\\logistic.py:433: FutureWarning: Default solver will be changed to 'lbfgs' in 0.22. Specify a solver to silence this warning.\n",
      "  FutureWarning)\n"
     ]
    },
    {
     "name": "stdout",
     "output_type": "stream",
     "text": [
      "    fold  1:  [0.07274709]\n"
     ]
    },
    {
     "name": "stderr",
     "output_type": "stream",
     "text": [
      "C:\\Users\\Anson\\Anaconda3\\lib\\site-packages\\sklearn\\linear_model\\logistic.py:433: FutureWarning: Default solver will be changed to 'lbfgs' in 0.22. Specify a solver to silence this warning.\n",
      "  FutureWarning)\n"
     ]
    },
    {
     "name": "stdout",
     "output_type": "stream",
     "text": [
      "    fold  2:  [0.06769216]\n"
     ]
    },
    {
     "name": "stderr",
     "output_type": "stream",
     "text": [
      "C:\\Users\\Anson\\Anaconda3\\lib\\site-packages\\sklearn\\linear_model\\logistic.py:433: FutureWarning: Default solver will be changed to 'lbfgs' in 0.22. Specify a solver to silence this warning.\n",
      "  FutureWarning)\n"
     ]
    },
    {
     "name": "stdout",
     "output_type": "stream",
     "text": [
      "    fold  3:  [0.07485117]\n",
      "    ----\n",
      "    MEAN:     [0.07223626] + [0.00272760]\n",
      "    FULL:     [0.07223620]\n",
      "\n"
     ]
    }
   ],
   "source": [
    "# Initialize 1st level estimators\n",
    "models = [gs.best_estimator_,gs_lgbc.best_estimator_,gs_rfx.best_estimator_,lr]\n",
    "\n",
    "S_X_train, S_X_test = stacking(models, X_train, y_train, X_test, regression = False, \n",
    "                               metric = metrics.log_loss, n_folds = 4,needs_proba=True,stratified = True, shuffle = True, \n",
    "                               random_state = 42, verbose = 2)"
   ]
  },
  {
   "cell_type": "code",
   "execution_count": 38,
   "metadata": {},
   "outputs": [
    {
     "data": {
      "text/plain": [
       "((46927, 8), (11732, 8))"
      ]
     },
     "execution_count": 38,
     "metadata": {},
     "output_type": "execute_result"
    }
   ],
   "source": [
    "S_X_train.shape,S_X_test.shape,"
   ]
  },
  {
   "cell_type": "code",
   "execution_count": 39,
   "metadata": {},
   "outputs": [
    {
     "name": "stderr",
     "output_type": "stream",
     "text": [
      "C:\\Users\\Anson\\Anaconda3\\lib\\site-packages\\sklearn\\linear_model\\logistic.py:433: FutureWarning: Default solver will be changed to 'lbfgs' in 0.22. Specify a solver to silence this warning.\n",
      "  FutureWarning)\n",
      "C:\\Users\\Anson\\Anaconda3\\lib\\site-packages\\sklearn\\utils\\validation.py:761: DataConversionWarning: A column-vector y was passed when a 1d array was expected. Please change the shape of y to (n_samples, ), for example using ravel().\n",
      "  y = column_or_1d(y, warn=True)\n"
     ]
    }
   ],
   "source": [
    "# Initialize 2nd level model\n",
    "model = LogisticRegression(penalty='l1',C=1, random_state=42)\n",
    "    \n",
    "# Fit 2nd level model\n",
    "model = model.fit(S_X_train, y_train)\n",
    "\n",
    "# Predict\n",
    "y_pred = model.predict(S_X_test)\n",
    "y_pred_proba = model.predict_proba(S_X_test)[:,1]"
   ]
  },
  {
   "cell_type": "code",
   "execution_count": 40,
   "metadata": {},
   "outputs": [
    {
     "name": "stdout",
     "output_type": "stream",
     "text": [
      "R Square: 0.9766450733037845\n",
      "ROC AUC score: 0.9322408690201306\n",
      "F1 Square: 0.26344086021505375\n",
      "recall: 0.1781818181818182\n",
      "precision: 0.5051546391752577\n"
     ]
    }
   ],
   "source": [
    "print(\"R Square:\",metrics.accuracy_score(y_test, model.predict(S_X_test)))\n",
    "print(\"ROC AUC score:\",metrics.roc_auc_score(y_test,model.predict_proba(S_X_test)[:,1]))\n",
    "print(\"F1 Square:\",metrics.f1_score(y_test,model.predict(S_X_test)))\n",
    "print(\"recall:\",metrics.recall_score(y_test,model.predict(S_X_test)))\n",
    "print(\"precision:\",metrics.precision_score(y_test,model.predict(S_X_test)))"
   ]
  },
  {
   "cell_type": "code",
   "execution_count": 41,
   "metadata": {},
   "outputs": [
    {
     "data": {
      "text/plain": [
       "(97.0, 272.57851909883084)"
      ]
     },
     "execution_count": 41,
     "metadata": {},
     "output_type": "execute_result"
    }
   ],
   "source": [
    "y_pred.sum(),y_pred_proba.sum()"
   ]
  },
  {
   "cell_type": "code",
   "execution_count": 42,
   "metadata": {},
   "outputs": [],
   "source": [
    "predict_stack = pd.DataFrame(y_pred_proba, columns=['WM_IND_P'])"
   ]
  },
  {
   "cell_type": "code",
   "execution_count": 54,
   "metadata": {},
   "outputs": [
    {
     "data": {
      "text/plain": [
       "0    11469\n",
       "1      263\n",
       "Name: WM_IND, dtype: int64"
      ]
     },
     "execution_count": 54,
     "metadata": {},
     "output_type": "execute_result"
    }
   ],
   "source": [
    "# Use trial and error, found 0.148 is the best threshold to max F1-score\n",
    "predict_stack['WM_IND']=np.where(predict_stack.WM_IND_P>0.148,1,0)\n",
    "predict_stack['WM_IND'].value_counts()"
   ]
  },
  {
   "cell_type": "code",
   "execution_count": 55,
   "metadata": {},
   "outputs": [
    {
     "name": "stdout",
     "output_type": "stream",
     "text": [
      "R Square: 0.9734060688714626\n",
      "ROC AUC score: 0.9322408690201306\n",
      "F1 Square: 0.42007434944237915\n",
      "recall: 0.4109090909090909\n",
      "precision: 0.4296577946768061\n"
     ]
    }
   ],
   "source": [
    "# find max F1-score is 0.420 > default threshold F1-score 0.263\n",
    "print(\"R Square:\",metrics.accuracy_score(y_test, predict_stack['WM_IND']))\n",
    "print(\"ROC AUC score:\",metrics.roc_auc_score(y_test,predict_stack['WM_IND_P']))\n",
    "print(\"F1 Square:\",metrics.f1_score(y_test,predict_stack['WM_IND']))\n",
    "print(\"recall:\",metrics.recall_score(y_test,predict_stack['WM_IND']))\n",
    "print(\"precision:\",metrics.precision_score(y_test,predict_stack['WM_IND']))"
   ]
  },
  {
   "cell_type": "code",
   "execution_count": 45,
   "metadata": {},
   "outputs": [
    {
     "name": "stdout",
     "output_type": "stream",
     "text": [
      "task:         [classification]\n",
      "n_classes:    [2]\n",
      "metric:       [log_loss]\n",
      "mode:         [oof_pred_bag]\n",
      "n_models:     [4]\n",
      "\n",
      "model  0:     [XGBClassifier]\n"
     ]
    },
    {
     "name": "stderr",
     "output_type": "stream",
     "text": [
      "C:\\Users\\Anson\\Anaconda3\\lib\\site-packages\\sklearn\\utils\\validation.py:761: DataConversionWarning: A column-vector y was passed when a 1d array was expected. Please change the shape of y to (n_samples, ), for example using ravel().\n",
      "  y = column_or_1d(y, warn=True)\n"
     ]
    },
    {
     "name": "stdout",
     "output_type": "stream",
     "text": [
      "    fold  0:  [0.06458222]\n",
      "    fold  1:  [0.06922102]\n",
      "    fold  2:  [0.06787448]\n",
      "    fold  3:  [0.06948560]\n",
      "    ----\n",
      "    MEAN:     [0.06779083] + [0.00195063]\n",
      "    FULL:     [0.06779074]\n",
      "\n",
      "model  1:     [LGBMClassifier]\n",
      "    fold  0:  [0.06545007]\n",
      "    fold  1:  [0.06983434]\n",
      "    fold  2:  [0.06908590]\n",
      "    fold  3:  [0.07027929]\n",
      "    ----\n",
      "    MEAN:     [0.06866240] + [0.00190303]\n",
      "    FULL:     [0.06866231]\n",
      "\n",
      "model  2:     [RandomForestClassifier]\n",
      "    fold  0:  [0.10481678]\n",
      "    fold  1:  [0.10914983]\n",
      "    fold  2:  [0.11823698]\n",
      "    fold  3:  [0.12441675]\n",
      "    ----\n",
      "    MEAN:     [0.11415509] + [0.00765213]\n",
      "    FULL:     [0.11415468]\n",
      "\n",
      "model  3:     [LogisticRegression]\n"
     ]
    },
    {
     "name": "stderr",
     "output_type": "stream",
     "text": [
      "C:\\Users\\Anson\\Anaconda3\\lib\\site-packages\\sklearn\\linear_model\\logistic.py:433: FutureWarning: Default solver will be changed to 'lbfgs' in 0.22. Specify a solver to silence this warning.\n",
      "  FutureWarning)\n"
     ]
    },
    {
     "name": "stdout",
     "output_type": "stream",
     "text": [
      "    fold  0:  [0.06813438]\n"
     ]
    },
    {
     "name": "stderr",
     "output_type": "stream",
     "text": [
      "C:\\Users\\Anson\\Anaconda3\\lib\\site-packages\\sklearn\\linear_model\\logistic.py:433: FutureWarning: Default solver will be changed to 'lbfgs' in 0.22. Specify a solver to silence this warning.\n",
      "  FutureWarning)\n"
     ]
    },
    {
     "name": "stdout",
     "output_type": "stream",
     "text": [
      "    fold  1:  [0.07287848]\n"
     ]
    },
    {
     "name": "stderr",
     "output_type": "stream",
     "text": [
      "C:\\Users\\Anson\\Anaconda3\\lib\\site-packages\\sklearn\\linear_model\\logistic.py:433: FutureWarning: Default solver will be changed to 'lbfgs' in 0.22. Specify a solver to silence this warning.\n",
      "  FutureWarning)\n"
     ]
    },
    {
     "name": "stdout",
     "output_type": "stream",
     "text": [
      "    fold  2:  [0.07272586]\n"
     ]
    },
    {
     "name": "stderr",
     "output_type": "stream",
     "text": [
      "C:\\Users\\Anson\\Anaconda3\\lib\\site-packages\\sklearn\\linear_model\\logistic.py:433: FutureWarning: Default solver will be changed to 'lbfgs' in 0.22. Specify a solver to silence this warning.\n",
      "  FutureWarning)\n"
     ]
    },
    {
     "name": "stdout",
     "output_type": "stream",
     "text": [
      "    fold  3:  [0.07486270]\n",
      "    ----\n",
      "    MEAN:     [0.07215035] + [0.00246710]\n",
      "    FULL:     [0.07215023]\n",
      "\n"
     ]
    }
   ],
   "source": [
    "# Initialize 1st level estimators\n",
    "models = [gs.best_estimator_,gs_lgbc.best_estimator_,gs_rfx.best_estimator_,lr]\n",
    "\n",
    "S_train, S_test = stacking(models, train, Y, test, regression = False, \n",
    "                               metric = metrics.log_loss, n_folds = 4,needs_proba=True,stratified = True, shuffle = True, \n",
    "                               random_state = 42, verbose = 2)"
   ]
  },
  {
   "cell_type": "code",
   "execution_count": 46,
   "metadata": {},
   "outputs": [
    {
     "name": "stderr",
     "output_type": "stream",
     "text": [
      "C:\\Users\\Anson\\Anaconda3\\lib\\site-packages\\sklearn\\linear_model\\logistic.py:433: FutureWarning: Default solver will be changed to 'lbfgs' in 0.22. Specify a solver to silence this warning.\n",
      "  FutureWarning)\n",
      "C:\\Users\\Anson\\Anaconda3\\lib\\site-packages\\sklearn\\utils\\validation.py:761: DataConversionWarning: A column-vector y was passed when a 1d array was expected. Please change the shape of y to (n_samples, ), for example using ravel().\n",
      "  y = column_or_1d(y, warn=True)\n"
     ]
    }
   ],
   "source": [
    "# Initialize 2nd level model\n",
    "model2 = LogisticRegression(penalty='l1',C=1, random_state=42)\n",
    "    \n",
    "# Fit 2nd level model\n",
    "model2 = model2.fit(S_train, Y)\n",
    "\n",
    "# Predict\n",
    "y_pred2 = model2.predict(S_test)\n",
    "y_pred2_proba = model2.predict_proba(S_test)[:,1]"
   ]
  },
  {
   "cell_type": "code",
   "execution_count": 47,
   "metadata": {},
   "outputs": [
    {
     "data": {
      "text/plain": [
       "(158.0, 642.4667208166175)"
      ]
     },
     "execution_count": 47,
     "metadata": {},
     "output_type": "execute_result"
    }
   ],
   "source": [
    "y_pred2.sum(),y_pred2_proba.sum()"
   ]
  },
  {
   "cell_type": "code",
   "execution_count": 48,
   "metadata": {},
   "outputs": [],
   "source": [
    "predict_stack2 = pd.DataFrame(y_pred2_proba, columns=['WM_IND_P'])"
   ]
  },
  {
   "cell_type": "code",
   "execution_count": 56,
   "metadata": {},
   "outputs": [
    {
     "data": {
      "text/plain": [
       "0    29560\n",
       "1      440\n",
       "Name: WM_IND, dtype: int64"
      ]
     },
     "execution_count": 56,
     "metadata": {},
     "output_type": "execute_result"
    }
   ],
   "source": [
    "predict_stack2['WM_IND']=np.where(predict_stack2.WM_IND_P>0.148,1,0)\n",
    "predict_stack2['WM_IND'].value_counts()"
   ]
  },
  {
   "cell_type": "code",
   "execution_count": 57,
   "metadata": {},
   "outputs": [],
   "source": [
    "predict_stack2.to_csv('WM_result.csv', index=False)"
   ]
  },
  {
   "cell_type": "code",
   "execution_count": null,
   "metadata": {},
   "outputs": [],
   "source": []
  }
 ],
 "metadata": {
  "kernelspec": {
   "display_name": "Python 3",
   "language": "python",
   "name": "python3"
  },
  "language_info": {
   "codemirror_mode": {
    "name": "ipython",
    "version": 3
   },
   "file_extension": ".py",
   "mimetype": "text/x-python",
   "name": "python",
   "nbconvert_exporter": "python",
   "pygments_lexer": "ipython3",
   "version": "3.6.5"
  }
 },
 "nbformat": 4,
 "nbformat_minor": 2
}
