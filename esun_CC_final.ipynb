{
 "cells": [
  {
   "cell_type": "code",
   "execution_count": 1,
   "metadata": {},
   "outputs": [],
   "source": [
    "import numpy as np \n",
    "import pandas as pd \n",
    "import matplotlib.pyplot as plt\n",
    "import seaborn as sns\n",
    "%matplotlib inline\n",
    "\n",
    "import datetime as dt\n",
    "from scipy import stats\n",
    "from scipy.stats import norm, skew\n",
    "\n",
    "from sklearn import preprocessing\n",
    "from sklearn.preprocessing import StandardScaler, RobustScaler\n",
    "from sklearn.model_selection import train_test_split,GridSearchCV\n",
    "from sklearn.model_selection import StratifiedKFold,KFold,cross_val_score\n",
    "\n",
    "from sklearn import linear_model, svm, gaussian_process\n",
    "from sklearn.linear_model import ElasticNet, Lasso, LassoLars, Ridge, BayesianRidge\n",
    "from sklearn.ensemble import RandomForestClassifier,GradientBoostingClassifier\n",
    "from sklearn import metrics\n",
    "from sklearn.metrics import mean_squared_error, mean_absolute_error\n",
    "from sklearn.linear_model import LogisticRegression\n",
    "\n",
    "import xgboost as xgb\n",
    "import lightgbm as lgb\n",
    "from mlxtend.regressor import StackingRegressor\n",
    "from imblearn.over_sampling import SMOTE\n",
    "from imblearn.under_sampling import TomekLinks,RandomUnderSampler,NearMiss"
   ]
  },
  {
   "cell_type": "markdown",
   "metadata": {},
   "source": [
    "## Load Data"
   ]
  },
  {
   "cell_type": "code",
   "execution_count": 2,
   "metadata": {},
   "outputs": [],
   "source": [
    "df_train = pd.read_csv(\"df_train.csv\",encoding = \"utf8\") \n",
    "df_test = pd.read_csv(\"df_test.csv\",encoding = \"utf8\") "
   ]
  },
  {
   "cell_type": "code",
   "execution_count": 3,
   "metadata": {},
   "outputs": [],
   "source": [
    "df_train=df_train[df_train.BROWSE_CNT>0]"
   ]
  },
  {
   "cell_type": "code",
   "execution_count": 4,
   "metadata": {},
   "outputs": [
    {
     "data": {
      "text/plain": [
       "0.0    56808\n",
       "1.0     1851\n",
       "Name: NEXT_CC_APPLY, dtype: int64"
      ]
     },
     "execution_count": 4,
     "metadata": {},
     "output_type": "execute_result"
    }
   ],
   "source": [
    "df_train.NEXT_CC_APPLY.value_counts()"
   ]
  },
  {
   "cell_type": "code",
   "execution_count": 5,
   "metadata": {},
   "outputs": [
    {
     "name": "stdout",
     "output_type": "stream",
     "text": [
      "<class 'pandas.core.frame.DataFrame'>\n",
      "Int64Index: 58659 entries, 5 to 187678\n",
      "Columns: 156 entries, CUST_NO to CUST_YEAR_WM_P\n",
      "dtypes: float64(153), int64(1), object(2)\n",
      "memory usage: 70.3+ MB\n",
      "<class 'pandas.core.frame.DataFrame'>\n",
      "RangeIndex: 30000 entries, 0 to 29999\n",
      "Columns: 156 entries, CUST_NO to CUST_YEAR_WM_P\n",
      "dtypes: float64(153), int64(1), object(2)\n",
      "memory usage: 35.7+ MB\n"
     ]
    },
    {
     "data": {
      "text/plain": [
       "(None, None)"
      ]
     },
     "execution_count": 5,
     "metadata": {},
     "output_type": "execute_result"
    }
   ],
   "source": [
    "df_train.info(),df_test.info()"
   ]
  },
  {
   "cell_type": "code",
   "execution_count": 6,
   "metadata": {},
   "outputs": [],
   "source": [
    "CM_CUST=['CUST_NO','D90_TXN_CNT',# 'CUST_YEAR',\n",
    "       'BROWSE_CNT','BROWSE_URL','BROWSE_DATE_LAST_DAYS','BROWSE_DATE_FIRST_DAYS',\n",
    "       'PAGE_OFTEN_CAT_3','PAGE_OFTEN_CAT_5','PAGE_OFTEN_CAT_9','PAGE_OFTEN_CAT_11','PAGE_OFTEN_CAT_14','PAGE_OFTEN_CAT_19',\n",
    "       'PAGE_OFTEN_CAT_21','PAGE_OFTEN_CAT_23','PAGE_OFTEN_CAT_25','PAGE_OFTEN_CAT_35','PAGE_OFTEN_CAT_69',\n",
    "       'PAGE_OFTEN_CAT_135','PAGE_OFTEN_CAT_155','PAGE_OFTEN_CAT_177','PAGE_OFTEN_CAT_192','PAGE_OFTEN_CAT_196',\n",
    "       'PAGE_OFTEN_CAT_210','PAGE_OFTEN_CAT_223', 'PAGE_OFTEN_CAT_252','PAGE_OFTEN_CAT_257',\n",
    "       'PAGE_OFTEN_CAT_259','PAGE_OFTEN_CAT_261','PAGE_OFTEN_CAT_999',\n",
    "       'GENDER_CODE_F', 'GENDER_CODE_M','GENDER_CODE_999','AGE_1', 'AGE_2','AGE_3', 'AGE_4', \n",
    "       'CHILDREN_CNT_0.0', 'CHILDREN_CNT_1.0','CHILDREN_CNT_2.0', 'CHILDREN_CNT_3.0', 'CHILDREN_CNT_4.0',\n",
    "       'CHILDREN_CNT_5.0', 'CHILDREN_CNT_6.0', 'CHILDREN_CNT_9.0','CHILDREN_CNT_10.0', 'CHILDREN_CNT_999.0',\n",
    "       'EDU_CODE_1.0', 'EDU_CODE_2.0', 'EDU_CODE_3.0','EDU_CODE_4.0', 'EDU_CODE_5.0', 'EDU_CODE_6.0', 'EDU_CODE_999.0',\n",
    "       'INCOME_RANGE_CODE_1.0','INCOME_RANGE_CODE_2.0', 'INCOME_RANGE_CODE_3.0','INCOME_RANGE_CODE_4.0', 'INCOME_RANGE_CODE_999.0',\n",
    "       'WORK_MTHS_1.0', 'WORK_MTHS_2.0','WORK_MTHS_3.0', 'WORK_MTHS_4.0', 'WORK_MTHS_5.0','WORK_MTHS_999.0',\n",
    "       'GENDER_LN','AGE_LN','CHILDREN_LN','EDU_CODE_LN','INCOME_RANGE_LN','WORK_MTHS_LN',\n",
    "       'GENDER_CC','AGE_CC','CHILDREN_CC','EDU_CODE_CC','INCOME_RANGE_CC','WORK_MTHS_CC',\n",
    "       'GENDER_FX','AGE_FX','CHILDREN_FX','EDU_CODE_FX','INCOME_RANGE_FX','WORK_MTHS_FX',\n",
    "       'GENDER_WM','AGE_WM','CHILDREN_WM','EDU_CODE_WM','INCOME_RANGE_WM','WORK_MTHS_WM']"
   ]
  },
  {
   "cell_type": "code",
   "execution_count": 7,
   "metadata": {},
   "outputs": [],
   "source": [
    "CM_CC = ['D0_CC_LAST_DAYS_P','D90_CC_CNT','CUST_YEAR_CC_P', 'D0_CC_LAST_DAYS',\n",
    "         'CC_DAY_INTERVAL_LAST','CC_DAY_INTERVAL_FIRST','CC_DAY_INTERVAL_AVG'] "
   ]
  },
  {
   "cell_type": "code",
   "execution_count": 8,
   "metadata": {},
   "outputs": [],
   "source": [
    "Y=df_train[['NEXT_CC_APPLY']].copy().fillna(0)"
   ]
  },
  {
   "cell_type": "code",
   "execution_count": 9,
   "metadata": {},
   "outputs": [
    {
     "name": "stdout",
     "output_type": "stream",
     "text": [
      "<class 'pandas.core.frame.DataFrame'>\n",
      "Int64Index: 58659 entries, 5 to 187678\n",
      "Columns: 156 entries, CUST_NO to CUST_YEAR_WM_P\n",
      "dtypes: float64(153), int64(1), object(2)\n",
      "memory usage: 70.3+ MB\n",
      "<class 'pandas.core.frame.DataFrame'>\n",
      "RangeIndex: 30000 entries, 0 to 29999\n",
      "Columns: 156 entries, CUST_NO to CUST_YEAR_WM_P\n",
      "dtypes: float64(153), int64(1), object(2)\n",
      "memory usage: 35.7+ MB\n"
     ]
    },
    {
     "data": {
      "text/plain": [
       "(None, None)"
      ]
     },
     "execution_count": 9,
     "metadata": {},
     "output_type": "execute_result"
    }
   ],
   "source": [
    "df_train.info(),df_test.info()"
   ]
  },
  {
   "cell_type": "code",
   "execution_count": 10,
   "metadata": {},
   "outputs": [],
   "source": [
    "train=df_train[CM_CUST+CM_CC].copy()\n",
    "test=df_test[CM_CUST+CM_CC].copy()"
   ]
  },
  {
   "cell_type": "code",
   "execution_count": 11,
   "metadata": {},
   "outputs": [],
   "source": [
    "train['BROWSE_DATE_LAST_DAYS']=train['BROWSE_DATE_LAST_DAYS'].fillna(999)\n",
    "train['BROWSE_DATE_FIRST_DAYS']=train['BROWSE_DATE_FIRST_DAYS'].fillna(999)\n",
    "train['CC_DAY_INTERVAL_FIRST']=train['CC_DAY_INTERVAL_FIRST'].fillna(999)\n",
    "train['CC_DAY_INTERVAL_LAST']=train['CC_DAY_INTERVAL_LAST'].fillna(999)\n",
    "train['CC_DAY_INTERVAL_AVG']=train['CC_DAY_INTERVAL_AVG'].fillna(999)"
   ]
  },
  {
   "cell_type": "code",
   "execution_count": 12,
   "metadata": {},
   "outputs": [],
   "source": [
    "test['BROWSE_DATE_LAST_DAYS']=test['BROWSE_DATE_LAST_DAYS'].fillna(999)\n",
    "test['BROWSE_DATE_FIRST_DAYS']=test['BROWSE_DATE_FIRST_DAYS'].fillna(999)\n",
    "test['CC_DAY_INTERVAL_FIRST']=test['CC_DAY_INTERVAL_FIRST'].fillna(999)\n",
    "test['CC_DAY_INTERVAL_LAST']=test['CC_DAY_INTERVAL_LAST'].fillna(999)\n",
    "test['CC_DAY_INTERVAL_AVG']=test['CC_DAY_INTERVAL_AVG'].fillna(999)"
   ]
  },
  {
   "cell_type": "code",
   "execution_count": 13,
   "metadata": {},
   "outputs": [
    {
     "name": "stdout",
     "output_type": "stream",
     "text": [
      "<class 'pandas.core.frame.DataFrame'>\n",
      "Int64Index: 58659 entries, 5 to 187678\n",
      "Data columns (total 95 columns):\n",
      "CUST_NO                    58659 non-null object\n",
      "D90_TXN_CNT                58659 non-null float64\n",
      "BROWSE_CNT                 58659 non-null float64\n",
      "BROWSE_URL                 58659 non-null float64\n",
      "BROWSE_DATE_LAST_DAYS      58659 non-null float64\n",
      "BROWSE_DATE_FIRST_DAYS     58659 non-null float64\n",
      "PAGE_OFTEN_CAT_3           58659 non-null float64\n",
      "PAGE_OFTEN_CAT_5           58659 non-null float64\n",
      "PAGE_OFTEN_CAT_9           58659 non-null float64\n",
      "PAGE_OFTEN_CAT_11          58659 non-null float64\n",
      "PAGE_OFTEN_CAT_14          58659 non-null float64\n",
      "PAGE_OFTEN_CAT_19          58659 non-null float64\n",
      "PAGE_OFTEN_CAT_21          58659 non-null float64\n",
      "PAGE_OFTEN_CAT_23          58659 non-null float64\n",
      "PAGE_OFTEN_CAT_25          58659 non-null float64\n",
      "PAGE_OFTEN_CAT_35          58659 non-null float64\n",
      "PAGE_OFTEN_CAT_69          58659 non-null float64\n",
      "PAGE_OFTEN_CAT_135         58659 non-null float64\n",
      "PAGE_OFTEN_CAT_155         58659 non-null float64\n",
      "PAGE_OFTEN_CAT_177         58659 non-null float64\n",
      "PAGE_OFTEN_CAT_192         58659 non-null float64\n",
      "PAGE_OFTEN_CAT_196         58659 non-null float64\n",
      "PAGE_OFTEN_CAT_210         58659 non-null float64\n",
      "PAGE_OFTEN_CAT_223         58659 non-null float64\n",
      "PAGE_OFTEN_CAT_252         58659 non-null float64\n",
      "PAGE_OFTEN_CAT_257         58659 non-null float64\n",
      "PAGE_OFTEN_CAT_259         58659 non-null float64\n",
      "PAGE_OFTEN_CAT_261         58659 non-null float64\n",
      "PAGE_OFTEN_CAT_999         58659 non-null float64\n",
      "GENDER_CODE_F              58659 non-null float64\n",
      "GENDER_CODE_M              58659 non-null float64\n",
      "GENDER_CODE_999            58659 non-null float64\n",
      "AGE_1                      58659 non-null float64\n",
      "AGE_2                      58659 non-null float64\n",
      "AGE_3                      58659 non-null float64\n",
      "AGE_4                      58659 non-null float64\n",
      "CHILDREN_CNT_0.0           58659 non-null float64\n",
      "CHILDREN_CNT_1.0           58659 non-null float64\n",
      "CHILDREN_CNT_2.0           58659 non-null float64\n",
      "CHILDREN_CNT_3.0           58659 non-null float64\n",
      "CHILDREN_CNT_4.0           58659 non-null float64\n",
      "CHILDREN_CNT_5.0           58659 non-null float64\n",
      "CHILDREN_CNT_6.0           58659 non-null float64\n",
      "CHILDREN_CNT_9.0           58659 non-null float64\n",
      "CHILDREN_CNT_10.0          58659 non-null float64\n",
      "CHILDREN_CNT_999.0         58659 non-null float64\n",
      "EDU_CODE_1.0               58659 non-null float64\n",
      "EDU_CODE_2.0               58659 non-null float64\n",
      "EDU_CODE_3.0               58659 non-null float64\n",
      "EDU_CODE_4.0               58659 non-null float64\n",
      "EDU_CODE_5.0               58659 non-null float64\n",
      "EDU_CODE_6.0               58659 non-null float64\n",
      "EDU_CODE_999.0             58659 non-null float64\n",
      "INCOME_RANGE_CODE_1.0      58659 non-null float64\n",
      "INCOME_RANGE_CODE_2.0      58659 non-null float64\n",
      "INCOME_RANGE_CODE_3.0      58659 non-null float64\n",
      "INCOME_RANGE_CODE_4.0      58659 non-null float64\n",
      "INCOME_RANGE_CODE_999.0    58659 non-null float64\n",
      "WORK_MTHS_1.0              58659 non-null float64\n",
      "WORK_MTHS_2.0              58659 non-null float64\n",
      "WORK_MTHS_3.0              58659 non-null float64\n",
      "WORK_MTHS_4.0              58659 non-null float64\n",
      "WORK_MTHS_5.0              58659 non-null float64\n",
      "WORK_MTHS_999.0            58659 non-null float64\n",
      "GENDER_LN                  58659 non-null float64\n",
      "AGE_LN                     58659 non-null float64\n",
      "CHILDREN_LN                58659 non-null float64\n",
      "EDU_CODE_LN                58659 non-null float64\n",
      "INCOME_RANGE_LN            58659 non-null float64\n",
      "WORK_MTHS_LN               58659 non-null float64\n",
      "GENDER_CC                  58659 non-null float64\n",
      "AGE_CC                     58659 non-null float64\n",
      "CHILDREN_CC                58659 non-null float64\n",
      "EDU_CODE_CC                58659 non-null float64\n",
      "INCOME_RANGE_CC            58659 non-null float64\n",
      "WORK_MTHS_CC               58659 non-null float64\n",
      "GENDER_FX                  58659 non-null float64\n",
      "AGE_FX                     58659 non-null float64\n",
      "CHILDREN_FX                58659 non-null float64\n",
      "EDU_CODE_FX                58659 non-null float64\n",
      "INCOME_RANGE_FX            58659 non-null float64\n",
      "WORK_MTHS_FX               58659 non-null float64\n",
      "GENDER_WM                  58659 non-null float64\n",
      "AGE_WM                     58659 non-null float64\n",
      "CHILDREN_WM                58659 non-null float64\n",
      "EDU_CODE_WM                58659 non-null float64\n",
      "INCOME_RANGE_WM            58659 non-null float64\n",
      "WORK_MTHS_WM               58659 non-null float64\n",
      "D0_CC_LAST_DAYS_P          58659 non-null float64\n",
      "D90_CC_CNT                 5203 non-null float64\n",
      "CUST_YEAR_CC_P             58659 non-null float64\n",
      "D0_CC_LAST_DAYS            58659 non-null float64\n",
      "CC_DAY_INTERVAL_LAST       58659 non-null float64\n",
      "CC_DAY_INTERVAL_FIRST      58659 non-null float64\n",
      "CC_DAY_INTERVAL_AVG        58659 non-null float64\n",
      "dtypes: float64(94), object(1)\n",
      "memory usage: 43.0+ MB\n"
     ]
    }
   ],
   "source": [
    "train.info()"
   ]
  },
  {
   "cell_type": "code",
   "execution_count": 14,
   "metadata": {},
   "outputs": [],
   "source": [
    "train=train.fillna(0)\n",
    "test=test.fillna(0)"
   ]
  },
  {
   "cell_type": "code",
   "execution_count": 15,
   "metadata": {},
   "outputs": [
    {
     "data": {
      "text/plain": [
       "0.0    56808\n",
       "1.0     1851\n",
       "Name: NEXT_CC_APPLY, dtype: int64"
      ]
     },
     "execution_count": 15,
     "metadata": {},
     "output_type": "execute_result"
    }
   ],
   "source": [
    "df_train.NEXT_CC_APPLY.value_counts()"
   ]
  },
  {
   "cell_type": "code",
   "execution_count": 16,
   "metadata": {},
   "outputs": [],
   "source": [
    "train=train.drop(['CUST_NO'], axis=1)\n",
    "test=test.drop(['CUST_NO'], axis=1)"
   ]
  },
  {
   "cell_type": "code",
   "execution_count": 17,
   "metadata": {},
   "outputs": [
    {
     "data": {
      "text/plain": [
       "<matplotlib.axes._subplots.AxesSubplot at 0x14ab98d5748>"
      ]
     },
     "execution_count": 17,
     "metadata": {},
     "output_type": "execute_result"
    },
    {
     "data": {
      "image/png": "[encoded data removed]",
      "text/plain": [
       "<Figure size 864x720 with 2 Axes>"
      ]
     },
     "metadata": {},
     "output_type": "display_data"
    }
   ],
   "source": [
    "corrmat = train.corr()\n",
    "f, ax = plt.subplots(figsize=(12, 10))\n",
    "sns.heatmap(corrmat, linewidths=0.1, vmax=1.0, square=True)"
   ]
  },
  {
   "cell_type": "code",
   "execution_count": 18,
   "metadata": {},
   "outputs": [],
   "source": [
    "def correlation(col_corr, threshold):\n",
    "    #col_corr = delcols#set() # Set of all the names of deleted columns\n",
    "    corr_matrix = train.corr()\n",
    "    for i in range(len(corr_matrix.columns)):\n",
    "        for j in range(i):\n",
    "            if corr_matrix.iloc[i, j] >= threshold:\n",
    "                colname = corr_matrix.columns[i] # getting the name of column\n",
    "                col_corr.append(colname)\n",
    "                if colname in train.columns:\n",
    "                    del train[colname] # deleting the column from the dataset\n",
    "                if colname in test.columns:\n",
    "                    del test[colname] # deleting the column from the dataset\n",
    "\n",
    "    print(col_corr)\n",
    "    delcols=col_corr\n",
    "    #print(dataset)"
   ]
  },
  {
   "cell_type": "code",
   "execution_count": 19,
   "metadata": {},
   "outputs": [
    {
     "name": "stdout",
     "output_type": "stream",
     "text": [
      "['PAGE_OFTEN_CAT_23', 'GENDER_LN', 'GENDER_WM', 'INCOME_RANGE_WM', 'CC_DAY_INTERVAL_FIRST', 'CC_DAY_INTERVAL_AVG', 'CC_DAY_INTERVAL_AVG']\n"
     ]
    }
   ],
   "source": [
    "delcols=[]\n",
    "correlation(delcols,0.95)"
   ]
  },
  {
   "cell_type": "code",
   "execution_count": 20,
   "metadata": {},
   "outputs": [
    {
     "data": {
      "text/plain": [
       "['PAGE_OFTEN_CAT_23',\n",
       " 'GENDER_LN',\n",
       " 'GENDER_WM',\n",
       " 'INCOME_RANGE_WM',\n",
       " 'CC_DAY_INTERVAL_FIRST',\n",
       " 'CC_DAY_INTERVAL_AVG',\n",
       " 'CC_DAY_INTERVAL_AVG']"
      ]
     },
     "execution_count": 20,
     "metadata": {},
     "output_type": "execute_result"
    }
   ],
   "source": [
    "delcols"
   ]
  },
  {
   "cell_type": "code",
   "execution_count": 21,
   "metadata": {},
   "outputs": [
    {
     "name": "stdout",
     "output_type": "stream",
     "text": [
      "<class 'pandas.core.frame.DataFrame'>\n",
      "RangeIndex: 30000 entries, 0 to 29999\n",
      "Data columns (total 88 columns):\n",
      "D90_TXN_CNT                30000 non-null float64\n",
      "BROWSE_CNT                 30000 non-null float64\n",
      "BROWSE_URL                 30000 non-null float64\n",
      "BROWSE_DATE_LAST_DAYS      30000 non-null float64\n",
      "BROWSE_DATE_FIRST_DAYS     30000 non-null float64\n",
      "PAGE_OFTEN_CAT_3           30000 non-null float64\n",
      "PAGE_OFTEN_CAT_5           30000 non-null float64\n",
      "PAGE_OFTEN_CAT_9           30000 non-null float64\n",
      "PAGE_OFTEN_CAT_11          30000 non-null float64\n",
      "PAGE_OFTEN_CAT_14          30000 non-null float64\n",
      "PAGE_OFTEN_CAT_19          30000 non-null float64\n",
      "PAGE_OFTEN_CAT_21          30000 non-null float64\n",
      "PAGE_OFTEN_CAT_25          30000 non-null float64\n",
      "PAGE_OFTEN_CAT_35          30000 non-null float64\n",
      "PAGE_OFTEN_CAT_69          30000 non-null float64\n",
      "PAGE_OFTEN_CAT_135         30000 non-null float64\n",
      "PAGE_OFTEN_CAT_155         30000 non-null float64\n",
      "PAGE_OFTEN_CAT_177         30000 non-null float64\n",
      "PAGE_OFTEN_CAT_192         30000 non-null float64\n",
      "PAGE_OFTEN_CAT_196         30000 non-null float64\n",
      "PAGE_OFTEN_CAT_210         30000 non-null float64\n",
      "PAGE_OFTEN_CAT_223         30000 non-null float64\n",
      "PAGE_OFTEN_CAT_252         30000 non-null float64\n",
      "PAGE_OFTEN_CAT_257         30000 non-null float64\n",
      "PAGE_OFTEN_CAT_259         30000 non-null float64\n",
      "PAGE_OFTEN_CAT_261         30000 non-null float64\n",
      "PAGE_OFTEN_CAT_999         30000 non-null float64\n",
      "GENDER_CODE_F              30000 non-null float64\n",
      "GENDER_CODE_M              30000 non-null float64\n",
      "GENDER_CODE_999            30000 non-null float64\n",
      "AGE_1                      30000 non-null float64\n",
      "AGE_2                      30000 non-null float64\n",
      "AGE_3                      30000 non-null float64\n",
      "AGE_4                      30000 non-null float64\n",
      "CHILDREN_CNT_0.0           30000 non-null float64\n",
      "CHILDREN_CNT_1.0           30000 non-null float64\n",
      "CHILDREN_CNT_2.0           30000 non-null float64\n",
      "CHILDREN_CNT_3.0           30000 non-null float64\n",
      "CHILDREN_CNT_4.0           30000 non-null float64\n",
      "CHILDREN_CNT_5.0           30000 non-null float64\n",
      "CHILDREN_CNT_6.0           30000 non-null float64\n",
      "CHILDREN_CNT_9.0           30000 non-null float64\n",
      "CHILDREN_CNT_10.0          30000 non-null float64\n",
      "CHILDREN_CNT_999.0         30000 non-null float64\n",
      "EDU_CODE_1.0               30000 non-null float64\n",
      "EDU_CODE_2.0               30000 non-null float64\n",
      "EDU_CODE_3.0               30000 non-null float64\n",
      "EDU_CODE_4.0               30000 non-null float64\n",
      "EDU_CODE_5.0               30000 non-null float64\n",
      "EDU_CODE_6.0               30000 non-null float64\n",
      "EDU_CODE_999.0             30000 non-null float64\n",
      "INCOME_RANGE_CODE_1.0      30000 non-null float64\n",
      "INCOME_RANGE_CODE_2.0      30000 non-null float64\n",
      "INCOME_RANGE_CODE_3.0      30000 non-null float64\n",
      "INCOME_RANGE_CODE_4.0      30000 non-null float64\n",
      "INCOME_RANGE_CODE_999.0    30000 non-null float64\n",
      "WORK_MTHS_1.0              30000 non-null float64\n",
      "WORK_MTHS_2.0              30000 non-null float64\n",
      "WORK_MTHS_3.0              30000 non-null float64\n",
      "WORK_MTHS_4.0              30000 non-null float64\n",
      "WORK_MTHS_5.0              30000 non-null float64\n",
      "WORK_MTHS_999.0            30000 non-null float64\n",
      "AGE_LN                     30000 non-null float64\n",
      "CHILDREN_LN                30000 non-null float64\n",
      "EDU_CODE_LN                30000 non-null float64\n",
      "INCOME_RANGE_LN            30000 non-null float64\n",
      "WORK_MTHS_LN               30000 non-null float64\n",
      "GENDER_CC                  30000 non-null float64\n",
      "AGE_CC                     30000 non-null float64\n",
      "CHILDREN_CC                30000 non-null float64\n",
      "EDU_CODE_CC                30000 non-null float64\n",
      "INCOME_RANGE_CC            30000 non-null float64\n",
      "WORK_MTHS_CC               30000 non-null float64\n",
      "GENDER_FX                  30000 non-null float64\n",
      "AGE_FX                     30000 non-null float64\n",
      "CHILDREN_FX                30000 non-null float64\n",
      "EDU_CODE_FX                30000 non-null float64\n",
      "INCOME_RANGE_FX            30000 non-null float64\n",
      "WORK_MTHS_FX               30000 non-null float64\n",
      "AGE_WM                     30000 non-null float64\n",
      "CHILDREN_WM                30000 non-null float64\n",
      "EDU_CODE_WM                30000 non-null float64\n",
      "WORK_MTHS_WM               30000 non-null float64\n",
      "D0_CC_LAST_DAYS_P          30000 non-null float64\n",
      "D90_CC_CNT                 30000 non-null float64\n",
      "CUST_YEAR_CC_P             30000 non-null float64\n",
      "D0_CC_LAST_DAYS            30000 non-null float64\n",
      "CC_DAY_INTERVAL_LAST       30000 non-null float64\n",
      "dtypes: float64(88)\n",
      "memory usage: 20.1 MB\n"
     ]
    }
   ],
   "source": [
    "test.info()"
   ]
  },
  {
   "cell_type": "code",
   "execution_count": 22,
   "metadata": {},
   "outputs": [],
   "source": [
    "kf=KFold(n_splits=5, random_state=42, shuffle=True)"
   ]
  },
  {
   "cell_type": "code",
   "execution_count": 23,
   "metadata": {},
   "outputs": [],
   "source": [
    "X_train, X_test, y_train, y_test = train_test_split(train,Y, test_size=0.3, random_state=42)"
   ]
  },
  {
   "cell_type": "code",
   "execution_count": null,
   "metadata": {},
   "outputs": [],
   "source": []
  },
  {
   "cell_type": "code",
   "execution_count": 24,
   "metadata": {},
   "outputs": [
    {
     "name": "stderr",
     "output_type": "stream",
     "text": [
      "C:\\Users\\Anson\\Anaconda3\\lib\\site-packages\\sklearn\\utils\\validation.py:761: DataConversionWarning: A column-vector y was passed when a 1d array was expected. Please change the shape of y to (n_samples, ), for example using ravel().\n",
      "  y = column_or_1d(y, warn=True)\n"
     ]
    },
    {
     "data": {
      "text/plain": [
       "GradientBoostingClassifier(criterion='friedman_mse', init=None,\n",
       "              learning_rate=0.1, loss='deviance', max_depth=3,\n",
       "              max_features=None, max_leaf_nodes=None,\n",
       "              min_impurity_decrease=0.0, min_impurity_split=None,\n",
       "              min_samples_leaf=1, min_samples_split=2,\n",
       "              min_weight_fraction_leaf=0.0, n_estimators=100,\n",
       "              n_iter_no_change=None, presort='auto', random_state=42,\n",
       "              subsample=1.0, tol=0.0001, validation_fraction=0.1,\n",
       "              verbose=0, warm_start=False)"
      ]
     },
     "execution_count": 24,
     "metadata": {},
     "output_type": "execute_result"
    }
   ],
   "source": [
    "gdbc=GradientBoostingClassifier(learning_rate=0.1, random_state=42,n_estimators=100)\n",
    "gdbc.fit(X_train, y_train)"
   ]
  },
  {
   "cell_type": "code",
   "execution_count": 25,
   "metadata": {},
   "outputs": [
    {
     "name": "stdout",
     "output_type": "stream",
     "text": [
      "R Square: 0.9701670644391408\n",
      "ROC AUC score: 0.7122447298028982\n",
      "F1 Square: 0.03669724770642202\n",
      "recall: 0.01890359168241966\n",
      "precision: 0.625\n"
     ]
    }
   ],
   "source": [
    "print(\"R Square:\",gdbc.score(X_test, y_test))\n",
    "print(\"ROC AUC score:\",metrics.roc_auc_score(y_test,gdbc.predict_proba(X_test)[:,1]))\n",
    "print(\"F1 Square:\",metrics.f1_score(y_test,gdbc.predict(X_test)))\n",
    "print(\"recall:\",metrics.recall_score(y_test,gdbc.predict(X_test)))\n",
    "print(\"precision:\",metrics.precision_score(y_test,gdbc.predict(X_test)))"
   ]
  },
  {
   "cell_type": "code",
   "execution_count": 26,
   "metadata": {},
   "outputs": [],
   "source": [
    "sc=StandardScaler()\n",
    "X_train_std=sc.fit_transform(X_train)\n",
    "X_test_std=sc.fit_transform(X_test)\n",
    "test_std=sc.fit_transform(test)"
   ]
  },
  {
   "cell_type": "code",
   "execution_count": 27,
   "metadata": {},
   "outputs": [
    {
     "name": "stderr",
     "output_type": "stream",
     "text": [
      "C:\\Users\\Anson\\Anaconda3\\lib\\site-packages\\sklearn\\linear_model\\logistic.py:433: FutureWarning: Default solver will be changed to 'lbfgs' in 0.22. Specify a solver to silence this warning.\n",
      "  FutureWarning)\n",
      "C:\\Users\\Anson\\Anaconda3\\lib\\site-packages\\sklearn\\utils\\validation.py:761: DataConversionWarning: A column-vector y was passed when a 1d array was expected. Please change the shape of y to (n_samples, ), for example using ravel().\n",
      "  y = column_or_1d(y, warn=True)\n"
     ]
    },
    {
     "data": {
      "text/plain": [
       "LogisticRegression(C=1, class_weight=None, dual=False, fit_intercept=True,\n",
       "          intercept_scaling=1, max_iter=100, multi_class='warn',\n",
       "          n_jobs=None, penalty='l1', random_state=42, solver='warn',\n",
       "          tol=0.0001, verbose=0, warm_start=False)"
      ]
     },
     "execution_count": 27,
     "metadata": {},
     "output_type": "execute_result"
    }
   ],
   "source": [
    "lr= LogisticRegression(penalty='l1',C=1, random_state=42)\n",
    "lr.fit(X_train_std, y_train)"
   ]
  },
  {
   "cell_type": "code",
   "execution_count": 28,
   "metadata": {},
   "outputs": [
    {
     "name": "stdout",
     "output_type": "stream",
     "text": [
      "R Square: 0.9699397658824866\n",
      "ROC AUC score: 0.6573506664432509\n",
      "F1 Square: 0.0\n",
      "recall: 0.0\n",
      "precision: 0.0\n"
     ]
    },
    {
     "name": "stderr",
     "output_type": "stream",
     "text": [
      "C:\\Users\\Anson\\Anaconda3\\lib\\site-packages\\sklearn\\metrics\\classification.py:1143: UndefinedMetricWarning: F-score is ill-defined and being set to 0.0 due to no predicted samples.\n",
      "  'precision', 'predicted', average, warn_for)\n",
      "C:\\Users\\Anson\\Anaconda3\\lib\\site-packages\\sklearn\\metrics\\classification.py:1143: UndefinedMetricWarning: Precision is ill-defined and being set to 0.0 due to no predicted samples.\n",
      "  'precision', 'predicted', average, warn_for)\n"
     ]
    }
   ],
   "source": [
    "print(\"R Square:\",lr.score(X_test_std, y_test))\n",
    "print(\"ROC AUC score:\",metrics.roc_auc_score(y_test,lr.predict_proba(X_test_std)[:,1]))\n",
    "print(\"F1 Square:\",metrics.f1_score(y_test,lr.predict(X_test_std)))\n",
    "print(\"recall:\",metrics.recall_score(y_test,lr.predict(X_test_std)))\n",
    "print(\"precision:\",metrics.precision_score(y_test,lr.predict(X_test_std)))"
   ]
  },
  {
   "cell_type": "code",
   "execution_count": null,
   "metadata": {},
   "outputs": [],
   "source": []
  },
  {
   "cell_type": "code",
   "execution_count": 29,
   "metadata": {},
   "outputs": [],
   "source": [
    "lgbc = lgb.LGBMClassifier(learning_rate=0.5,n_estimators=100,max_depth=3,random_state=42)"
   ]
  },
  {
   "cell_type": "code",
   "execution_count": 30,
   "metadata": {},
   "outputs": [
    {
     "name": "stderr",
     "output_type": "stream",
     "text": [
      "C:\\Users\\Anson\\Anaconda3\\lib\\site-packages\\sklearn\\preprocessing\\label.py:219: DataConversionWarning: A column-vector y was passed when a 1d array was expected. Please change the shape of y to (n_samples, ), for example using ravel().\n",
      "  y = column_or_1d(y, warn=True)\n",
      "C:\\Users\\Anson\\Anaconda3\\lib\\site-packages\\sklearn\\preprocessing\\label.py:252: DataConversionWarning: A column-vector y was passed when a 1d array was expected. Please change the shape of y to (n_samples, ), for example using ravel().\n",
      "  y = column_or_1d(y, warn=True)\n"
     ]
    },
    {
     "data": {
      "text/plain": [
       "LGBMClassifier(boosting_type='gbdt', class_weight=None, colsample_bytree=1.0,\n",
       "        learning_rate=0.5, max_depth=3, min_child_samples=20,\n",
       "        min_child_weight=0.001, min_split_gain=0.0, n_estimators=100,\n",
       "        n_jobs=-1, num_leaves=31, objective=None, random_state=42,\n",
       "        reg_alpha=0.0, reg_lambda=0.0, silent=True, subsample=1.0,\n",
       "        subsample_for_bin=200000, subsample_freq=0)"
      ]
     },
     "execution_count": 30,
     "metadata": {},
     "output_type": "execute_result"
    }
   ],
   "source": [
    "lgbc.fit(X_train, y_train) "
   ]
  },
  {
   "cell_type": "code",
   "execution_count": 31,
   "metadata": {},
   "outputs": [
    {
     "name": "stdout",
     "output_type": "stream",
     "text": [
      "R Square: 0.9688032730992158\n",
      "ROC AUC score: 0.6718430509061353\n",
      "F1 Square: 0.11594202898550725\n",
      "recall: 0.06805293005671077\n",
      "precision: 0.391304347826087\n"
     ]
    }
   ],
   "source": [
    "print(\"R Square:\",lgbc.score(X_test, y_test))\n",
    "print(\"ROC AUC score:\",metrics.roc_auc_score(y_test,lgbc.predict_proba(X_test)[:,1]))\n",
    "print(\"F1 Square:\",metrics.f1_score(y_test,lgbc.predict(X_test)))\n",
    "print(\"recall:\",metrics.recall_score(y_test,lgbc.predict(X_test)))\n",
    "print(\"precision:\",metrics.precision_score(y_test,lgbc.predict(X_test)))"
   ]
  },
  {
   "cell_type": "code",
   "execution_count": 32,
   "metadata": {},
   "outputs": [
    {
     "name": "stdout",
     "output_type": "stream",
     "text": [
      "R Square: 0.9688032730992158\n",
      "ROC AUC score: 0.6718430509061353\n",
      "F1 Square: 0.11594202898550725\n",
      "recall: 0.06805293005671077\n",
      "precision: 0.391304347826087\n"
     ]
    }
   ],
   "source": [
    "print(\"R Square:\",lgbc.score(X_test, y_test))\n",
    "print(\"ROC AUC score:\",metrics.roc_auc_score(y_test,lgbc.predict_proba(X_test)[:,1]))\n",
    "print(\"F1 Square:\",metrics.f1_score(y_test,lgbc.predict(X_test)))\n",
    "print(\"recall:\",metrics.recall_score(y_test,lgbc.predict(X_test)))\n",
    "print(\"precision:\",metrics.precision_score(y_test,lgbc.predict(X_test)))"
   ]
  },
  {
   "cell_type": "code",
   "execution_count": 33,
   "metadata": {},
   "outputs": [
    {
     "name": "stdout",
     "output_type": "stream",
     "text": [
      "Fitting 5 folds for each of 2 candidates, totalling 10 fits\n"
     ]
    },
    {
     "name": "stderr",
     "output_type": "stream",
     "text": [
      "[Parallel(n_jobs=1)]: Using backend SequentialBackend with 1 concurrent workers.\n",
      "C:\\Users\\Anson\\Anaconda3\\lib\\site-packages\\sklearn\\preprocessing\\label.py:219: DataConversionWarning: A column-vector y was passed when a 1d array was expected. Please change the shape of y to (n_samples, ), for example using ravel().\n",
      "  y = column_or_1d(y, warn=True)\n",
      "C:\\Users\\Anson\\Anaconda3\\lib\\site-packages\\sklearn\\preprocessing\\label.py:252: DataConversionWarning: A column-vector y was passed when a 1d array was expected. Please change the shape of y to (n_samples, ), for example using ravel().\n",
      "  y = column_or_1d(y, warn=True)\n",
      "C:\\Users\\Anson\\Anaconda3\\lib\\site-packages\\sklearn\\preprocessing\\label.py:252: DataConversionWarning: A column-vector y was passed when a 1d array was expected. Please change the shape of y to (n_samples, ), for example using ravel().\n",
      "  y = column_or_1d(y, warn=True)\n",
      "C:\\Users\\Anson\\Anaconda3\\lib\\site-packages\\sklearn\\preprocessing\\label.py:252: DataConversionWarning: A column-vector y was passed when a 1d array was expected. Please change the shape of y to (n_samples, ), for example using ravel().\n",
      "  y = column_or_1d(y, warn=True)\n"
     ]
    },
    {
     "name": "stdout",
     "output_type": "stream",
     "text": [
      "[1]\tvalid_0's auc: 0.634736\tvalid_1's auc: 0.623975\n",
      "Training until validation scores don't improve for 5 rounds.\n",
      "[2]\tvalid_0's auc: 0.65696\tvalid_1's auc: 0.649833\n",
      "[3]\tvalid_0's auc: 0.680848\tvalid_1's auc: 0.676889\n",
      "[4]\tvalid_0's auc: 0.683792\tvalid_1's auc: 0.676476\n",
      "[5]\tvalid_0's auc: 0.695843\tvalid_1's auc: 0.67784\n",
      "[6]\tvalid_0's auc: 0.701626\tvalid_1's auc: 0.683577\n",
      "[7]\tvalid_0's auc: 0.717848\tvalid_1's auc: 0.699572\n",
      "[8]\tvalid_0's auc: 0.723519\tvalid_1's auc: 0.70134\n",
      "[9]\tvalid_0's auc: 0.727258\tvalid_1's auc: 0.703115\n",
      "[10]\tvalid_0's auc: 0.730696\tvalid_1's auc: 0.704698\n",
      "[11]\tvalid_0's auc: 0.734194\tvalid_1's auc: 0.703999\n",
      "[12]\tvalid_0's auc: 0.736675\tvalid_1's auc: 0.698118\n",
      "[13]\tvalid_0's auc: 0.737929\tvalid_1's auc: 0.699243\n",
      "[14]\tvalid_0's auc: 0.739993\tvalid_1's auc: 0.696745\n",
      "[15]\tvalid_0's auc: 0.74067\tvalid_1's auc: 0.696591\n",
      "Early stopping, best iteration is:\n",
      "[10]\tvalid_0's auc: 0.730696\tvalid_1's auc: 0.704698\n"
     ]
    },
    {
     "name": "stderr",
     "output_type": "stream",
     "text": [
      "C:\\Users\\Anson\\Anaconda3\\lib\\site-packages\\sklearn\\preprocessing\\label.py:219: DataConversionWarning: A column-vector y was passed when a 1d array was expected. Please change the shape of y to (n_samples, ), for example using ravel().\n",
      "  y = column_or_1d(y, warn=True)\n",
      "C:\\Users\\Anson\\Anaconda3\\lib\\site-packages\\sklearn\\preprocessing\\label.py:252: DataConversionWarning: A column-vector y was passed when a 1d array was expected. Please change the shape of y to (n_samples, ), for example using ravel().\n",
      "  y = column_or_1d(y, warn=True)\n"
     ]
    },
    {
     "name": "stdout",
     "output_type": "stream",
     "text": [
      "[1]\tvalid_0's auc: 0.632733\tvalid_1's auc: 0.61913\n",
      "Training until validation scores don't improve for 5 rounds.\n",
      "[2]\tvalid_0's auc: 0.646146\tvalid_1's auc: 0.626022\n",
      "[3]\tvalid_0's auc: 0.685123\tvalid_1's auc: 0.675165\n",
      "[4]\tvalid_0's auc: 0.697147\tvalid_1's auc: 0.687367\n",
      "[5]\tvalid_0's auc: 0.711145\tvalid_1's auc: 0.686647\n",
      "[6]\tvalid_0's auc: 0.718173\tvalid_1's auc: 0.691159\n",
      "[7]\tvalid_0's auc: 0.72097\tvalid_1's auc: 0.685817\n",
      "[8]\tvalid_0's auc: 0.724032\tvalid_1's auc: 0.683618\n",
      "[9]\tvalid_0's auc: 0.72622\tvalid_1's auc: 0.682649\n",
      "[10]\tvalid_0's auc: 0.729212\tvalid_1's auc: 0.682044\n",
      "[11]\tvalid_0's auc: 0.731754\tvalid_1's auc: 0.682002\n",
      "Early stopping, best iteration is:\n",
      "[6]\tvalid_0's auc: 0.718173\tvalid_1's auc: 0.691159\n"
     ]
    },
    {
     "name": "stderr",
     "output_type": "stream",
     "text": [
      "C:\\Users\\Anson\\Anaconda3\\lib\\site-packages\\sklearn\\preprocessing\\label.py:219: DataConversionWarning: A column-vector y was passed when a 1d array was expected. Please change the shape of y to (n_samples, ), for example using ravel().\n",
      "  y = column_or_1d(y, warn=True)\n",
      "C:\\Users\\Anson\\Anaconda3\\lib\\site-packages\\sklearn\\preprocessing\\label.py:252: DataConversionWarning: A column-vector y was passed when a 1d array was expected. Please change the shape of y to (n_samples, ), for example using ravel().\n",
      "  y = column_or_1d(y, warn=True)\n"
     ]
    },
    {
     "name": "stdout",
     "output_type": "stream",
     "text": [
      "[1]\tvalid_0's auc: 0.636938\tvalid_1's auc: 0.620123\n",
      "Training until validation scores don't improve for 5 rounds.\n",
      "[2]\tvalid_0's auc: 0.66292\tvalid_1's auc: 0.654974\n",
      "[3]\tvalid_0's auc: 0.674269\tvalid_1's auc: 0.662256\n",
      "[4]\tvalid_0's auc: 0.696407\tvalid_1's auc: 0.667532\n",
      "[5]\tvalid_0's auc: 0.704622\tvalid_1's auc: 0.681291\n",
      "[6]\tvalid_0's auc: 0.711223\tvalid_1's auc: 0.680467\n",
      "[7]\tvalid_0's auc: 0.721569\tvalid_1's auc: 0.692229\n",
      "[8]\tvalid_0's auc: 0.724851\tvalid_1's auc: 0.689365\n",
      "[9]\tvalid_0's auc: 0.728189\tvalid_1's auc: 0.68981\n",
      "[10]\tvalid_0's auc: 0.731191\tvalid_1's auc: 0.685149\n",
      "[11]\tvalid_0's auc: 0.73443\tvalid_1's auc: 0.68327\n",
      "[12]\tvalid_0's auc: 0.739561\tvalid_1's auc: 0.68471\n",
      "Early stopping, best iteration is:\n",
      "[7]\tvalid_0's auc: 0.721569\tvalid_1's auc: 0.692229\n"
     ]
    },
    {
     "name": "stderr",
     "output_type": "stream",
     "text": [
      "C:\\Users\\Anson\\Anaconda3\\lib\\site-packages\\sklearn\\preprocessing\\label.py:219: DataConversionWarning: A column-vector y was passed when a 1d array was expected. Please change the shape of y to (n_samples, ), for example using ravel().\n",
      "  y = column_or_1d(y, warn=True)\n",
      "C:\\Users\\Anson\\Anaconda3\\lib\\site-packages\\sklearn\\preprocessing\\label.py:252: DataConversionWarning: A column-vector y was passed when a 1d array was expected. Please change the shape of y to (n_samples, ), for example using ravel().\n",
      "  y = column_or_1d(y, warn=True)\n"
     ]
    },
    {
     "name": "stdout",
     "output_type": "stream",
     "text": [
      "[1]\tvalid_0's auc: 0.621108\tvalid_1's auc: 0.610778\n",
      "Training until validation scores don't improve for 5 rounds.\n",
      "[2]\tvalid_0's auc: 0.639192\tvalid_1's auc: 0.619147\n",
      "[3]\tvalid_0's auc: 0.658544\tvalid_1's auc: 0.630923\n",
      "[4]\tvalid_0's auc: 0.680416\tvalid_1's auc: 0.63858\n",
      "[5]\tvalid_0's auc: 0.706879\tvalid_1's auc: 0.679182\n",
      "[6]\tvalid_0's auc: 0.713582\tvalid_1's auc: 0.681551\n",
      "[7]\tvalid_0's auc: 0.718918\tvalid_1's auc: 0.683741\n",
      "[8]\tvalid_0's auc: 0.72372\tvalid_1's auc: 0.69035\n",
      "[9]\tvalid_0's auc: 0.730816\tvalid_1's auc: 0.693571\n",
      "[10]\tvalid_0's auc: 0.732836\tvalid_1's auc: 0.693495\n",
      "[11]\tvalid_0's auc: 0.736859\tvalid_1's auc: 0.694225\n",
      "[12]\tvalid_0's auc: 0.739396\tvalid_1's auc: 0.693237\n",
      "[13]\tvalid_0's auc: 0.740791\tvalid_1's auc: 0.694577\n",
      "[14]\tvalid_0's auc: 0.741411\tvalid_1's auc: 0.693749\n",
      "[15]\tvalid_0's auc: 0.742701\tvalid_1's auc: 0.691589\n",
      "[16]\tvalid_0's auc: 0.746097\tvalid_1's auc: 0.689849\n",
      "[17]\tvalid_0's auc: 0.749058\tvalid_1's auc: 0.691992\n",
      "[18]\tvalid_0's auc: 0.751824\tvalid_1's auc: 0.691674\n",
      "Early stopping, best iteration is:\n",
      "[13]\tvalid_0's auc: 0.740791\tvalid_1's auc: 0.694577\n"
     ]
    },
    {
     "name": "stderr",
     "output_type": "stream",
     "text": [
      "C:\\Users\\Anson\\Anaconda3\\lib\\site-packages\\sklearn\\preprocessing\\label.py:219: DataConversionWarning: A column-vector y was passed when a 1d array was expected. Please change the shape of y to (n_samples, ), for example using ravel().\n",
      "  y = column_or_1d(y, warn=True)\n",
      "C:\\Users\\Anson\\Anaconda3\\lib\\site-packages\\sklearn\\preprocessing\\label.py:252: DataConversionWarning: A column-vector y was passed when a 1d array was expected. Please change the shape of y to (n_samples, ), for example using ravel().\n",
      "  y = column_or_1d(y, warn=True)\n"
     ]
    },
    {
     "name": "stdout",
     "output_type": "stream",
     "text": [
      "[1]\tvalid_0's auc: 0.636484\tvalid_1's auc: 0.616218\n",
      "Training until validation scores don't improve for 5 rounds.\n",
      "[2]\tvalid_0's auc: 0.669121\tvalid_1's auc: 0.653783\n",
      "[3]\tvalid_0's auc: 0.688278\tvalid_1's auc: 0.676875\n",
      "[4]\tvalid_0's auc: 0.696189\tvalid_1's auc: 0.687478\n",
      "[5]\tvalid_0's auc: 0.705989\tvalid_1's auc: 0.687508\n",
      "[6]\tvalid_0's auc: 0.712919\tvalid_1's auc: 0.692959\n",
      "[7]\tvalid_0's auc: 0.716397\tvalid_1's auc: 0.695697\n",
      "[8]\tvalid_0's auc: 0.719687\tvalid_1's auc: 0.692258\n",
      "[9]\tvalid_0's auc: 0.724008\tvalid_1's auc: 0.692309\n",
      "[10]\tvalid_0's auc: 0.727814\tvalid_1's auc: 0.693449\n",
      "[11]\tvalid_0's auc: 0.729602\tvalid_1's auc: 0.694301\n",
      "[12]\tvalid_0's auc: 0.732931\tvalid_1's auc: 0.692772\n",
      "Early stopping, best iteration is:\n",
      "[7]\tvalid_0's auc: 0.716397\tvalid_1's auc: 0.695697\n"
     ]
    },
    {
     "name": "stderr",
     "output_type": "stream",
     "text": [
      "C:\\Users\\Anson\\Anaconda3\\lib\\site-packages\\sklearn\\preprocessing\\label.py:219: DataConversionWarning: A column-vector y was passed when a 1d array was expected. Please change the shape of y to (n_samples, ), for example using ravel().\n",
      "  y = column_or_1d(y, warn=True)\n",
      "C:\\Users\\Anson\\Anaconda3\\lib\\site-packages\\sklearn\\preprocessing\\label.py:252: DataConversionWarning: A column-vector y was passed when a 1d array was expected. Please change the shape of y to (n_samples, ), for example using ravel().\n",
      "  y = column_or_1d(y, warn=True)\n"
     ]
    },
    {
     "name": "stdout",
     "output_type": "stream",
     "text": [
      "[1]\tvalid_0's auc: 0.634736\tvalid_1's auc: 0.623975\n",
      "Training until validation scores don't improve for 5 rounds.\n",
      "[2]\tvalid_0's auc: 0.65696\tvalid_1's auc: 0.649833\n",
      "[3]\tvalid_0's auc: 0.680848\tvalid_1's auc: 0.676889\n",
      "[4]\tvalid_0's auc: 0.683792\tvalid_1's auc: 0.676476\n",
      "[5]\tvalid_0's auc: 0.695843\tvalid_1's auc: 0.67784\n",
      "[6]\tvalid_0's auc: 0.701626\tvalid_1's auc: 0.683577\n",
      "[7]\tvalid_0's auc: 0.717848\tvalid_1's auc: 0.699572\n",
      "[8]\tvalid_0's auc: 0.723519\tvalid_1's auc: 0.70134\n",
      "[9]\tvalid_0's auc: 0.727258\tvalid_1's auc: 0.703115\n",
      "[10]\tvalid_0's auc: 0.730696\tvalid_1's auc: 0.704698\n",
      "[11]\tvalid_0's auc: 0.734194\tvalid_1's auc: 0.703999\n",
      "[12]\tvalid_0's auc: 0.736675\tvalid_1's auc: 0.698118\n",
      "[13]\tvalid_0's auc: 0.737929\tvalid_1's auc: 0.699243\n",
      "[14]\tvalid_0's auc: 0.739993\tvalid_1's auc: 0.696745\n",
      "[15]\tvalid_0's auc: 0.74067\tvalid_1's auc: 0.696591\n",
      "Early stopping, best iteration is:\n",
      "[10]\tvalid_0's auc: 0.730696\tvalid_1's auc: 0.704698\n"
     ]
    },
    {
     "name": "stderr",
     "output_type": "stream",
     "text": [
      "C:\\Users\\Anson\\Anaconda3\\lib\\site-packages\\sklearn\\preprocessing\\label.py:219: DataConversionWarning: A column-vector y was passed when a 1d array was expected. Please change the shape of y to (n_samples, ), for example using ravel().\n",
      "  y = column_or_1d(y, warn=True)\n",
      "C:\\Users\\Anson\\Anaconda3\\lib\\site-packages\\sklearn\\preprocessing\\label.py:252: DataConversionWarning: A column-vector y was passed when a 1d array was expected. Please change the shape of y to (n_samples, ), for example using ravel().\n",
      "  y = column_or_1d(y, warn=True)\n"
     ]
    },
    {
     "name": "stdout",
     "output_type": "stream",
     "text": [
      "[1]\tvalid_0's auc: 0.632733\tvalid_1's auc: 0.61913\n",
      "Training until validation scores don't improve for 5 rounds.\n",
      "[2]\tvalid_0's auc: 0.646146\tvalid_1's auc: 0.626022\n",
      "[3]\tvalid_0's auc: 0.685123\tvalid_1's auc: 0.675165\n",
      "[4]\tvalid_0's auc: 0.697147\tvalid_1's auc: 0.687367\n",
      "[5]\tvalid_0's auc: 0.711145\tvalid_1's auc: 0.686647\n",
      "[6]\tvalid_0's auc: 0.718173\tvalid_1's auc: 0.691159\n",
      "[7]\tvalid_0's auc: 0.72097\tvalid_1's auc: 0.685817\n",
      "[8]\tvalid_0's auc: 0.724032\tvalid_1's auc: 0.683618\n",
      "[9]\tvalid_0's auc: 0.72622\tvalid_1's auc: 0.682649\n",
      "[10]\tvalid_0's auc: 0.729212\tvalid_1's auc: 0.682044\n",
      "[11]\tvalid_0's auc: 0.731754\tvalid_1's auc: 0.682002\n",
      "Early stopping, best iteration is:\n",
      "[6]\tvalid_0's auc: 0.718173\tvalid_1's auc: 0.691159\n"
     ]
    },
    {
     "name": "stderr",
     "output_type": "stream",
     "text": [
      "C:\\Users\\Anson\\Anaconda3\\lib\\site-packages\\sklearn\\preprocessing\\label.py:219: DataConversionWarning: A column-vector y was passed when a 1d array was expected. Please change the shape of y to (n_samples, ), for example using ravel().\n",
      "  y = column_or_1d(y, warn=True)\n",
      "C:\\Users\\Anson\\Anaconda3\\lib\\site-packages\\sklearn\\preprocessing\\label.py:252: DataConversionWarning: A column-vector y was passed when a 1d array was expected. Please change the shape of y to (n_samples, ), for example using ravel().\n",
      "  y = column_or_1d(y, warn=True)\n"
     ]
    },
    {
     "name": "stdout",
     "output_type": "stream",
     "text": [
      "[1]\tvalid_0's auc: 0.636938\tvalid_1's auc: 0.620123\n",
      "Training until validation scores don't improve for 5 rounds.\n",
      "[2]\tvalid_0's auc: 0.66292\tvalid_1's auc: 0.654974\n",
      "[3]\tvalid_0's auc: 0.674269\tvalid_1's auc: 0.662256\n",
      "[4]\tvalid_0's auc: 0.696407\tvalid_1's auc: 0.667532\n",
      "[5]\tvalid_0's auc: 0.704622\tvalid_1's auc: 0.681291\n",
      "[6]\tvalid_0's auc: 0.711223\tvalid_1's auc: 0.680467\n",
      "[7]\tvalid_0's auc: 0.721569\tvalid_1's auc: 0.692229\n",
      "[8]\tvalid_0's auc: 0.724851\tvalid_1's auc: 0.689365\n",
      "[9]\tvalid_0's auc: 0.728189\tvalid_1's auc: 0.68981\n",
      "[10]\tvalid_0's auc: 0.731191\tvalid_1's auc: 0.685149\n",
      "[11]\tvalid_0's auc: 0.73443\tvalid_1's auc: 0.68327\n",
      "[12]\tvalid_0's auc: 0.739561\tvalid_1's auc: 0.68471\n",
      "Early stopping, best iteration is:\n",
      "[7]\tvalid_0's auc: 0.721569\tvalid_1's auc: 0.692229\n"
     ]
    },
    {
     "name": "stderr",
     "output_type": "stream",
     "text": [
      "C:\\Users\\Anson\\Anaconda3\\lib\\site-packages\\sklearn\\preprocessing\\label.py:219: DataConversionWarning: A column-vector y was passed when a 1d array was expected. Please change the shape of y to (n_samples, ), for example using ravel().\n",
      "  y = column_or_1d(y, warn=True)\n",
      "C:\\Users\\Anson\\Anaconda3\\lib\\site-packages\\sklearn\\preprocessing\\label.py:252: DataConversionWarning: A column-vector y was passed when a 1d array was expected. Please change the shape of y to (n_samples, ), for example using ravel().\n",
      "  y = column_or_1d(y, warn=True)\n"
     ]
    },
    {
     "name": "stdout",
     "output_type": "stream",
     "text": [
      "[1]\tvalid_0's auc: 0.621108\tvalid_1's auc: 0.610778\n",
      "Training until validation scores don't improve for 5 rounds.\n",
      "[2]\tvalid_0's auc: 0.639192\tvalid_1's auc: 0.619147\n",
      "[3]\tvalid_0's auc: 0.658544\tvalid_1's auc: 0.630923\n",
      "[4]\tvalid_0's auc: 0.680416\tvalid_1's auc: 0.63858\n",
      "[5]\tvalid_0's auc: 0.706879\tvalid_1's auc: 0.679182\n",
      "[6]\tvalid_0's auc: 0.713582\tvalid_1's auc: 0.681551\n",
      "[7]\tvalid_0's auc: 0.718918\tvalid_1's auc: 0.683741\n",
      "[8]\tvalid_0's auc: 0.72372\tvalid_1's auc: 0.69035\n",
      "[9]\tvalid_0's auc: 0.730816\tvalid_1's auc: 0.693571\n",
      "[10]\tvalid_0's auc: 0.732836\tvalid_1's auc: 0.693495\n",
      "[11]\tvalid_0's auc: 0.736859\tvalid_1's auc: 0.694225\n",
      "[12]\tvalid_0's auc: 0.739396\tvalid_1's auc: 0.693237\n",
      "[13]\tvalid_0's auc: 0.740791\tvalid_1's auc: 0.694577\n",
      "[14]\tvalid_0's auc: 0.741411\tvalid_1's auc: 0.693749\n",
      "[15]\tvalid_0's auc: 0.742701\tvalid_1's auc: 0.691589\n",
      "[16]\tvalid_0's auc: 0.746097\tvalid_1's auc: 0.689849\n",
      "[17]\tvalid_0's auc: 0.749058\tvalid_1's auc: 0.691992\n",
      "[18]\tvalid_0's auc: 0.751824\tvalid_1's auc: 0.691674\n",
      "Early stopping, best iteration is:\n",
      "[13]\tvalid_0's auc: 0.740791\tvalid_1's auc: 0.694577\n"
     ]
    },
    {
     "name": "stderr",
     "output_type": "stream",
     "text": [
      "C:\\Users\\Anson\\Anaconda3\\lib\\site-packages\\sklearn\\preprocessing\\label.py:219: DataConversionWarning: A column-vector y was passed when a 1d array was expected. Please change the shape of y to (n_samples, ), for example using ravel().\n",
      "  y = column_or_1d(y, warn=True)\n",
      "C:\\Users\\Anson\\Anaconda3\\lib\\site-packages\\sklearn\\preprocessing\\label.py:252: DataConversionWarning: A column-vector y was passed when a 1d array was expected. Please change the shape of y to (n_samples, ), for example using ravel().\n",
      "  y = column_or_1d(y, warn=True)\n"
     ]
    },
    {
     "name": "stdout",
     "output_type": "stream",
     "text": [
      "[1]\tvalid_0's auc: 0.636484\tvalid_1's auc: 0.616218\n",
      "Training until validation scores don't improve for 5 rounds.\n",
      "[2]\tvalid_0's auc: 0.669121\tvalid_1's auc: 0.653783\n",
      "[3]\tvalid_0's auc: 0.688278\tvalid_1's auc: 0.676875\n",
      "[4]\tvalid_0's auc: 0.696189\tvalid_1's auc: 0.687478\n",
      "[5]\tvalid_0's auc: 0.705989\tvalid_1's auc: 0.687508\n",
      "[6]\tvalid_0's auc: 0.712919\tvalid_1's auc: 0.692959\n",
      "[7]\tvalid_0's auc: 0.716397\tvalid_1's auc: 0.695697\n",
      "[8]\tvalid_0's auc: 0.719687\tvalid_1's auc: 0.692258\n",
      "[9]\tvalid_0's auc: 0.724008\tvalid_1's auc: 0.692309\n",
      "[10]\tvalid_0's auc: 0.727814\tvalid_1's auc: 0.693449\n",
      "[11]\tvalid_0's auc: 0.729602\tvalid_1's auc: 0.694301\n",
      "[12]\tvalid_0's auc: 0.732931\tvalid_1's auc: 0.692772\n",
      "Early stopping, best iteration is:\n",
      "[7]\tvalid_0's auc: 0.716397\tvalid_1's auc: 0.695697\n"
     ]
    },
    {
     "name": "stderr",
     "output_type": "stream",
     "text": [
      "[Parallel(n_jobs=1)]: Done  10 out of  10 | elapsed:    5.3s finished\n",
      "C:\\Users\\Anson\\Anaconda3\\lib\\site-packages\\sklearn\\preprocessing\\label.py:219: DataConversionWarning: A column-vector y was passed when a 1d array was expected. Please change the shape of y to (n_samples, ), for example using ravel().\n",
      "  y = column_or_1d(y, warn=True)\n",
      "C:\\Users\\Anson\\Anaconda3\\lib\\site-packages\\sklearn\\preprocessing\\label.py:252: DataConversionWarning: A column-vector y was passed when a 1d array was expected. Please change the shape of y to (n_samples, ), for example using ravel().\n",
      "  y = column_or_1d(y, warn=True)\n"
     ]
    },
    {
     "name": "stdout",
     "output_type": "stream",
     "text": [
      "[1]\tvalid_0's auc: 0.637155\tvalid_1's auc: 0.616953\n",
      "Training until validation scores don't improve for 5 rounds.\n",
      "[2]\tvalid_0's auc: 0.666884\tvalid_1's auc: 0.654634\n",
      "[3]\tvalid_0's auc: 0.692256\tvalid_1's auc: 0.68928\n",
      "[4]\tvalid_0's auc: 0.707249\tvalid_1's auc: 0.69764\n",
      "[5]\tvalid_0's auc: 0.716216\tvalid_1's auc: 0.700217\n",
      "[6]\tvalid_0's auc: 0.719486\tvalid_1's auc: 0.701558\n",
      "[7]\tvalid_0's auc: 0.722343\tvalid_1's auc: 0.700536\n",
      "[8]\tvalid_0's auc: 0.724522\tvalid_1's auc: 0.700407\n",
      "[9]\tvalid_0's auc: 0.72813\tvalid_1's auc: 0.701285\n",
      "[10]\tvalid_0's auc: 0.733984\tvalid_1's auc: 0.697669\n",
      "[11]\tvalid_0's auc: 0.735868\tvalid_1's auc: 0.695902\n",
      "Early stopping, best iteration is:\n",
      "[6]\tvalid_0's auc: 0.719486\tvalid_1's auc: 0.701558\n"
     ]
    },
    {
     "data": {
      "text/plain": [
       "GridSearchCV(cv=KFold(n_splits=5, random_state=42, shuffle=True),\n",
       "       error_score='raise-deprecating',\n",
       "       estimator=LGBMClassifier(boosting_type='gbdt', class_weight=None, colsample_bytree=1.0,\n",
       "        learning_rate=0.5, max_depth=3, min_child_samples=20,\n",
       "        min_child_weight=0.001, min_split_gain=0.0, n_estimators=100,\n",
       "        n_jobs=-1, num_leaves=31, objective=None, random_state=42,\n",
       "        reg_alpha=0.0, reg_lambda=0.0, silent=True, subsample=1.0,\n",
       "        subsample_for_bin=200000, subsample_freq=0),\n",
       "       fit_params=None, iid='warn', n_jobs=None,\n",
       "       param_grid={'learning_rate': [0.5], 'n_estimators': [100, 200], 'scale_pos_weight': [1]},\n",
       "       pre_dispatch='2*n_jobs', refit=True, return_train_score='warn',\n",
       "       scoring='f1', verbose=1)"
      ]
     },
     "execution_count": 33,
     "metadata": {},
     "output_type": "execute_result"
    }
   ],
   "source": [
    "params = {'learning_rate':[0.5],'n_estimators':[100,200],'scale_pos_weight':[1]}\n",
    "gs_lgbc = GridSearchCV(estimator=lgbc, param_grid=params, cv=kf, verbose=1, scoring='f1') \n",
    "eval_set  = [(X_train , y_train) , (X_test , y_test)]\n",
    "gs_lgbc.fit(X_train ,  y_train ,eval_set=eval_set,early_stopping_rounds=5,eval_metric='auc')#eval_metric='auc',"
   ]
  },
  {
   "cell_type": "code",
   "execution_count": 34,
   "metadata": {},
   "outputs": [
    {
     "data": {
      "text/plain": [
       "LGBMClassifier(boosting_type='gbdt', class_weight=None, colsample_bytree=1.0,\n",
       "        learning_rate=0.5, max_depth=3, min_child_samples=20,\n",
       "        min_child_weight=0.001, min_split_gain=0.0, n_estimators=100,\n",
       "        n_jobs=-1, num_leaves=31, objective=None, random_state=42,\n",
       "        reg_alpha=0.0, reg_lambda=0.0, scale_pos_weight=1, silent=True,\n",
       "        subsample=1.0, subsample_for_bin=200000, subsample_freq=0)"
      ]
     },
     "execution_count": 34,
     "metadata": {},
     "output_type": "execute_result"
    }
   ],
   "source": [
    "gs_lgbc.best_estimator_"
   ]
  },
  {
   "cell_type": "code",
   "execution_count": 35,
   "metadata": {},
   "outputs": [
    {
     "name": "stdout",
     "output_type": "stream",
     "text": [
      "R Square: 0.9702238890783044\n",
      "ROC AUC score: 0.7015575943786927\n",
      "F1 Square: 0.054151624548736454\n",
      "recall: 0.02835538752362949\n",
      "precision: 0.6\n"
     ]
    }
   ],
   "source": [
    "print(\"R Square:\",metrics.accuracy_score(y_test, gs_lgbc.predict(X_test)))\n",
    "print(\"ROC AUC score:\",metrics.roc_auc_score(y_test,gs_lgbc.predict_proba(X_test)[:,1]))\n",
    "print(\"F1 Square:\",metrics.f1_score(y_test,gs_lgbc.predict(X_test)))\n",
    "print(\"recall:\",metrics.recall_score(y_test,gs_lgbc.predict(X_test)))\n",
    "print(\"precision:\",metrics.precision_score(y_test,gs_lgbc.predict(X_test)))"
   ]
  },
  {
   "cell_type": "code",
   "execution_count": null,
   "metadata": {},
   "outputs": [],
   "source": []
  },
  {
   "cell_type": "code",
   "execution_count": 36,
   "metadata": {},
   "outputs": [
    {
     "name": "stderr",
     "output_type": "stream",
     "text": [
      "C:\\Users\\Anson\\Anaconda3\\lib\\site-packages\\sklearn\\preprocessing\\label.py:219: DataConversionWarning: A column-vector y was passed when a 1d array was expected. Please change the shape of y to (n_samples, ), for example using ravel().\n",
      "  y = column_or_1d(y, warn=True)\n",
      "C:\\Users\\Anson\\Anaconda3\\lib\\site-packages\\sklearn\\preprocessing\\label.py:252: DataConversionWarning: A column-vector y was passed when a 1d array was expected. Please change the shape of y to (n_samples, ), for example using ravel().\n",
      "  y = column_or_1d(y, warn=True)\n",
      "C:\\Users\\Anson\\Anaconda3\\lib\\site-packages\\sklearn\\preprocessing\\label.py:252: DataConversionWarning: A column-vector y was passed when a 1d array was expected. Please change the shape of y to (n_samples, ), for example using ravel().\n",
      "  y = column_or_1d(y, warn=True)\n",
      "C:\\Users\\Anson\\Anaconda3\\lib\\site-packages\\sklearn\\preprocessing\\label.py:252: DataConversionWarning: A column-vector y was passed when a 1d array was expected. Please change the shape of y to (n_samples, ), for example using ravel().\n",
      "  y = column_or_1d(y, warn=True)\n"
     ]
    },
    {
     "name": "stdout",
     "output_type": "stream",
     "text": [
      "[0]\tvalidation_0-auc:0.659271\tvalidation_1-auc:0.648675\n",
      "Multiple eval metrics have been passed: 'validation_1-auc' will be used for early stopping.\n",
      "\n",
      "Will train until validation_1-auc hasn't improved in 5 rounds.\n",
      "[1]\tvalidation_0-auc:0.714641\tvalidation_1-auc:0.691424\n",
      "[2]\tvalidation_0-auc:0.734041\tvalidation_1-auc:0.695382\n",
      "[3]\tvalidation_0-auc:0.75351\tvalidation_1-auc:0.667086\n",
      "[4]\tvalidation_0-auc:0.771497\tvalidation_1-auc:0.674556\n",
      "[5]\tvalidation_0-auc:0.782883\tvalidation_1-auc:0.669321\n",
      "[6]\tvalidation_0-auc:0.78715\tvalidation_1-auc:0.667025\n",
      "[7]\tvalidation_0-auc:0.792258\tvalidation_1-auc:0.663608\n",
      "Stopping. Best iteration:\n",
      "[2]\tvalidation_0-auc:0.734041\tvalidation_1-auc:0.695382\n",
      "\n"
     ]
    },
    {
     "data": {
      "text/plain": [
       "XGBClassifier(base_score=0.5, booster='gbtree', colsample_bylevel=1,\n",
       "       colsample_bytree=1, gamma=0, learning_rate=1, max_delta_step=0,\n",
       "       max_depth=5, min_child_weight=1, missing=None, n_estimators=100,\n",
       "       n_jobs=1, nthread=None, objective='binary:logistic',\n",
       "       random_state=42, reg_alpha=0, reg_lambda=1, scale_pos_weight=1,\n",
       "       seed=None, silent=True, subsample=1, tree_method='gpu_hist')"
      ]
     },
     "execution_count": 36,
     "metadata": {},
     "output_type": "execute_result"
    }
   ],
   "source": [
    "xgbc = xgb.XGBClassifier(learning_rate=1, n_estimators=100,random_state=42, max_depth=5,tree_method='gpu_hist')\n",
    "eval_set  = [(X_train , y_train) , (X_test , y_test)]\n",
    "xgbc.fit(X_train ,  y_train ,eval_set=eval_set,early_stopping_rounds=5,eval_metric='auc')#eval_metric='auc',"
   ]
  },
  {
   "cell_type": "code",
   "execution_count": 37,
   "metadata": {},
   "outputs": [
    {
     "name": "stdout",
     "output_type": "stream",
     "text": [
      "R Square: 0.9705648369132857\n",
      "ROC AUC score: 0.6953821700667624\n",
      "F1 Square: 0.08156028368794327\n",
      "recall: 0.043478260869565216\n",
      "precision: 0.6571428571428571\n"
     ]
    }
   ],
   "source": [
    "print(\"R Square:\",metrics.accuracy_score(y_test, xgbc.predict(X_test)))\n",
    "print(\"ROC AUC score:\",metrics.roc_auc_score(y_test,xgbc.predict_proba(X_test)[:,1]))\n",
    "print(\"F1 Square:\",metrics.f1_score(y_test,xgbc.predict(X_test)))\n",
    "print(\"recall:\",metrics.recall_score(y_test,xgbc.predict(X_test)))\n",
    "print(\"precision:\",metrics.precision_score(y_test,xgbc.predict(X_test)))"
   ]
  },
  {
   "cell_type": "code",
   "execution_count": 38,
   "metadata": {},
   "outputs": [
    {
     "name": "stdout",
     "output_type": "stream",
     "text": [
      "Fitting 5 folds for each of 4 candidates, totalling 20 fits\n"
     ]
    },
    {
     "name": "stderr",
     "output_type": "stream",
     "text": [
      "[Parallel(n_jobs=-1)]: Using backend LokyBackend with 12 concurrent workers.\n",
      "[Parallel(n_jobs=-1)]: Done  18 out of  20 | elapsed:    9.1s remaining:    0.9s\n",
      "[Parallel(n_jobs=-1)]: Done  20 out of  20 | elapsed:    9.3s finished\n",
      "C:\\Users\\Anson\\Anaconda3\\lib\\site-packages\\sklearn\\preprocessing\\label.py:219: DataConversionWarning: A column-vector y was passed when a 1d array was expected. Please change the shape of y to (n_samples, ), for example using ravel().\n",
      "  y = column_or_1d(y, warn=True)\n",
      "C:\\Users\\Anson\\Anaconda3\\lib\\site-packages\\sklearn\\preprocessing\\label.py:252: DataConversionWarning: A column-vector y was passed when a 1d array was expected. Please change the shape of y to (n_samples, ), for example using ravel().\n",
      "  y = column_or_1d(y, warn=True)\n",
      "C:\\Users\\Anson\\Anaconda3\\lib\\site-packages\\sklearn\\preprocessing\\label.py:252: DataConversionWarning: A column-vector y was passed when a 1d array was expected. Please change the shape of y to (n_samples, ), for example using ravel().\n",
      "  y = column_or_1d(y, warn=True)\n",
      "C:\\Users\\Anson\\Anaconda3\\lib\\site-packages\\sklearn\\preprocessing\\label.py:252: DataConversionWarning: A column-vector y was passed when a 1d array was expected. Please change the shape of y to (n_samples, ), for example using ravel().\n",
      "  y = column_or_1d(y, warn=True)\n"
     ]
    },
    {
     "name": "stdout",
     "output_type": "stream",
     "text": [
      "[0]\tvalidation_0-auc:0.659271\tvalidation_1-auc:0.648675\n",
      "Multiple eval metrics have been passed: 'validation_1-auc' will be used for early stopping.\n",
      "\n",
      "Will train until validation_1-auc hasn't improved in 5 rounds.\n",
      "[1]\tvalidation_0-auc:0.714641\tvalidation_1-auc:0.691424\n",
      "[2]\tvalidation_0-auc:0.734041\tvalidation_1-auc:0.695382\n",
      "[3]\tvalidation_0-auc:0.75351\tvalidation_1-auc:0.667086\n",
      "[4]\tvalidation_0-auc:0.771497\tvalidation_1-auc:0.674556\n",
      "[5]\tvalidation_0-auc:0.782883\tvalidation_1-auc:0.669321\n",
      "[6]\tvalidation_0-auc:0.78715\tvalidation_1-auc:0.667025\n",
      "[7]\tvalidation_0-auc:0.792258\tvalidation_1-auc:0.663608\n",
      "Stopping. Best iteration:\n",
      "[2]\tvalidation_0-auc:0.734041\tvalidation_1-auc:0.695382\n",
      "\n"
     ]
    },
    {
     "data": {
      "text/plain": [
       "GridSearchCV(cv=KFold(n_splits=5, random_state=42, shuffle=True),\n",
       "       error_score='raise-deprecating',\n",
       "       estimator=XGBClassifier(base_score=0.5, booster='gbtree', colsample_bylevel=1,\n",
       "       colsample_bytree=1, gamma=0, learning_rate=1, max_delta_step=0,\n",
       "       max_depth=5, min_child_weight=1, missing=None, n_estimators=100,\n",
       "       n_jobs=1, nthread=None, objective='binary:logistic',\n",
       "       random_state=42, reg_alpha=0, reg_lambda=1, scale_pos_weight=1,\n",
       "       seed=None, silent=True, subsample=1, tree_method='gpu_hist'),\n",
       "       fit_params=None, iid='warn', n_jobs=-1,\n",
       "       param_grid={'learning_rate': [0.5, 1], 'n_estimators': [100, 200], 'scale_pos_weight': [1]},\n",
       "       pre_dispatch='2*n_jobs', refit=True, return_train_score='warn',\n",
       "       scoring='f1', verbose=1)"
      ]
     },
     "execution_count": 38,
     "metadata": {},
     "output_type": "execute_result"
    }
   ],
   "source": [
    "params = {'learning_rate':[0.5,1],'n_estimators':[100,200],'scale_pos_weight':[1]}\n",
    "gs_xgbc = GridSearchCV(estimator=xgbc, param_grid=params, cv=kf,n_jobs=-1,verbose=1, scoring='f1') \n",
    "eval_set  = [(X_train , y_train) , (X_test , y_test)]\n",
    "gs_xgbc.fit(X_train ,  y_train ,eval_set=eval_set,early_stopping_rounds=5,eval_metric='auc')#eval_metric='auc',"
   ]
  },
  {
   "cell_type": "code",
   "execution_count": 39,
   "metadata": {},
   "outputs": [
    {
     "data": {
      "text/plain": [
       "XGBClassifier(base_score=0.5, booster='gbtree', colsample_bylevel=1,\n",
       "       colsample_bytree=1, gamma=0, learning_rate=1, max_delta_step=0,\n",
       "       max_depth=5, min_child_weight=1, missing=None, n_estimators=100,\n",
       "       n_jobs=1, nthread=None, objective='binary:logistic',\n",
       "       random_state=42, reg_alpha=0, reg_lambda=1, scale_pos_weight=1,\n",
       "       seed=None, silent=True, subsample=1, tree_method='gpu_hist')"
      ]
     },
     "execution_count": 39,
     "metadata": {},
     "output_type": "execute_result"
    }
   ],
   "source": [
    "gs_xgbc.best_estimator_"
   ]
  },
  {
   "cell_type": "code",
   "execution_count": 40,
   "metadata": {
    "scrolled": true
   },
   "outputs": [
    {
     "name": "stdout",
     "output_type": "stream",
     "text": [
      "R Square: 0.9705648369132857\n",
      "ROC AUC score: 0.6953821700667624\n",
      "F1 Square: 0.08156028368794327\n",
      "recall: 0.043478260869565216\n",
      "precision: 0.6571428571428571\n"
     ]
    }
   ],
   "source": [
    "print(\"R Square:\",metrics.accuracy_score(y_test, gs_xgbc.predict(X_test)))\n",
    "print(\"ROC AUC score:\",metrics.roc_auc_score(y_test,gs_xgbc.predict_proba(X_test)[:,1]))\n",
    "print(\"F1 Square:\",metrics.f1_score(y_test,gs_xgbc.predict(X_test)))\n",
    "print(\"recall:\",metrics.recall_score(y_test,gs_xgbc.predict(X_test)))\n",
    "print(\"precision:\",metrics.precision_score(y_test,gs_xgbc.predict(X_test)))"
   ]
  },
  {
   "cell_type": "code",
   "execution_count": 41,
   "metadata": {},
   "outputs": [
    {
     "data": {
      "image/png": "[encoded data removed]",
      "text/plain": [
       "<Figure size 432x288 with 1 Axes>"
      ]
     },
     "metadata": {},
     "output_type": "display_data"
    }
   ],
   "source": [
    "from xgboost import plot_importance\n",
    "plot_importance(xgbc,max_num_features=20)\n",
    "plt.show()"
   ]
  },
  {
   "cell_type": "code",
   "execution_count": 42,
   "metadata": {},
   "outputs": [
    {
     "name": "stderr",
     "output_type": "stream",
     "text": [
      "C:\\Users\\Anson\\Anaconda3\\lib\\site-packages\\sklearn\\model_selection\\_validation.py:528: DataConversionWarning: A column-vector y was passed when a 1d array was expected. Please change the shape of y to (n_samples,), for example using ravel().\n",
      "  estimator.fit(X_train, y_train, **fit_params)\n",
      "C:\\Users\\Anson\\Anaconda3\\lib\\site-packages\\sklearn\\model_selection\\_validation.py:528: DataConversionWarning: A column-vector y was passed when a 1d array was expected. Please change the shape of y to (n_samples,), for example using ravel().\n",
      "  estimator.fit(X_train, y_train, **fit_params)\n",
      "C:\\Users\\Anson\\Anaconda3\\lib\\site-packages\\sklearn\\model_selection\\_validation.py:528: DataConversionWarning: A column-vector y was passed when a 1d array was expected. Please change the shape of y to (n_samples,), for example using ravel().\n",
      "  estimator.fit(X_train, y_train, **fit_params)\n",
      "C:\\Users\\Anson\\Anaconda3\\lib\\site-packages\\sklearn\\model_selection\\_search.py:740: DataConversionWarning: A column-vector y was passed when a 1d array was expected. Please change the shape of y to (n_samples,), for example using ravel().\n",
      "  self.best_estimator_.fit(X, y, **fit_params)\n"
     ]
    },
    {
     "data": {
      "text/plain": [
       "GridSearchCV(cv=3, error_score='raise-deprecating',\n",
       "       estimator=RandomForestClassifier(bootstrap=True, class_weight=None, criterion='gini',\n",
       "            max_depth=None, max_features='auto', max_leaf_nodes=None,\n",
       "            min_impurity_decrease=0.0, min_impurity_split=None,\n",
       "            min_samples_leaf=1, min_samples_split=2,\n",
       "            min_weight_fraction_leaf=0.0, n_estimators=100, n_jobs=None,\n",
       "            oob_score=False, random_state=None, verbose=0,\n",
       "            warm_start=False),\n",
       "       fit_params=None, iid='warn', n_jobs=None,\n",
       "       param_grid={'class_weight': [{0: 1, 1: 1}]},\n",
       "       pre_dispatch='2*n_jobs', refit=True, return_train_score='warn',\n",
       "       scoring='f1', verbose=0)"
      ]
     },
     "execution_count": 42,
     "metadata": {},
     "output_type": "execute_result"
    }
   ],
   "source": [
    "clf = RandomForestClassifier(n_estimators=100)\n",
    "params = {'class_weight':[{0:1, 1:pos_weight} for pos_weight in np.arange(1, 2,1)]}\n",
    "gs_rfx = GridSearchCV(estimator=clf, param_grid=params, cv=3, scoring='f1') \n",
    "gs_rfx.fit(X_train, y_train)"
   ]
  },
  {
   "cell_type": "code",
   "execution_count": 43,
   "metadata": {},
   "outputs": [
    {
     "data": {
      "text/plain": [
       "RandomForestClassifier(bootstrap=True, class_weight={0: 1, 1: 1},\n",
       "            criterion='gini', max_depth=None, max_features='auto',\n",
       "            max_leaf_nodes=None, min_impurity_decrease=0.0,\n",
       "            min_impurity_split=None, min_samples_leaf=1,\n",
       "            min_samples_split=2, min_weight_fraction_leaf=0.0,\n",
       "            n_estimators=100, n_jobs=None, oob_score=False,\n",
       "            random_state=None, verbose=0, warm_start=False)"
      ]
     },
     "execution_count": 43,
     "metadata": {},
     "output_type": "execute_result"
    }
   ],
   "source": [
    "gs_rfx.best_estimator_"
   ]
  },
  {
   "cell_type": "code",
   "execution_count": 44,
   "metadata": {},
   "outputs": [
    {
     "name": "stdout",
     "output_type": "stream",
     "text": [
      "R Square: 0.9708489601091033\n",
      "ROC AUC score: 0.6613867698779811\n",
      "F1 Square: 0.08228980322003578\n",
      "recall: 0.043478260869565216\n",
      "precision: 0.7666666666666667\n"
     ]
    }
   ],
   "source": [
    "print(\"R Square:\",metrics.accuracy_score(y_test, gs_rfx.best_estimator_.predict(X_test)))\n",
    "print(\"ROC AUC score:\",metrics.roc_auc_score(y_test,gs_rfx.best_estimator_.predict_proba(X_test)[:,1]))\n",
    "print(\"F1 Square:\",metrics.f1_score(y_test,gs_rfx.best_estimator_.predict(X_test)))\n",
    "print(\"recall:\",metrics.recall_score(y_test,gs_rfx.best_estimator_.predict(X_test)))\n",
    "print(\"precision:\",metrics.precision_score(y_test,gs_rfx.best_estimator_.predict(X_test)))"
   ]
  },
  {
   "cell_type": "code",
   "execution_count": null,
   "metadata": {},
   "outputs": [],
   "source": []
  },
  {
   "cell_type": "code",
   "execution_count": 45,
   "metadata": {},
   "outputs": [],
   "source": [
    "from vecstack import stacking"
   ]
  },
  {
   "cell_type": "code",
   "execution_count": 46,
   "metadata": {},
   "outputs": [
    {
     "name": "stdout",
     "output_type": "stream",
     "text": [
      "task:         [classification]\n",
      "n_classes:    [2]\n",
      "metric:       [log_loss]\n",
      "mode:         [oof_pred_bag]\n",
      "n_models:     [5]\n",
      "\n",
      "model  0:     [GradientBoostingClassifier]\n"
     ]
    },
    {
     "name": "stderr",
     "output_type": "stream",
     "text": [
      "C:\\Users\\Anson\\Anaconda3\\lib\\site-packages\\sklearn\\utils\\validation.py:761: DataConversionWarning: A column-vector y was passed when a 1d array was expected. Please change the shape of y to (n_samples, ), for example using ravel().\n",
      "  y = column_or_1d(y, warn=True)\n"
     ]
    },
    {
     "name": "stdout",
     "output_type": "stream",
     "text": [
      "    fold  0:  [0.13324257]\n",
      "    fold  1:  [0.13261242]\n",
      "    fold  2:  [0.13124180]\n",
      "    fold  3:  [0.12826465]\n",
      "    ----\n",
      "    MEAN:     [0.13134036] + [0.00191743]\n",
      "    FULL:     [0.13134051]\n",
      "\n",
      "model  1:     [XGBClassifier]\n",
      "    fold  0:  [0.19732199]\n",
      "    fold  1:  [0.18699652]\n",
      "    fold  2:  [0.19680479]\n",
      "    fold  3:  [0.19250725]\n",
      "    ----\n",
      "    MEAN:     [0.19340764] + [0.00414656]\n",
      "    FULL:     [0.19340760]\n",
      "\n",
      "model  2:     [LGBMClassifier]\n",
      "    fold  0:  [0.14144626]\n",
      "    fold  1:  [0.14048340]\n",
      "    fold  2:  [0.13844076]\n",
      "    fold  3:  [0.14027697]\n",
      "    ----\n",
      "    MEAN:     [0.14016185] + [0.00108726]\n",
      "    FULL:     [0.14016188]\n",
      "\n",
      "model  3:     [RandomForestClassifier]\n",
      "    fold  0:  [0.25364224]\n",
      "    fold  1:  [0.25156655]\n",
      "    fold  2:  [0.24037334]\n",
      "    fold  3:  [0.22170606]\n",
      "    ----\n",
      "    MEAN:     [0.24182205] + [0.01266317]\n",
      "    FULL:     [0.24182306]\n",
      "\n",
      "model  4:     [LogisticRegression]\n"
     ]
    },
    {
     "name": "stderr",
     "output_type": "stream",
     "text": [
      "C:\\Users\\Anson\\Anaconda3\\lib\\site-packages\\sklearn\\linear_model\\logistic.py:433: FutureWarning: Default solver will be changed to 'lbfgs' in 0.22. Specify a solver to silence this warning.\n",
      "  FutureWarning)\n"
     ]
    },
    {
     "name": "stdout",
     "output_type": "stream",
     "text": [
      "    fold  0:  [0.13980970]\n"
     ]
    },
    {
     "name": "stderr",
     "output_type": "stream",
     "text": [
      "C:\\Users\\Anson\\Anaconda3\\lib\\site-packages\\sklearn\\linear_model\\logistic.py:433: FutureWarning: Default solver will be changed to 'lbfgs' in 0.22. Specify a solver to silence this warning.\n",
      "  FutureWarning)\n"
     ]
    },
    {
     "name": "stdout",
     "output_type": "stream",
     "text": [
      "    fold  1:  [0.13681201]\n"
     ]
    },
    {
     "name": "stderr",
     "output_type": "stream",
     "text": [
      "C:\\Users\\Anson\\Anaconda3\\lib\\site-packages\\sklearn\\linear_model\\logistic.py:433: FutureWarning: Default solver will be changed to 'lbfgs' in 0.22. Specify a solver to silence this warning.\n",
      "  FutureWarning)\n"
     ]
    },
    {
     "name": "stdout",
     "output_type": "stream",
     "text": [
      "    fold  2:  [0.13704404]\n"
     ]
    },
    {
     "name": "stderr",
     "output_type": "stream",
     "text": [
      "C:\\Users\\Anson\\Anaconda3\\lib\\site-packages\\sklearn\\linear_model\\logistic.py:433: FutureWarning: Default solver will be changed to 'lbfgs' in 0.22. Specify a solver to silence this warning.\n",
      "  FutureWarning)\n"
     ]
    },
    {
     "name": "stdout",
     "output_type": "stream",
     "text": [
      "    fold  3:  [0.13490875]\n",
      "    ----\n",
      "    MEAN:     [0.13714362] + [0.00174803]\n",
      "    FULL:     [0.13714374]\n",
      "\n"
     ]
    }
   ],
   "source": [
    "# Initialize 1st level estimators\n",
    "models = [gdbc,gs_xgbc.best_estimator_,gs_lgbc.best_estimator_,gs_rfx.best_estimator_,lr]\n",
    "\n",
    "S_X_train, S_X_test = stacking(models, X_train, y_train, X_test, regression = False, \n",
    "                               metric = metrics.log_loss, n_folds = 4,needs_proba=True,stratified = True, shuffle = True, \n",
    "                               random_state = 42, verbose = 2)"
   ]
  },
  {
   "cell_type": "code",
   "execution_count": 47,
   "metadata": {},
   "outputs": [
    {
     "data": {
      "text/plain": [
       "((41061, 10), (17598, 10))"
      ]
     },
     "execution_count": 47,
     "metadata": {},
     "output_type": "execute_result"
    }
   ],
   "source": [
    "S_X_train.shape,S_X_test.shape,"
   ]
  },
  {
   "cell_type": "code",
   "execution_count": 48,
   "metadata": {},
   "outputs": [
    {
     "name": "stderr",
     "output_type": "stream",
     "text": [
      "C:\\Users\\Anson\\Anaconda3\\lib\\site-packages\\sklearn\\linear_model\\logistic.py:433: FutureWarning: Default solver will be changed to 'lbfgs' in 0.22. Specify a solver to silence this warning.\n",
      "  FutureWarning)\n",
      "C:\\Users\\Anson\\Anaconda3\\lib\\site-packages\\sklearn\\utils\\validation.py:761: DataConversionWarning: A column-vector y was passed when a 1d array was expected. Please change the shape of y to (n_samples, ), for example using ravel().\n",
      "  y = column_or_1d(y, warn=True)\n"
     ]
    }
   ],
   "source": [
    "# Initialize 2nd level model\n",
    "model = LogisticRegression(penalty='l1',C=0.5, random_state=42)\n",
    "    \n",
    "# Fit 2nd level model\n",
    "model = model.fit(S_X_train, y_train)\n",
    "\n",
    "# Predict\n",
    "y_pred = model.predict(S_X_test)\n",
    "y_pred_proba = model.predict_proba(S_X_test)[:,1]"
   ]
  },
  {
   "cell_type": "code",
   "execution_count": 49,
   "metadata": {},
   "outputs": [
    {
     "name": "stdout",
     "output_type": "stream",
     "text": [
      "R Square: 0.9708489601091033\n",
      "ROC AUC score: 0.7040974357276222\n",
      "F1 Square: 0.10471204188481675\n",
      "recall: 0.05671077504725898\n",
      "precision: 0.6818181818181818\n"
     ]
    }
   ],
   "source": [
    "print(\"R Square:\",metrics.accuracy_score(y_test, model.predict(S_X_test)))\n",
    "print(\"ROC AUC score:\",metrics.roc_auc_score(y_test,model.predict_proba(S_X_test)[:,1]))\n",
    "print(\"F1 Square:\",metrics.f1_score(y_test,model.predict(S_X_test)))\n",
    "print(\"recall:\",metrics.recall_score(y_test,model.predict(S_X_test)))\n",
    "print(\"precision:\",metrics.precision_score(y_test,model.predict(S_X_test)))"
   ]
  },
  {
   "cell_type": "code",
   "execution_count": 50,
   "metadata": {},
   "outputs": [
    {
     "data": {
      "text/plain": [
       "(NEXT_CC_APPLY    529.0\n",
       " dtype: float64, (17598, 1))"
      ]
     },
     "execution_count": 50,
     "metadata": {},
     "output_type": "execute_result"
    }
   ],
   "source": [
    "y_test.sum(), y_test.shape"
   ]
  },
  {
   "cell_type": "code",
   "execution_count": 52,
   "metadata": {},
   "outputs": [
    {
     "data": {
      "text/plain": [
       "(44.0, 556.5620625835295)"
      ]
     },
     "execution_count": 52,
     "metadata": {},
     "output_type": "execute_result"
    }
   ],
   "source": [
    "y_pred.sum(),y_pred_proba.sum()"
   ]
  },
  {
   "cell_type": "code",
   "execution_count": 54,
   "metadata": {},
   "outputs": [],
   "source": [
    "predict_stack = pd.DataFrame(y_pred_proba, columns=['CC_IND_P'])"
   ]
  },
  {
   "cell_type": "code",
   "execution_count": 69,
   "metadata": {},
   "outputs": [
    {
     "data": {
      "text/plain": [
       "0    17340\n",
       "1      258\n",
       "Name: CC_IND, dtype: int64"
      ]
     },
     "execution_count": 69,
     "metadata": {},
     "output_type": "execute_result"
    }
   ],
   "source": [
    "# Use trial and error, found 0.091 is the best threshold to max F1-score\n",
    "predict_stack['CC_IND']=np.where(predict_stack.CC_IND_P>0.091,1,0)\n",
    "predict_stack['CC_IND'].value_counts()"
   ]
  },
  {
   "cell_type": "code",
   "execution_count": 70,
   "metadata": {},
   "outputs": [
    {
     "name": "stdout",
     "output_type": "stream",
     "text": [
      "R Square: 0.9644846005227867\n",
      "ROC AUC score: 0.7040974357276222\n",
      "F1 Square: 0.20584498094027953\n",
      "recall: 0.15311909262759923\n",
      "precision: 0.313953488372093\n"
     ]
    }
   ],
   "source": [
    "# find max F1-score is 0.206 > default threshold F1-score 0.105\n",
    "print(\"R Square:\",metrics.accuracy_score(y_test, predict_stack['CC_IND']))\n",
    "print(\"ROC AUC score:\",metrics.roc_auc_score(y_test,predict_stack['CC_IND_P']))\n",
    "print(\"F1 Square:\",metrics.f1_score(y_test,predict_stack['CC_IND']))\n",
    "print(\"recall:\",metrics.recall_score(y_test,predict_stack['CC_IND']))\n",
    "print(\"precision:\",metrics.precision_score(y_test,predict_stack['CC_IND']))"
   ]
  },
  {
   "cell_type": "code",
   "execution_count": null,
   "metadata": {},
   "outputs": [],
   "source": []
  },
  {
   "cell_type": "code",
   "execution_count": 58,
   "metadata": {},
   "outputs": [
    {
     "name": "stdout",
     "output_type": "stream",
     "text": [
      "task:         [classification]\n",
      "n_classes:    [2]\n",
      "metric:       [log_loss]\n",
      "mode:         [oof_pred_bag]\n",
      "n_models:     [5]\n",
      "\n",
      "model  0:     [GradientBoostingClassifier]\n"
     ]
    },
    {
     "name": "stderr",
     "output_type": "stream",
     "text": [
      "C:\\Users\\Anson\\Anaconda3\\lib\\site-packages\\sklearn\\utils\\validation.py:761: DataConversionWarning: A column-vector y was passed when a 1d array was expected. Please change the shape of y to (n_samples, ), for example using ravel().\n",
      "  y = column_or_1d(y, warn=True)\n"
     ]
    },
    {
     "name": "stdout",
     "output_type": "stream",
     "text": [
      "    fold  0:  [0.12769764]\n",
      "    fold  1:  [0.12889492]\n",
      "    fold  2:  [0.12888525]\n",
      "    fold  3:  [0.12834189]\n",
      "    ----\n",
      "    MEAN:     [0.12845492] + [0.00049118]\n",
      "    FULL:     [0.12845493]\n",
      "\n",
      "model  1:     [XGBClassifier]\n",
      "    fold  0:  [0.17856513]\n",
      "    fold  1:  [0.18137374]\n",
      "    fold  2:  [0.18421944]\n",
      "    fold  3:  [0.18050162]\n",
      "    ----\n",
      "    MEAN:     [0.18116498] + [0.00203547]\n",
      "    FULL:     [0.18116499]\n",
      "\n",
      "model  2:     [LGBMClassifier]\n",
      "    fold  0:  [0.13285795]\n",
      "    fold  1:  [0.13415366]\n",
      "    fold  2:  [0.13531505]\n",
      "    fold  3:  [0.13576613]\n",
      "    ----\n",
      "    MEAN:     [0.13452320] + [0.00112711]\n",
      "    FULL:     [0.13452318]\n",
      "\n",
      "model  3:     [RandomForestClassifier]\n",
      "    fold  0:  [0.24326075]\n",
      "    fold  1:  [0.23422419]\n",
      "    fold  2:  [0.27571223]\n",
      "    fold  3:  [0.24196808]\n",
      "    ----\n",
      "    MEAN:     [0.24879131] + [0.01592232]\n",
      "    FULL:     [0.24879143]\n",
      "\n",
      "model  4:     [LogisticRegression]\n"
     ]
    },
    {
     "name": "stderr",
     "output_type": "stream",
     "text": [
      "C:\\Users\\Anson\\Anaconda3\\lib\\site-packages\\sklearn\\linear_model\\logistic.py:433: FutureWarning: Default solver will be changed to 'lbfgs' in 0.22. Specify a solver to silence this warning.\n",
      "  FutureWarning)\n"
     ]
    },
    {
     "name": "stdout",
     "output_type": "stream",
     "text": [
      "    fold  0:  [0.13303332]\n"
     ]
    },
    {
     "name": "stderr",
     "output_type": "stream",
     "text": [
      "C:\\Users\\Anson\\Anaconda3\\lib\\site-packages\\sklearn\\linear_model\\logistic.py:433: FutureWarning: Default solver will be changed to 'lbfgs' in 0.22. Specify a solver to silence this warning.\n",
      "  FutureWarning)\n"
     ]
    },
    {
     "name": "stdout",
     "output_type": "stream",
     "text": [
      "    fold  1:  [0.13252424]\n"
     ]
    },
    {
     "name": "stderr",
     "output_type": "stream",
     "text": [
      "C:\\Users\\Anson\\Anaconda3\\lib\\site-packages\\sklearn\\linear_model\\logistic.py:433: FutureWarning: Default solver will be changed to 'lbfgs' in 0.22. Specify a solver to silence this warning.\n",
      "  FutureWarning)\n"
     ]
    },
    {
     "name": "stdout",
     "output_type": "stream",
     "text": [
      "    fold  2:  [0.13457919]\n"
     ]
    },
    {
     "name": "stderr",
     "output_type": "stream",
     "text": [
      "C:\\Users\\Anson\\Anaconda3\\lib\\site-packages\\sklearn\\linear_model\\logistic.py:433: FutureWarning: Default solver will be changed to 'lbfgs' in 0.22. Specify a solver to silence this warning.\n",
      "  FutureWarning)\n"
     ]
    },
    {
     "name": "stdout",
     "output_type": "stream",
     "text": [
      "    fold  3:  [0.13532657]\n",
      "    ----\n",
      "    MEAN:     [0.13386583] + [0.00113309]\n",
      "    FULL:     [0.13386580]\n",
      "\n"
     ]
    }
   ],
   "source": [
    "# Initialize 1st level estimators\n",
    "models = [gdbc,gs_xgbc.best_estimator_,gs_lgbc.best_estimator_,gs_rfx.best_estimator_,lr]\n",
    "\n",
    "S_train, S_test = stacking(models, train, Y, test, regression = False, \n",
    "                               metric = metrics.log_loss, n_folds = 4,needs_proba=True,stratified = True, shuffle = True, \n",
    "                               random_state = 42, verbose = 2)"
   ]
  },
  {
   "cell_type": "code",
   "execution_count": 59,
   "metadata": {},
   "outputs": [
    {
     "name": "stderr",
     "output_type": "stream",
     "text": [
      "C:\\Users\\Anson\\Anaconda3\\lib\\site-packages\\sklearn\\linear_model\\logistic.py:433: FutureWarning: Default solver will be changed to 'lbfgs' in 0.22. Specify a solver to silence this warning.\n",
      "  FutureWarning)\n",
      "C:\\Users\\Anson\\Anaconda3\\lib\\site-packages\\sklearn\\utils\\validation.py:761: DataConversionWarning: A column-vector y was passed when a 1d array was expected. Please change the shape of y to (n_samples, ), for example using ravel().\n",
      "  y = column_or_1d(y, warn=True)\n"
     ]
    }
   ],
   "source": [
    "# Initialize 2nd level model\n",
    "model2 = LogisticRegression(penalty='l1',C=0.5, random_state=42)\n",
    "\n",
    "# Fit 2nd level model\n",
    "model2 = model2.fit(S_train, Y)\n",
    "\n",
    "# Predict\n",
    "y_pred2 = model2.predict(S_test)\n",
    "y_pred2_proba = model2.predict_proba(S_test)[:,1]"
   ]
  },
  {
   "cell_type": "code",
   "execution_count": 60,
   "metadata": {},
   "outputs": [
    {
     "data": {
      "text/plain": [
       "(113.0, 1058.2077113061787)"
      ]
     },
     "execution_count": 60,
     "metadata": {},
     "output_type": "execute_result"
    }
   ],
   "source": [
    "y_pred2.sum(),y_pred2_proba.sum()"
   ]
  },
  {
   "cell_type": "code",
   "execution_count": 61,
   "metadata": {},
   "outputs": [
    {
     "data": {
      "text/plain": [
       "array([0.02470382, 0.02040724, 0.02432869, ..., 0.02855467, 0.02674875,\n",
       "       0.02596341])"
      ]
     },
     "execution_count": 61,
     "metadata": {},
     "output_type": "execute_result"
    }
   ],
   "source": [
    "y_pred2_proba"
   ]
  },
  {
   "cell_type": "code",
   "execution_count": 62,
   "metadata": {},
   "outputs": [],
   "source": [
    "predict_stack2 = pd.DataFrame(y_pred2_proba, columns=['CC_IND_P'])"
   ]
  },
  {
   "cell_type": "code",
   "execution_count": 71,
   "metadata": {},
   "outputs": [
    {
     "data": {
      "text/plain": [
       "0    29174\n",
       "1      826\n",
       "Name: CC_IND, dtype: int64"
      ]
     },
     "execution_count": 71,
     "metadata": {},
     "output_type": "execute_result"
    }
   ],
   "source": [
    "predict_stack2['CC_IND']=np.where(predict_stack2.CC_IND_P>0.091,1,0)\n",
    "predict_stack2['CC_IND'].value_counts()"
   ]
  },
  {
   "cell_type": "code",
   "execution_count": 72,
   "metadata": {},
   "outputs": [],
   "source": [
    "predict_stack2.to_csv('CC_result.csv', index=False)"
   ]
  },
  {
   "cell_type": "code",
   "execution_count": null,
   "metadata": {},
   "outputs": [],
   "source": []
  }
 ],
 "metadata": {
  "kernelspec": {
   "display_name": "Python 3",
   "language": "python",
   "name": "python3"
  },
  "language_info": {
   "codemirror_mode": {
    "name": "ipython",
    "version": 3
   },
   "file_extension": ".py",
   "mimetype": "text/x-python",
   "name": "python",
   "nbconvert_exporter": "python",
   "pygments_lexer": "ipython3",
   "version": "3.6.5"
  }
 },
 "nbformat": 4,
 "nbformat_minor": 2
}
