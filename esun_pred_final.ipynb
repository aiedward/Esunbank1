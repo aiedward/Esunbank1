{
 "cells": [
  {
   "cell_type": "code",
   "execution_count": 1,
   "metadata": {},
   "outputs": [],
   "source": [
    "import numpy as np \n",
    "import pandas as pd "
   ]
  },
  {
   "cell_type": "code",
   "execution_count": 2,
   "metadata": {},
   "outputs": [],
   "source": [
    "df_LN = pd.read_csv(\"LN_result.csv\",encoding = \"utf8\") \n",
    "df_WM = pd.read_csv(\"WM_result.csv\",encoding = \"utf8\") \n",
    "df_CC = pd.read_csv(\"CC_result.csv\",encoding = \"utf8\") \n",
    "df_FX = pd.read_csv(\"FX_result.csv\",encoding = \"utf8\") "
   ]
  },
  {
   "cell_type": "code",
   "execution_count": 3,
   "metadata": {},
   "outputs": [],
   "source": [
    "df_submit = pd.read_csv(\"../dataset/TBN_Y_ZERO.csv\",encoding = \"utf8\") "
   ]
  },
  {
   "cell_type": "code",
   "execution_count": 4,
   "metadata": {},
   "outputs": [],
   "source": [
    "ln=df_LN[['LN_IND']]\n",
    "cc=df_CC[['CC_IND']]\n",
    "fx=df_FX[['FX_IND']]\n",
    "wm=df_WM[['WM_IND']]"
   ]
  },
  {
   "cell_type": "code",
   "execution_count": 6,
   "metadata": {},
   "outputs": [],
   "source": [
    "df_submit=pd.concat([df_submit[['CUST_NO']],cc,fx,ln,wm], axis=1)\n",
    "df_submit.to_csv('TBN_Y_ZERO.csv', index=False)"
   ]
  },
  {
   "cell_type": "code",
   "execution_count": null,
   "metadata": {},
   "outputs": [],
   "source": []
  }
 ],
 "metadata": {
  "kernelspec": {
   "display_name": "Python 3",
   "language": "python",
   "name": "python3"
  },
  "language_info": {
   "codemirror_mode": {
    "name": "ipython",
    "version": 3
   },
   "file_extension": ".py",
   "mimetype": "text/x-python",
   "name": "python",
   "nbconvert_exporter": "python",
   "pygments_lexer": "ipython3",
   "version": "3.6.5"
  }
 },
 "nbformat": 4,
 "nbformat_minor": 2
}
